{
 "cells": [
  {
   "cell_type": "markdown",
   "id": "495b8bf4-417d-4d7d-960a-77fb9e26d8cb",
   "metadata": {},
   "source": [
    "# Data Analytics final project\n",
    "\n",
    "*Dominik Woźniak, 2022*"
   ]
  },
  {
   "cell_type": "markdown",
   "id": "849ff76b-2983-4c79-9a0d-71014b6387ca",
   "metadata": {},
   "source": [
    "### Dataset\n",
    "\n",
    "The data was extracted from the 1974 Motor Trend US magazine, and comprises fuel consumption and 10 aspects of automobile design and performance for 32 automobiles (1973--74 models).\n",
    "\n",
    "https://www.kaggle.com/datasets/ruiromanini/mtcars"
   ]
  },
  {
   "cell_type": "code",
   "execution_count": 73,
   "id": "06df873a-fee2-4188-9773-58306a7d43af",
   "metadata": {},
   "outputs": [],
   "source": [
    "import arviz as az\n",
    "import pandas as pd\n",
    "import numpy as np\n",
    "import matplotlib.pyplot as plt\n",
    "import seaborn as sns"
   ]
  },
  {
   "cell_type": "code",
   "execution_count": 2,
   "id": "88f6811a-c897-45d4-bab3-95b7265a84c5",
   "metadata": {},
   "outputs": [],
   "source": [
    "data = pd.read_csv('data.csv')"
   ]
  },
  {
   "cell_type": "code",
   "execution_count": 3,
   "id": "56c2f262-d592-453d-b6c7-691438b33d26",
   "metadata": {},
   "outputs": [
    {
     "data": {
      "text/html": [
       "<div>\n",
       "<style scoped>\n",
       "    .dataframe tbody tr th:only-of-type {\n",
       "        vertical-align: middle;\n",
       "    }\n",
       "\n",
       "    .dataframe tbody tr th {\n",
       "        vertical-align: top;\n",
       "    }\n",
       "\n",
       "    .dataframe thead th {\n",
       "        text-align: right;\n",
       "    }\n",
       "</style>\n",
       "<table border=\"1\" class=\"dataframe\">\n",
       "  <thead>\n",
       "    <tr style=\"text-align: right;\">\n",
       "      <th></th>\n",
       "      <th>model</th>\n",
       "      <th>mpg</th>\n",
       "      <th>cyl</th>\n",
       "      <th>disp</th>\n",
       "      <th>hp</th>\n",
       "      <th>drat</th>\n",
       "      <th>wt</th>\n",
       "      <th>qsec</th>\n",
       "      <th>vs</th>\n",
       "      <th>am</th>\n",
       "      <th>gear</th>\n",
       "      <th>carb</th>\n",
       "    </tr>\n",
       "  </thead>\n",
       "  <tbody>\n",
       "    <tr>\n",
       "      <th>0</th>\n",
       "      <td>Mazda RX4</td>\n",
       "      <td>21.0</td>\n",
       "      <td>6</td>\n",
       "      <td>160.0</td>\n",
       "      <td>110</td>\n",
       "      <td>3.90</td>\n",
       "      <td>2.620</td>\n",
       "      <td>16.46</td>\n",
       "      <td>0</td>\n",
       "      <td>1</td>\n",
       "      <td>4</td>\n",
       "      <td>4</td>\n",
       "    </tr>\n",
       "    <tr>\n",
       "      <th>1</th>\n",
       "      <td>Mazda RX4 Wag</td>\n",
       "      <td>21.0</td>\n",
       "      <td>6</td>\n",
       "      <td>160.0</td>\n",
       "      <td>110</td>\n",
       "      <td>3.90</td>\n",
       "      <td>2.875</td>\n",
       "      <td>17.02</td>\n",
       "      <td>0</td>\n",
       "      <td>1</td>\n",
       "      <td>4</td>\n",
       "      <td>4</td>\n",
       "    </tr>\n",
       "    <tr>\n",
       "      <th>2</th>\n",
       "      <td>Datsun 710</td>\n",
       "      <td>22.8</td>\n",
       "      <td>4</td>\n",
       "      <td>108.0</td>\n",
       "      <td>93</td>\n",
       "      <td>3.85</td>\n",
       "      <td>2.320</td>\n",
       "      <td>18.61</td>\n",
       "      <td>1</td>\n",
       "      <td>1</td>\n",
       "      <td>4</td>\n",
       "      <td>1</td>\n",
       "    </tr>\n",
       "    <tr>\n",
       "      <th>3</th>\n",
       "      <td>Hornet 4 Drive</td>\n",
       "      <td>21.4</td>\n",
       "      <td>6</td>\n",
       "      <td>258.0</td>\n",
       "      <td>110</td>\n",
       "      <td>3.08</td>\n",
       "      <td>3.215</td>\n",
       "      <td>19.44</td>\n",
       "      <td>1</td>\n",
       "      <td>0</td>\n",
       "      <td>3</td>\n",
       "      <td>1</td>\n",
       "    </tr>\n",
       "    <tr>\n",
       "      <th>4</th>\n",
       "      <td>Hornet Sportabout</td>\n",
       "      <td>18.7</td>\n",
       "      <td>8</td>\n",
       "      <td>360.0</td>\n",
       "      <td>175</td>\n",
       "      <td>3.15</td>\n",
       "      <td>3.440</td>\n",
       "      <td>17.02</td>\n",
       "      <td>0</td>\n",
       "      <td>0</td>\n",
       "      <td>3</td>\n",
       "      <td>2</td>\n",
       "    </tr>\n",
       "  </tbody>\n",
       "</table>\n",
       "</div>"
      ],
      "text/plain": [
       "               model   mpg  cyl   disp   hp  drat     wt   qsec  vs  am  gear  \\\n",
       "0          Mazda RX4  21.0    6  160.0  110  3.90  2.620  16.46   0   1     4   \n",
       "1      Mazda RX4 Wag  21.0    6  160.0  110  3.90  2.875  17.02   0   1     4   \n",
       "2         Datsun 710  22.8    4  108.0   93  3.85  2.320  18.61   1   1     4   \n",
       "3     Hornet 4 Drive  21.4    6  258.0  110  3.08  3.215  19.44   1   0     3   \n",
       "4  Hornet Sportabout  18.7    8  360.0  175  3.15  3.440  17.02   0   0     3   \n",
       "\n",
       "   carb  \n",
       "0     4  \n",
       "1     4  \n",
       "2     1  \n",
       "3     1  \n",
       "4     2  "
      ]
     },
     "execution_count": 3,
     "metadata": {},
     "output_type": "execute_result"
    }
   ],
   "source": [
    "data.head()"
   ]
  },
  {
   "cell_type": "code",
   "execution_count": 4,
   "id": "87c5873f-8378-497c-a05b-c76b4b6e611e",
   "metadata": {},
   "outputs": [
    {
     "data": {
      "image/png": "[encoded data removed]",
      "text/plain": [
       "<Figure size 864x432 with 1 Axes>"
      ]
     },
     "metadata": {
      "needs_background": "light"
     },
     "output_type": "display_data"
    }
   ],
   "source": [
    "plt.figure(figsize=(12,6))\n",
    "plt.scatter(data['wt'], data['mpg'])\n",
    "plt.xlabel('weight (1000lb)')\n",
    "plt.ylabel('mpg (miles per gallon)')\n",
    "plt.show()"
   ]
  },
  {
   "cell_type": "code",
   "execution_count": 72,
   "id": "ac46c0dc-e663-4e94-8790-00031c0cf101",
   "metadata": {},
   "outputs": [],
   "source": [
    "def plot_trace(param, param_name='parameter'):\n",
    "    mean = np.mean(param)\n",
    "    median = np.median(param)\n",
    "    cred_min, cred_max = np.percentile(param, 2.5), np.percentile(param, 97.5)\n",
    "    \n",
    "    plt.subplot(2,1,1)\n",
    "    plt.plot(param)\n",
    "    plt.xlabel('samples')\n",
    "    plt.ylabel(param_name)\n",
    "    plt.axhline(mean, color='r', lw=2, linestyle='--')\n",
    "    plt.axhline(median, color='c', lw=2, linestyle='--')\n",
    "    plt.axhline(cred_min, linestyle=':', color='k', alpha=0.2)\n",
    "    plt.axhline(cred_max, linestyle=':', color='k', alpha=0.2)\n",
    "    plt.title('Trace and Posterior Distribution for {}'.format(param_name))\n",
    "\n",
    "    plt.subplot(2,1,2)\n",
    "    plt.hist(param, 30, density=True); sns.kdeplot(param, shade=True)\n",
    "    plt.xlabel(param_name)\n",
    "    plt.ylabel('density')\n",
    "    plt.axvline(mean, color='r', lw=2, linestyle='--',label='mean')\n",
    "    plt.axvline(median, color='c', lw=2, linestyle='--',label='median')\n",
    "    plt.axvline(cred_min, linestyle=':', color='k', alpha=0.2, label=r'95\\% CI')\n",
    "    plt.axvline(cred_max, linestyle=':', color='k', alpha=0.2)\n",
    "    \n",
    "    plt.gcf().tight_layout()\n",
    "    plt.legend()\n",
    "    \n",
    "def subplot_trace(ax, param, param_name='parameter', x=0, y=0):\n",
    "    mean = np.mean(param)\n",
    "    median = np.median(param)\n",
    "    cred_min, cred_max = np.percentile(param, 2.5), np.percentile(param, 97.5)\n",
    "    \n",
    "    ax[x, y].plot(param)\n",
    "    ax[x, y].axhline(mean, color='r', lw=2, linestyle='--')\n",
    "    ax[x, y].axhline(median, color='c', lw=2, linestyle='--')\n",
    "    ax[x, y].axhline(cred_min, linestyle=':', color='k', alpha=0.2)\n",
    "    ax[x, y].axhline(cred_max, linestyle=':', color='k', alpha=0.2)\n",
    "    ax[x, y].set_title(param_name)"
   ]
  },
  {
   "cell_type": "markdown",
   "id": "beac45f1-a36c-4985-9479-1499b6a599e6",
   "metadata": {},
   "source": [
    "### Build a Model"
   ]
  },
  {
   "cell_type": "code",
   "execution_count": 5,
   "id": "84b16443-b127-4141-8a5b-05998b903657",
   "metadata": {},
   "outputs": [],
   "source": [
    "from cmdstanpy import CmdStanModel"
   ]
  },
  {
   "cell_type": "code",
   "execution_count": 6,
   "id": "3b093730-8f27-422d-aea2-f54c2c93a704",
   "metadata": {},
   "outputs": [
    {
     "name": "stderr",
     "output_type": "stream",
     "text": [
      "INFO:cmdstanpy:found newer exe file, not recompiling\n"
     ]
    }
   ],
   "source": [
    "model = CmdStanModel(stan_file='stan/single_predictor.stan')"
   ]
  },
  {
   "cell_type": "code",
   "execution_count": 7,
   "id": "0d438641-a64a-4d48-8c39-16682deadb8d",
   "metadata": {},
   "outputs": [],
   "source": [
    "N = data.shape[0]\n",
    "\n",
    "model_data = {\n",
    "    \"mpg\": data.mpg,\n",
    "    \"weight\": data.wt,\n",
    "    \"n\": N\n",
    "}"
   ]
  },
  {
   "cell_type": "code",
   "execution_count": 8,
   "id": "fa6f6737-6e3d-4caf-92f7-620cdd9d38ec",
   "metadata": {},
   "outputs": [
    {
     "name": "stderr",
     "output_type": "stream",
     "text": [
      "INFO:cmdstanpy:CmdStan start procesing\n"
     ]
    },
    {
     "data": {
      "application/vnd.jupyter.widget-view+json": {
       "model_id": "2f933386ccd44f9585d4d1c4ea46f7a3",
       "version_major": 2,
       "version_minor": 0
      },
      "text/plain": [
       "chain 1 |          | 00:00 Status"
      ]
     },
     "metadata": {},
     "output_type": "display_data"
    },
    {
     "data": {
      "application/vnd.jupyter.widget-view+json": {
       "model_id": "caafcb47bc40489d9fe571d1b6c5e5b1",
       "version_major": 2,
       "version_minor": 0
      },
      "text/plain": [
       "chain 2 |          | 00:00 Status"
      ]
     },
     "metadata": {},
     "output_type": "display_data"
    },
    {
     "data": {
      "application/vnd.jupyter.widget-view+json": {
       "model_id": "a2a76f48d21a4292ba86bbe2291247ab",
       "version_major": 2,
       "version_minor": 0
      },
      "text/plain": [
       "chain 3 |          | 00:00 Status"
      ]
     },
     "metadata": {},
     "output_type": "display_data"
    },
    {
     "data": {
      "application/vnd.jupyter.widget-view+json": {
       "model_id": "429afa85733b41d7be5fa3cd5a687db6",
       "version_major": 2,
       "version_minor": 0
      },
      "text/plain": [
       "chain 4 |          | 00:00 Status"
      ]
     },
     "metadata": {},
     "output_type": "display_data"
    },
    {
     "name": "stdout",
     "output_type": "stream",
     "text": [
      "                                                                                                                                                                                                                                                                                                                                "
     ]
    },
    {
     "name": "stderr",
     "output_type": "stream",
     "text": [
      "INFO:cmdstanpy:CmdStan done processing.\n"
     ]
    },
    {
     "name": "stdout",
     "output_type": "stream",
     "text": [
      "\n"
     ]
    }
   ],
   "source": [
    "fit = model.sample(data=model_data)"
   ]
  },
  {
   "cell_type": "code",
   "execution_count": 9,
   "id": "e54e48d3-6061-42e7-a6b4-57af61894f13",
   "metadata": {},
   "outputs": [
    {
     "data": {
      "text/html": [
       "<div>\n",
       "<style scoped>\n",
       "    .dataframe tbody tr th:only-of-type {\n",
       "        vertical-align: middle;\n",
       "    }\n",
       "\n",
       "    .dataframe tbody tr th {\n",
       "        vertical-align: top;\n",
       "    }\n",
       "\n",
       "    .dataframe thead th {\n",
       "        text-align: right;\n",
       "    }\n",
       "</style>\n",
       "<table border=\"1\" class=\"dataframe\">\n",
       "  <thead>\n",
       "    <tr style=\"text-align: right;\">\n",
       "      <th></th>\n",
       "      <th>lp__</th>\n",
       "      <th>accept_stat__</th>\n",
       "      <th>stepsize__</th>\n",
       "      <th>treedepth__</th>\n",
       "      <th>n_leapfrog__</th>\n",
       "      <th>divergent__</th>\n",
       "      <th>energy__</th>\n",
       "      <th>alpha</th>\n",
       "      <th>beta_w</th>\n",
       "      <th>sigma</th>\n",
       "    </tr>\n",
       "  </thead>\n",
       "  <tbody>\n",
       "    <tr>\n",
       "      <th>0</th>\n",
       "      <td>-52.8671</td>\n",
       "      <td>1.000000</td>\n",
       "      <td>0.218965</td>\n",
       "      <td>2.0</td>\n",
       "      <td>3.0</td>\n",
       "      <td>0.0</td>\n",
       "      <td>55.0441</td>\n",
       "      <td>35.9134</td>\n",
       "      <td>-4.94519</td>\n",
       "      <td>3.90088</td>\n",
       "    </tr>\n",
       "    <tr>\n",
       "      <th>1</th>\n",
       "      <td>-51.4242</td>\n",
       "      <td>0.966094</td>\n",
       "      <td>0.218965</td>\n",
       "      <td>4.0</td>\n",
       "      <td>15.0</td>\n",
       "      <td>0.0</td>\n",
       "      <td>53.8642</td>\n",
       "      <td>37.1752</td>\n",
       "      <td>-5.49113</td>\n",
       "      <td>3.24231</td>\n",
       "    </tr>\n",
       "    <tr>\n",
       "      <th>2</th>\n",
       "      <td>-51.6833</td>\n",
       "      <td>0.995727</td>\n",
       "      <td>0.218965</td>\n",
       "      <td>3.0</td>\n",
       "      <td>15.0</td>\n",
       "      <td>0.0</td>\n",
       "      <td>52.7520</td>\n",
       "      <td>39.1618</td>\n",
       "      <td>-5.71727</td>\n",
       "      <td>3.14062</td>\n",
       "    </tr>\n",
       "    <tr>\n",
       "      <th>3</th>\n",
       "      <td>-51.1976</td>\n",
       "      <td>0.932364</td>\n",
       "      <td>0.218965</td>\n",
       "      <td>4.0</td>\n",
       "      <td>15.0</td>\n",
       "      <td>0.0</td>\n",
       "      <td>52.5102</td>\n",
       "      <td>38.9449</td>\n",
       "      <td>-5.86447</td>\n",
       "      <td>2.80790</td>\n",
       "    </tr>\n",
       "    <tr>\n",
       "      <th>4</th>\n",
       "      <td>-51.5169</td>\n",
       "      <td>0.998849</td>\n",
       "      <td>0.218965</td>\n",
       "      <td>3.0</td>\n",
       "      <td>7.0</td>\n",
       "      <td>0.0</td>\n",
       "      <td>51.5974</td>\n",
       "      <td>39.4203</td>\n",
       "      <td>-6.00168</td>\n",
       "      <td>2.79972</td>\n",
       "    </tr>\n",
       "  </tbody>\n",
       "</table>\n",
       "</div>"
      ],
      "text/plain": [
       "      lp__  accept_stat__  stepsize__  treedepth__  n_leapfrog__  divergent__  \\\n",
       "0 -52.8671       1.000000    0.218965          2.0           3.0          0.0   \n",
       "1 -51.4242       0.966094    0.218965          4.0          15.0          0.0   \n",
       "2 -51.6833       0.995727    0.218965          3.0          15.0          0.0   \n",
       "3 -51.1976       0.932364    0.218965          4.0          15.0          0.0   \n",
       "4 -51.5169       0.998849    0.218965          3.0           7.0          0.0   \n",
       "\n",
       "   energy__    alpha   beta_w    sigma  \n",
       "0   55.0441  35.9134 -4.94519  3.90088  \n",
       "1   53.8642  37.1752 -5.49113  3.24231  \n",
       "2   52.7520  39.1618 -5.71727  3.14062  \n",
       "3   52.5102  38.9449 -5.86447  2.80790  \n",
       "4   51.5974  39.4203 -6.00168  2.79972  "
      ]
     },
     "execution_count": 9,
     "metadata": {},
     "output_type": "execute_result"
    }
   ],
   "source": [
    "draws = fit.draws_pd()\n",
    "draws.head()"
   ]
  },
  {
   "cell_type": "code",
   "execution_count": 10,
   "id": "6b72a250-787a-4761-bf40-9cf93eed3a55",
   "metadata": {},
   "outputs": [
    {
     "data": {
      "text/html": [
       "<div>\n",
       "<style scoped>\n",
       "    .dataframe tbody tr th:only-of-type {\n",
       "        vertical-align: middle;\n",
       "    }\n",
       "\n",
       "    .dataframe tbody tr th {\n",
       "        vertical-align: top;\n",
       "    }\n",
       "\n",
       "    .dataframe thead th {\n",
       "        text-align: right;\n",
       "    }\n",
       "</style>\n",
       "<table border=\"1\" class=\"dataframe\">\n",
       "  <thead>\n",
       "    <tr style=\"text-align: right;\">\n",
       "      <th></th>\n",
       "      <th>Mean</th>\n",
       "      <th>MCSE</th>\n",
       "      <th>StdDev</th>\n",
       "      <th>5%</th>\n",
       "      <th>50%</th>\n",
       "      <th>95%</th>\n",
       "      <th>N_Eff</th>\n",
       "      <th>N_Eff/s</th>\n",
       "      <th>R_hat</th>\n",
       "    </tr>\n",
       "    <tr>\n",
       "      <th>name</th>\n",
       "      <th></th>\n",
       "      <th></th>\n",
       "      <th></th>\n",
       "      <th></th>\n",
       "      <th></th>\n",
       "      <th></th>\n",
       "      <th></th>\n",
       "      <th></th>\n",
       "      <th></th>\n",
       "    </tr>\n",
       "  </thead>\n",
       "  <tbody>\n",
       "    <tr>\n",
       "      <th>lp__</th>\n",
       "      <td>-52.0</td>\n",
       "      <td>0.034</td>\n",
       "      <td>1.20</td>\n",
       "      <td>-55.0</td>\n",
       "      <td>-52.0</td>\n",
       "      <td>-51.0</td>\n",
       "      <td>1300.0</td>\n",
       "      <td>5600.0</td>\n",
       "      <td>1.0</td>\n",
       "    </tr>\n",
       "    <tr>\n",
       "      <th>alpha</th>\n",
       "      <td>37.0</td>\n",
       "      <td>0.050</td>\n",
       "      <td>1.90</td>\n",
       "      <td>34.0</td>\n",
       "      <td>37.0</td>\n",
       "      <td>40.0</td>\n",
       "      <td>1400.0</td>\n",
       "      <td>5900.0</td>\n",
       "      <td>1.0</td>\n",
       "    </tr>\n",
       "    <tr>\n",
       "      <th>beta_w</th>\n",
       "      <td>-5.4</td>\n",
       "      <td>0.015</td>\n",
       "      <td>0.56</td>\n",
       "      <td>-6.3</td>\n",
       "      <td>-5.3</td>\n",
       "      <td>-4.5</td>\n",
       "      <td>1400.0</td>\n",
       "      <td>6000.0</td>\n",
       "      <td>1.0</td>\n",
       "    </tr>\n",
       "    <tr>\n",
       "      <th>sigma</th>\n",
       "      <td>3.2</td>\n",
       "      <td>0.010</td>\n",
       "      <td>0.41</td>\n",
       "      <td>2.6</td>\n",
       "      <td>3.1</td>\n",
       "      <td>3.9</td>\n",
       "      <td>1600.0</td>\n",
       "      <td>6900.0</td>\n",
       "      <td>1.0</td>\n",
       "    </tr>\n",
       "  </tbody>\n",
       "</table>\n",
       "</div>"
      ],
      "text/plain": [
       "        Mean   MCSE  StdDev    5%   50%   95%   N_Eff  N_Eff/s  R_hat\n",
       "name                                                                 \n",
       "lp__   -52.0  0.034    1.20 -55.0 -52.0 -51.0  1300.0   5600.0    1.0\n",
       "alpha   37.0  0.050    1.90  34.0  37.0  40.0  1400.0   5900.0    1.0\n",
       "beta_w  -5.4  0.015    0.56  -6.3  -5.3  -4.5  1400.0   6000.0    1.0\n",
       "sigma    3.2  0.010    0.41   2.6   3.1   3.9  1600.0   6900.0    1.0"
      ]
     },
     "execution_count": 10,
     "metadata": {},
     "output_type": "execute_result"
    }
   ],
   "source": [
    "fit.summary()"
   ]
  },
  {
   "cell_type": "code",
   "execution_count": 11,
   "id": "791df3a0-5aa1-4510-aa15-98ae1b32c27f",
   "metadata": {},
   "outputs": [],
   "source": [
    "alpha = draws['alpha']\n",
    "beta = draws['beta_w']\n",
    "sigma = draws['sigma']"
   ]
  },
  {
   "cell_type": "code",
   "execution_count": 12,
   "id": "9dc6af37-07ac-479b-acad-b83559057dbd",
   "metadata": {},
   "outputs": [],
   "source": [
    "alpha_mean = draws['alpha'].mean()\n",
    "beta_mean = draws['beta_w'].mean()\n",
    "sigma_mean = draws['sigma'].mean()"
   ]
  },
  {
   "cell_type": "code",
   "execution_count": 13,
   "id": "87447f3d-308c-4cf6-81a0-a300c11494a6",
   "metadata": {},
   "outputs": [
    {
     "data": {
      "image/png": "[encoded data removed]",
      "text/plain": [
       "<Figure size 864x432 with 1 Axes>"
      ]
     },
     "metadata": {
      "needs_background": "light"
     },
     "output_type": "display_data"
    }
   ],
   "source": [
    "def show_regression(alpha, beta, alpha_mean, beta_mean):\n",
    "    x_min, x_max = 0, 8\n",
    "    x_plot = np.linspace(x_min, x_max, 100)\n",
    "\n",
    "    plt.figure(figsize=(12,6))\n",
    "    for i in np.random.randint(0, len(alpha), 1000):\n",
    "        plt.plot(x_plot, alpha[i] + beta[i] * x_plot, color='lightsteelblue', alpha=0.005)\n",
    "\n",
    "    plt.plot(x_plot, alpha_mean + beta_mean * x_plot)\n",
    "    plt.scatter(data['wt'], data['mpg'], color='r')\n",
    "    plt.xlabel('weight (1000lb)')\n",
    "    plt.ylabel('mpg (miles per gallon)')\n",
    "    plt.title('Fitted regression line')\n",
    "    plt.show()\n",
    "    \n",
    "show_regression(alpha, beta, alpha_mean, beta_mean)"
   ]
  },
  {
   "cell_type": "markdown",
   "id": "46062267-8c09-4eba-bc5c-d2536048595b",
   "metadata": {},
   "source": [
    "- Alpha for a car with a weight of 0, the expected mpg is 37.37. Weight of zero is impossible. It will be limited in the next model.\n",
    "Comparing two cars who differ by 1000 pounds, the model predicts a difference of 5.4 miles per gallon.\n",
    "\n",
    "- The first change that can be made to the model is center our weight variable so that we can get a more meaningful interpretation of the intercept parameter alpha. We can accomplish this by subtracting the mean from each observation. This will change the interpretation of the intercept to be the average MPG when weight is held constant at it’s average value.\n",
    "\n",
    "- The model predicts miles per gallon to be 3.2.\n",
    "\n",
    "- `lp__` - logarithm of the posterior density. This parameter can be used in various ways for model evaluation and comparison."
   ]
  },
  {
   "cell_type": "markdown",
   "id": "5ffbd60f-162e-411b-881b-79105eb00b69",
   "metadata": {},
   "source": [
    "**Center weight:**"
   ]
  },
  {
   "cell_type": "code",
   "execution_count": 14,
   "id": "5806c24a-da33-47b7-8e34-383bca3b8d51",
   "metadata": {},
   "outputs": [],
   "source": [
    "data['wt_center'] = data['wt'] - data['wt'].mean()"
   ]
  },
  {
   "cell_type": "code",
   "execution_count": 15,
   "id": "2635ec7f-82b9-44e6-8a90-a73585fe1d10",
   "metadata": {},
   "outputs": [
    {
     "data": {
      "text/html": [
       "<div>\n",
       "<style scoped>\n",
       "    .dataframe tbody tr th:only-of-type {\n",
       "        vertical-align: middle;\n",
       "    }\n",
       "\n",
       "    .dataframe tbody tr th {\n",
       "        vertical-align: top;\n",
       "    }\n",
       "\n",
       "    .dataframe thead th {\n",
       "        text-align: right;\n",
       "    }\n",
       "</style>\n",
       "<table border=\"1\" class=\"dataframe\">\n",
       "  <thead>\n",
       "    <tr style=\"text-align: right;\">\n",
       "      <th></th>\n",
       "      <th>model</th>\n",
       "      <th>mpg</th>\n",
       "      <th>cyl</th>\n",
       "      <th>disp</th>\n",
       "      <th>hp</th>\n",
       "      <th>drat</th>\n",
       "      <th>wt</th>\n",
       "      <th>qsec</th>\n",
       "      <th>vs</th>\n",
       "      <th>am</th>\n",
       "      <th>gear</th>\n",
       "      <th>carb</th>\n",
       "      <th>wt_center</th>\n",
       "    </tr>\n",
       "  </thead>\n",
       "  <tbody>\n",
       "    <tr>\n",
       "      <th>0</th>\n",
       "      <td>Mazda RX4</td>\n",
       "      <td>21.0</td>\n",
       "      <td>6</td>\n",
       "      <td>160.0</td>\n",
       "      <td>110</td>\n",
       "      <td>3.90</td>\n",
       "      <td>2.620</td>\n",
       "      <td>16.46</td>\n",
       "      <td>0</td>\n",
       "      <td>1</td>\n",
       "      <td>4</td>\n",
       "      <td>4</td>\n",
       "      <td>-0.59725</td>\n",
       "    </tr>\n",
       "    <tr>\n",
       "      <th>1</th>\n",
       "      <td>Mazda RX4 Wag</td>\n",
       "      <td>21.0</td>\n",
       "      <td>6</td>\n",
       "      <td>160.0</td>\n",
       "      <td>110</td>\n",
       "      <td>3.90</td>\n",
       "      <td>2.875</td>\n",
       "      <td>17.02</td>\n",
       "      <td>0</td>\n",
       "      <td>1</td>\n",
       "      <td>4</td>\n",
       "      <td>4</td>\n",
       "      <td>-0.34225</td>\n",
       "    </tr>\n",
       "    <tr>\n",
       "      <th>2</th>\n",
       "      <td>Datsun 710</td>\n",
       "      <td>22.8</td>\n",
       "      <td>4</td>\n",
       "      <td>108.0</td>\n",
       "      <td>93</td>\n",
       "      <td>3.85</td>\n",
       "      <td>2.320</td>\n",
       "      <td>18.61</td>\n",
       "      <td>1</td>\n",
       "      <td>1</td>\n",
       "      <td>4</td>\n",
       "      <td>1</td>\n",
       "      <td>-0.89725</td>\n",
       "    </tr>\n",
       "    <tr>\n",
       "      <th>3</th>\n",
       "      <td>Hornet 4 Drive</td>\n",
       "      <td>21.4</td>\n",
       "      <td>6</td>\n",
       "      <td>258.0</td>\n",
       "      <td>110</td>\n",
       "      <td>3.08</td>\n",
       "      <td>3.215</td>\n",
       "      <td>19.44</td>\n",
       "      <td>1</td>\n",
       "      <td>0</td>\n",
       "      <td>3</td>\n",
       "      <td>1</td>\n",
       "      <td>-0.00225</td>\n",
       "    </tr>\n",
       "    <tr>\n",
       "      <th>4</th>\n",
       "      <td>Hornet Sportabout</td>\n",
       "      <td>18.7</td>\n",
       "      <td>8</td>\n",
       "      <td>360.0</td>\n",
       "      <td>175</td>\n",
       "      <td>3.15</td>\n",
       "      <td>3.440</td>\n",
       "      <td>17.02</td>\n",
       "      <td>0</td>\n",
       "      <td>0</td>\n",
       "      <td>3</td>\n",
       "      <td>2</td>\n",
       "      <td>0.22275</td>\n",
       "    </tr>\n",
       "  </tbody>\n",
       "</table>\n",
       "</div>"
      ],
      "text/plain": [
       "               model   mpg  cyl   disp   hp  drat     wt   qsec  vs  am  gear  \\\n",
       "0          Mazda RX4  21.0    6  160.0  110  3.90  2.620  16.46   0   1     4   \n",
       "1      Mazda RX4 Wag  21.0    6  160.0  110  3.90  2.875  17.02   0   1     4   \n",
       "2         Datsun 710  22.8    4  108.0   93  3.85  2.320  18.61   1   1     4   \n",
       "3     Hornet 4 Drive  21.4    6  258.0  110  3.08  3.215  19.44   1   0     3   \n",
       "4  Hornet Sportabout  18.7    8  360.0  175  3.15  3.440  17.02   0   0     3   \n",
       "\n",
       "   carb  wt_center  \n",
       "0     4   -0.59725  \n",
       "1     4   -0.34225  \n",
       "2     1   -0.89725  \n",
       "3     1   -0.00225  \n",
       "4     2    0.22275  "
      ]
     },
     "execution_count": 15,
     "metadata": {},
     "output_type": "execute_result"
    }
   ],
   "source": [
    "data.head()"
   ]
  },
  {
   "cell_type": "code",
   "execution_count": 16,
   "id": "79216ac7-2810-4ae0-9d95-be129d5754ee",
   "metadata": {},
   "outputs": [
    {
     "name": "stderr",
     "output_type": "stream",
     "text": [
      "INFO:cmdstanpy:found newer exe file, not recompiling\n"
     ]
    }
   ],
   "source": [
    "model = CmdStanModel(stan_file='stan/single_predictor_center.stan')"
   ]
  },
  {
   "cell_type": "code",
   "execution_count": 17,
   "id": "103f5759-e8c5-434e-a46d-7ac98d1e0a75",
   "metadata": {},
   "outputs": [],
   "source": [
    "N = data.shape[0]\n",
    "\n",
    "model_data = {\n",
    "    \"mpg\": data.mpg,\n",
    "    \"weight_center\": data.wt_center,\n",
    "    \"n\": N\n",
    "}"
   ]
  },
  {
   "cell_type": "code",
   "execution_count": 18,
   "id": "e75f2a28-cd68-476f-b40e-60c19bdb4702",
   "metadata": {},
   "outputs": [
    {
     "name": "stderr",
     "output_type": "stream",
     "text": [
      "INFO:cmdstanpy:CmdStan start procesing\n"
     ]
    },
    {
     "data": {
      "application/vnd.jupyter.widget-view+json": {
       "model_id": "8efaace7fb224cadbc0a43d198b2b9be",
       "version_major": 2,
       "version_minor": 0
      },
      "text/plain": [
       "chain 1 |          | 00:00 Status"
      ]
     },
     "metadata": {},
     "output_type": "display_data"
    },
    {
     "data": {
      "application/vnd.jupyter.widget-view+json": {
       "model_id": "3f319bf2f6fe427f8e9d288632885f72",
       "version_major": 2,
       "version_minor": 0
      },
      "text/plain": [
       "chain 2 |          | 00:00 Status"
      ]
     },
     "metadata": {},
     "output_type": "display_data"
    },
    {
     "data": {
      "application/vnd.jupyter.widget-view+json": {
       "model_id": "8c4f6d353a0e439a9ab2f938af8eb2e6",
       "version_major": 2,
       "version_minor": 0
      },
      "text/plain": [
       "chain 3 |          | 00:00 Status"
      ]
     },
     "metadata": {},
     "output_type": "display_data"
    },
    {
     "data": {
      "application/vnd.jupyter.widget-view+json": {
       "model_id": "da9e610e9f7648fcb15245313f3e2047",
       "version_major": 2,
       "version_minor": 0
      },
      "text/plain": [
       "chain 4 |          | 00:00 Status"
      ]
     },
     "metadata": {},
     "output_type": "display_data"
    },
    {
     "name": "stdout",
     "output_type": "stream",
     "text": [
      "                                                                                                                                                                                                                                                                                                                                "
     ]
    },
    {
     "name": "stderr",
     "output_type": "stream",
     "text": [
      "INFO:cmdstanpy:CmdStan done processing.\n"
     ]
    },
    {
     "name": "stdout",
     "output_type": "stream",
     "text": [
      "\n"
     ]
    }
   ],
   "source": [
    "fit = model.sample(data=model_data)"
   ]
  },
  {
   "cell_type": "code",
   "execution_count": 19,
   "id": "6a071b4f-f364-44ed-993a-7f30bdf84d70",
   "metadata": {},
   "outputs": [
    {
     "data": {
      "text/html": [
       "<div>\n",
       "<style scoped>\n",
       "    .dataframe tbody tr th:only-of-type {\n",
       "        vertical-align: middle;\n",
       "    }\n",
       "\n",
       "    .dataframe tbody tr th {\n",
       "        vertical-align: top;\n",
       "    }\n",
       "\n",
       "    .dataframe thead th {\n",
       "        text-align: right;\n",
       "    }\n",
       "</style>\n",
       "<table border=\"1\" class=\"dataframe\">\n",
       "  <thead>\n",
       "    <tr style=\"text-align: right;\">\n",
       "      <th></th>\n",
       "      <th>lp__</th>\n",
       "      <th>accept_stat__</th>\n",
       "      <th>stepsize__</th>\n",
       "      <th>treedepth__</th>\n",
       "      <th>n_leapfrog__</th>\n",
       "      <th>divergent__</th>\n",
       "      <th>energy__</th>\n",
       "      <th>alpha</th>\n",
       "      <th>beta_w</th>\n",
       "      <th>sigma</th>\n",
       "    </tr>\n",
       "  </thead>\n",
       "  <tbody>\n",
       "    <tr>\n",
       "      <th>0</th>\n",
       "      <td>-50.1499</td>\n",
       "      <td>0.956625</td>\n",
       "      <td>0.657813</td>\n",
       "      <td>2.0</td>\n",
       "      <td>3.0</td>\n",
       "      <td>0.0</td>\n",
       "      <td>56.9492</td>\n",
       "      <td>20.5611</td>\n",
       "      <td>-5.61052</td>\n",
       "      <td>3.25161</td>\n",
       "    </tr>\n",
       "    <tr>\n",
       "      <th>1</th>\n",
       "      <td>-50.4685</td>\n",
       "      <td>0.871785</td>\n",
       "      <td>0.657813</td>\n",
       "      <td>2.0</td>\n",
       "      <td>3.0</td>\n",
       "      <td>0.0</td>\n",
       "      <td>52.6931</td>\n",
       "      <td>20.3879</td>\n",
       "      <td>-4.66790</td>\n",
       "      <td>2.95140</td>\n",
       "    </tr>\n",
       "    <tr>\n",
       "      <th>2</th>\n",
       "      <td>-51.0151</td>\n",
       "      <td>0.965318</td>\n",
       "      <td>0.657813</td>\n",
       "      <td>3.0</td>\n",
       "      <td>7.0</td>\n",
       "      <td>0.0</td>\n",
       "      <td>51.3375</td>\n",
       "      <td>19.5614</td>\n",
       "      <td>-6.12012</td>\n",
       "      <td>3.29245</td>\n",
       "    </tr>\n",
       "    <tr>\n",
       "      <th>3</th>\n",
       "      <td>-49.6833</td>\n",
       "      <td>0.998456</td>\n",
       "      <td>0.657813</td>\n",
       "      <td>3.0</td>\n",
       "      <td>7.0</td>\n",
       "      <td>0.0</td>\n",
       "      <td>51.0788</td>\n",
       "      <td>19.9705</td>\n",
       "      <td>-5.05856</td>\n",
       "      <td>2.97755</td>\n",
       "    </tr>\n",
       "    <tr>\n",
       "      <th>4</th>\n",
       "      <td>-50.3710</td>\n",
       "      <td>0.594431</td>\n",
       "      <td>0.657813</td>\n",
       "      <td>3.0</td>\n",
       "      <td>7.0</td>\n",
       "      <td>0.0</td>\n",
       "      <td>55.1860</td>\n",
       "      <td>20.4799</td>\n",
       "      <td>-4.78259</td>\n",
       "      <td>3.23416</td>\n",
       "    </tr>\n",
       "  </tbody>\n",
       "</table>\n",
       "</div>"
      ],
      "text/plain": [
       "      lp__  accept_stat__  stepsize__  treedepth__  n_leapfrog__  divergent__  \\\n",
       "0 -50.1499       0.956625    0.657813          2.0           3.0          0.0   \n",
       "1 -50.4685       0.871785    0.657813          2.0           3.0          0.0   \n",
       "2 -51.0151       0.965318    0.657813          3.0           7.0          0.0   \n",
       "3 -49.6833       0.998456    0.657813          3.0           7.0          0.0   \n",
       "4 -50.3710       0.594431    0.657813          3.0           7.0          0.0   \n",
       "\n",
       "   energy__    alpha   beta_w    sigma  \n",
       "0   56.9492  20.5611 -5.61052  3.25161  \n",
       "1   52.6931  20.3879 -4.66790  2.95140  \n",
       "2   51.3375  19.5614 -6.12012  3.29245  \n",
       "3   51.0788  19.9705 -5.05856  2.97755  \n",
       "4   55.1860  20.4799 -4.78259  3.23416  "
      ]
     },
     "execution_count": 19,
     "metadata": {},
     "output_type": "execute_result"
    }
   ],
   "source": [
    "draws = fit.draws_pd()\n",
    "draws.head()"
   ]
  },
  {
   "cell_type": "code",
   "execution_count": 20,
   "id": "49150b0e-2ae2-42b0-a2b7-126fc4b84c44",
   "metadata": {},
   "outputs": [
    {
     "data": {
      "text/html": [
       "<div>\n",
       "<style scoped>\n",
       "    .dataframe tbody tr th:only-of-type {\n",
       "        vertical-align: middle;\n",
       "    }\n",
       "\n",
       "    .dataframe tbody tr th {\n",
       "        vertical-align: top;\n",
       "    }\n",
       "\n",
       "    .dataframe thead th {\n",
       "        text-align: right;\n",
       "    }\n",
       "</style>\n",
       "<table border=\"1\" class=\"dataframe\">\n",
       "  <thead>\n",
       "    <tr style=\"text-align: right;\">\n",
       "      <th></th>\n",
       "      <th>Mean</th>\n",
       "      <th>MCSE</th>\n",
       "      <th>StdDev</th>\n",
       "      <th>5%</th>\n",
       "      <th>50%</th>\n",
       "      <th>95%</th>\n",
       "      <th>N_Eff</th>\n",
       "      <th>N_Eff/s</th>\n",
       "      <th>R_hat</th>\n",
       "    </tr>\n",
       "    <tr>\n",
       "      <th>name</th>\n",
       "      <th></th>\n",
       "      <th></th>\n",
       "      <th></th>\n",
       "      <th></th>\n",
       "      <th></th>\n",
       "      <th></th>\n",
       "      <th></th>\n",
       "      <th></th>\n",
       "      <th></th>\n",
       "    </tr>\n",
       "  </thead>\n",
       "  <tbody>\n",
       "    <tr>\n",
       "      <th>lp__</th>\n",
       "      <td>-51.0</td>\n",
       "      <td>0.0290</td>\n",
       "      <td>1.30</td>\n",
       "      <td>-54.0</td>\n",
       "      <td>-51.0</td>\n",
       "      <td>-50.0</td>\n",
       "      <td>1900.0</td>\n",
       "      <td>15000.0</td>\n",
       "      <td>1.0</td>\n",
       "    </tr>\n",
       "    <tr>\n",
       "      <th>alpha</th>\n",
       "      <td>20.0</td>\n",
       "      <td>0.0092</td>\n",
       "      <td>0.56</td>\n",
       "      <td>19.0</td>\n",
       "      <td>20.0</td>\n",
       "      <td>21.0</td>\n",
       "      <td>3800.0</td>\n",
       "      <td>30000.0</td>\n",
       "      <td>1.0</td>\n",
       "    </tr>\n",
       "    <tr>\n",
       "      <th>beta_w</th>\n",
       "      <td>-5.4</td>\n",
       "      <td>0.0097</td>\n",
       "      <td>0.59</td>\n",
       "      <td>-6.3</td>\n",
       "      <td>-5.3</td>\n",
       "      <td>-4.4</td>\n",
       "      <td>3700.0</td>\n",
       "      <td>30000.0</td>\n",
       "      <td>1.0</td>\n",
       "    </tr>\n",
       "    <tr>\n",
       "      <th>sigma</th>\n",
       "      <td>3.2</td>\n",
       "      <td>0.0082</td>\n",
       "      <td>0.44</td>\n",
       "      <td>2.6</td>\n",
       "      <td>3.1</td>\n",
       "      <td>3.9</td>\n",
       "      <td>2800.0</td>\n",
       "      <td>23000.0</td>\n",
       "      <td>1.0</td>\n",
       "    </tr>\n",
       "  </tbody>\n",
       "</table>\n",
       "</div>"
      ],
      "text/plain": [
       "        Mean    MCSE  StdDev    5%   50%   95%   N_Eff  N_Eff/s  R_hat\n",
       "name                                                                  \n",
       "lp__   -51.0  0.0290    1.30 -54.0 -51.0 -50.0  1900.0  15000.0    1.0\n",
       "alpha   20.0  0.0092    0.56  19.0  20.0  21.0  3800.0  30000.0    1.0\n",
       "beta_w  -5.4  0.0097    0.59  -6.3  -5.3  -4.4  3700.0  30000.0    1.0\n",
       "sigma    3.2  0.0082    0.44   2.6   3.1   3.9  2800.0  23000.0    1.0"
      ]
     },
     "execution_count": 20,
     "metadata": {},
     "output_type": "execute_result"
    }
   ],
   "source": [
    "fit.summary()"
   ]
  },
  {
   "cell_type": "markdown",
   "id": "224fb587-da1c-4182-900e-8e3183c0c20b",
   "metadata": {},
   "source": [
    "- The model predicts miles per gallon to be 3.2 -  the same as before.\n",
    "\n",
    "- `lp__` has lower value  than the previous model. It mean that this model performs slightly better."
   ]
  },
  {
   "cell_type": "markdown",
   "id": "13102bdc-009c-4b6e-8ef1-d0398727d67a",
   "metadata": {},
   "source": [
    "**Multiparameter:**"
   ]
  },
  {
   "cell_type": "code",
   "execution_count": 21,
   "id": "8058de60-f943-431c-b6e5-cd865e372883",
   "metadata": {},
   "outputs": [],
   "source": [
    "data['hp_center'] = data['hp'] - data['hp'].mean()\n",
    "data['cyl_center'] = data['cyl'] - data['cyl'].mean()"
   ]
  },
  {
   "cell_type": "code",
   "execution_count": 22,
   "id": "2ba67d4e-a7a9-4bb9-b1e5-1969ae02205b",
   "metadata": {},
   "outputs": [
    {
     "data": {
      "text/html": [
       "<div>\n",
       "<style scoped>\n",
       "    .dataframe tbody tr th:only-of-type {\n",
       "        vertical-align: middle;\n",
       "    }\n",
       "\n",
       "    .dataframe tbody tr th {\n",
       "        vertical-align: top;\n",
       "    }\n",
       "\n",
       "    .dataframe thead th {\n",
       "        text-align: right;\n",
       "    }\n",
       "</style>\n",
       "<table border=\"1\" class=\"dataframe\">\n",
       "  <thead>\n",
       "    <tr style=\"text-align: right;\">\n",
       "      <th></th>\n",
       "      <th>model</th>\n",
       "      <th>mpg</th>\n",
       "      <th>cyl</th>\n",
       "      <th>disp</th>\n",
       "      <th>hp</th>\n",
       "      <th>drat</th>\n",
       "      <th>wt</th>\n",
       "      <th>qsec</th>\n",
       "      <th>vs</th>\n",
       "      <th>am</th>\n",
       "      <th>gear</th>\n",
       "      <th>carb</th>\n",
       "      <th>wt_center</th>\n",
       "      <th>hp_center</th>\n",
       "      <th>cyl_center</th>\n",
       "    </tr>\n",
       "  </thead>\n",
       "  <tbody>\n",
       "    <tr>\n",
       "      <th>0</th>\n",
       "      <td>Mazda RX4</td>\n",
       "      <td>21.0</td>\n",
       "      <td>6</td>\n",
       "      <td>160.0</td>\n",
       "      <td>110</td>\n",
       "      <td>3.90</td>\n",
       "      <td>2.620</td>\n",
       "      <td>16.46</td>\n",
       "      <td>0</td>\n",
       "      <td>1</td>\n",
       "      <td>4</td>\n",
       "      <td>4</td>\n",
       "      <td>-0.59725</td>\n",
       "      <td>-36.6875</td>\n",
       "      <td>-0.1875</td>\n",
       "    </tr>\n",
       "    <tr>\n",
       "      <th>1</th>\n",
       "      <td>Mazda RX4 Wag</td>\n",
       "      <td>21.0</td>\n",
       "      <td>6</td>\n",
       "      <td>160.0</td>\n",
       "      <td>110</td>\n",
       "      <td>3.90</td>\n",
       "      <td>2.875</td>\n",
       "      <td>17.02</td>\n",
       "      <td>0</td>\n",
       "      <td>1</td>\n",
       "      <td>4</td>\n",
       "      <td>4</td>\n",
       "      <td>-0.34225</td>\n",
       "      <td>-36.6875</td>\n",
       "      <td>-0.1875</td>\n",
       "    </tr>\n",
       "    <tr>\n",
       "      <th>2</th>\n",
       "      <td>Datsun 710</td>\n",
       "      <td>22.8</td>\n",
       "      <td>4</td>\n",
       "      <td>108.0</td>\n",
       "      <td>93</td>\n",
       "      <td>3.85</td>\n",
       "      <td>2.320</td>\n",
       "      <td>18.61</td>\n",
       "      <td>1</td>\n",
       "      <td>1</td>\n",
       "      <td>4</td>\n",
       "      <td>1</td>\n",
       "      <td>-0.89725</td>\n",
       "      <td>-53.6875</td>\n",
       "      <td>-2.1875</td>\n",
       "    </tr>\n",
       "    <tr>\n",
       "      <th>3</th>\n",
       "      <td>Hornet 4 Drive</td>\n",
       "      <td>21.4</td>\n",
       "      <td>6</td>\n",
       "      <td>258.0</td>\n",
       "      <td>110</td>\n",
       "      <td>3.08</td>\n",
       "      <td>3.215</td>\n",
       "      <td>19.44</td>\n",
       "      <td>1</td>\n",
       "      <td>0</td>\n",
       "      <td>3</td>\n",
       "      <td>1</td>\n",
       "      <td>-0.00225</td>\n",
       "      <td>-36.6875</td>\n",
       "      <td>-0.1875</td>\n",
       "    </tr>\n",
       "    <tr>\n",
       "      <th>4</th>\n",
       "      <td>Hornet Sportabout</td>\n",
       "      <td>18.7</td>\n",
       "      <td>8</td>\n",
       "      <td>360.0</td>\n",
       "      <td>175</td>\n",
       "      <td>3.15</td>\n",
       "      <td>3.440</td>\n",
       "      <td>17.02</td>\n",
       "      <td>0</td>\n",
       "      <td>0</td>\n",
       "      <td>3</td>\n",
       "      <td>2</td>\n",
       "      <td>0.22275</td>\n",
       "      <td>28.3125</td>\n",
       "      <td>1.8125</td>\n",
       "    </tr>\n",
       "  </tbody>\n",
       "</table>\n",
       "</div>"
      ],
      "text/plain": [
       "               model   mpg  cyl   disp   hp  drat     wt   qsec  vs  am  gear  \\\n",
       "0          Mazda RX4  21.0    6  160.0  110  3.90  2.620  16.46   0   1     4   \n",
       "1      Mazda RX4 Wag  21.0    6  160.0  110  3.90  2.875  17.02   0   1     4   \n",
       "2         Datsun 710  22.8    4  108.0   93  3.85  2.320  18.61   1   1     4   \n",
       "3     Hornet 4 Drive  21.4    6  258.0  110  3.08  3.215  19.44   1   0     3   \n",
       "4  Hornet Sportabout  18.7    8  360.0  175  3.15  3.440  17.02   0   0     3   \n",
       "\n",
       "   carb  wt_center  hp_center  cyl_center  \n",
       "0     4   -0.59725   -36.6875     -0.1875  \n",
       "1     4   -0.34225   -36.6875     -0.1875  \n",
       "2     1   -0.89725   -53.6875     -2.1875  \n",
       "3     1   -0.00225   -36.6875     -0.1875  \n",
       "4     2    0.22275    28.3125      1.8125  "
      ]
     },
     "execution_count": 22,
     "metadata": {},
     "output_type": "execute_result"
    }
   ],
   "source": [
    "data.head()"
   ]
  },
  {
   "cell_type": "code",
   "execution_count": 23,
   "id": "9d011af7-0e2b-4791-8811-980a6473abfe",
   "metadata": {},
   "outputs": [
    {
     "name": "stderr",
     "output_type": "stream",
     "text": [
      "INFO:cmdstanpy:compiling stan file /Users/dominikwozniak/study/data_analytics/final/stan/multiparameters_predictor.stan to exe file /Users/dominikwozniak/study/data_analytics/final/stan/multiparameters_predictor\n",
      "INFO:cmdstanpy:compiled model executable: /Users/dominikwozniak/study/data_analytics/final/stan/multiparameters_predictor\n"
     ]
    }
   ],
   "source": [
    "model = CmdStanModel(stan_file='stan/multiparameters_predictor.stan')"
   ]
  },
  {
   "cell_type": "code",
   "execution_count": 26,
   "id": "b6bbb239-9d39-4f58-9fc4-f0286c8f06a3",
   "metadata": {},
   "outputs": [],
   "source": [
    "N = data.shape[0]\n",
    "\n",
    "model_data = {\n",
    "    \"mpg\": data.mpg,\n",
    "    \"weight_center\": data.wt_center,\n",
    "    \"hp_center\": data.hp_center,\n",
    "    \"cylinders_center\": data.cyl_center,\n",
    "    \"n\": N\n",
    "}"
   ]
  },
  {
   "cell_type": "code",
   "execution_count": 27,
   "id": "a74f37af-136e-4ea4-aff8-44f6895d00b4",
   "metadata": {},
   "outputs": [
    {
     "name": "stderr",
     "output_type": "stream",
     "text": [
      "INFO:cmdstanpy:CmdStan start procesing\n"
     ]
    },
    {
     "data": {
      "application/vnd.jupyter.widget-view+json": {
       "model_id": "9ec5381e1c9c4b35a654b74e5484fa7c",
       "version_major": 2,
       "version_minor": 0
      },
      "text/plain": [
       "chain 1 |          | 00:00 Status"
      ]
     },
     "metadata": {},
     "output_type": "display_data"
    },
    {
     "data": {
      "application/vnd.jupyter.widget-view+json": {
       "model_id": "0034be2552584d94af29003387bd2a1e",
       "version_major": 2,
       "version_minor": 0
      },
      "text/plain": [
       "chain 2 |          | 00:00 Status"
      ]
     },
     "metadata": {},
     "output_type": "display_data"
    },
    {
     "data": {
      "application/vnd.jupyter.widget-view+json": {
       "model_id": "bbcfa696496f4b619ab2db178bb30dc2",
       "version_major": 2,
       "version_minor": 0
      },
      "text/plain": [
       "chain 3 |          | 00:00 Status"
      ]
     },
     "metadata": {},
     "output_type": "display_data"
    },
    {
     "data": {
      "application/vnd.jupyter.widget-view+json": {
       "model_id": "f4cb3ec2005c42a19644533772962801",
       "version_major": 2,
       "version_minor": 0
      },
      "text/plain": [
       "chain 4 |          | 00:00 Status"
      ]
     },
     "metadata": {},
     "output_type": "display_data"
    },
    {
     "name": "stdout",
     "output_type": "stream",
     "text": [
      "                                                                                                                                                                                                                                                                                                                                "
     ]
    },
    {
     "name": "stderr",
     "output_type": "stream",
     "text": [
      "INFO:cmdstanpy:CmdStan done processing.\n"
     ]
    },
    {
     "name": "stdout",
     "output_type": "stream",
     "text": [
      "\n"
     ]
    }
   ],
   "source": [
    "fit = model.sample(data=model_data)"
   ]
  },
  {
   "cell_type": "code",
   "execution_count": 28,
   "id": "cbfcb4bb-c9e2-4e0d-b827-49fd8b903074",
   "metadata": {},
   "outputs": [
    {
     "data": {
      "text/html": [
       "<div>\n",
       "<style scoped>\n",
       "    .dataframe tbody tr th:only-of-type {\n",
       "        vertical-align: middle;\n",
       "    }\n",
       "\n",
       "    .dataframe tbody tr th {\n",
       "        vertical-align: top;\n",
       "    }\n",
       "\n",
       "    .dataframe thead th {\n",
       "        text-align: right;\n",
       "    }\n",
       "</style>\n",
       "<table border=\"1\" class=\"dataframe\">\n",
       "  <thead>\n",
       "    <tr style=\"text-align: right;\">\n",
       "      <th></th>\n",
       "      <th>lp__</th>\n",
       "      <th>accept_stat__</th>\n",
       "      <th>stepsize__</th>\n",
       "      <th>treedepth__</th>\n",
       "      <th>n_leapfrog__</th>\n",
       "      <th>divergent__</th>\n",
       "      <th>energy__</th>\n",
       "      <th>alpha</th>\n",
       "      <th>beta_w</th>\n",
       "      <th>beta_cyl</th>\n",
       "      <th>beta_hp</th>\n",
       "      <th>sigma</th>\n",
       "    </tr>\n",
       "  </thead>\n",
       "  <tbody>\n",
       "    <tr>\n",
       "      <th>0</th>\n",
       "      <td>-44.6560</td>\n",
       "      <td>0.986800</td>\n",
       "      <td>0.30481</td>\n",
       "      <td>3.0</td>\n",
       "      <td>15.0</td>\n",
       "      <td>0.0</td>\n",
       "      <td>50.0931</td>\n",
       "      <td>19.8746</td>\n",
       "      <td>-3.68401</td>\n",
       "      <td>-0.787982</td>\n",
       "      <td>-0.021035</td>\n",
       "      <td>3.09840</td>\n",
       "    </tr>\n",
       "    <tr>\n",
       "      <th>1</th>\n",
       "      <td>-44.5947</td>\n",
       "      <td>0.958476</td>\n",
       "      <td>0.30481</td>\n",
       "      <td>4.0</td>\n",
       "      <td>15.0</td>\n",
       "      <td>0.0</td>\n",
       "      <td>46.7702</td>\n",
       "      <td>20.1100</td>\n",
       "      <td>-3.40759</td>\n",
       "      <td>-0.716007</td>\n",
       "      <td>-0.018810</td>\n",
       "      <td>3.16007</td>\n",
       "    </tr>\n",
       "    <tr>\n",
       "      <th>2</th>\n",
       "      <td>-43.2027</td>\n",
       "      <td>0.979915</td>\n",
       "      <td>0.30481</td>\n",
       "      <td>4.0</td>\n",
       "      <td>15.0</td>\n",
       "      <td>0.0</td>\n",
       "      <td>48.8318</td>\n",
       "      <td>20.3347</td>\n",
       "      <td>-2.88056</td>\n",
       "      <td>-1.205050</td>\n",
       "      <td>-0.014725</td>\n",
       "      <td>2.15238</td>\n",
       "    </tr>\n",
       "    <tr>\n",
       "      <th>3</th>\n",
       "      <td>-47.0505</td>\n",
       "      <td>0.562806</td>\n",
       "      <td>0.30481</td>\n",
       "      <td>3.0</td>\n",
       "      <td>7.0</td>\n",
       "      <td>0.0</td>\n",
       "      <td>49.5413</td>\n",
       "      <td>19.4615</td>\n",
       "      <td>-2.58198</td>\n",
       "      <td>-1.209890</td>\n",
       "      <td>-0.028076</td>\n",
       "      <td>2.05582</td>\n",
       "    </tr>\n",
       "    <tr>\n",
       "      <th>4</th>\n",
       "      <td>-45.3010</td>\n",
       "      <td>0.953572</td>\n",
       "      <td>0.30481</td>\n",
       "      <td>3.0</td>\n",
       "      <td>7.0</td>\n",
       "      <td>0.0</td>\n",
       "      <td>49.7325</td>\n",
       "      <td>20.3475</td>\n",
       "      <td>-2.80458</td>\n",
       "      <td>-0.268593</td>\n",
       "      <td>-0.028743</td>\n",
       "      <td>2.84534</td>\n",
       "    </tr>\n",
       "  </tbody>\n",
       "</table>\n",
       "</div>"
      ],
      "text/plain": [
       "      lp__  accept_stat__  stepsize__  treedepth__  n_leapfrog__  divergent__  \\\n",
       "0 -44.6560       0.986800     0.30481          3.0          15.0          0.0   \n",
       "1 -44.5947       0.958476     0.30481          4.0          15.0          0.0   \n",
       "2 -43.2027       0.979915     0.30481          4.0          15.0          0.0   \n",
       "3 -47.0505       0.562806     0.30481          3.0           7.0          0.0   \n",
       "4 -45.3010       0.953572     0.30481          3.0           7.0          0.0   \n",
       "\n",
       "   energy__    alpha   beta_w  beta_cyl   beta_hp    sigma  \n",
       "0   50.0931  19.8746 -3.68401 -0.787982 -0.021035  3.09840  \n",
       "1   46.7702  20.1100 -3.40759 -0.716007 -0.018810  3.16007  \n",
       "2   48.8318  20.3347 -2.88056 -1.205050 -0.014725  2.15238  \n",
       "3   49.5413  19.4615 -2.58198 -1.209890 -0.028076  2.05582  \n",
       "4   49.7325  20.3475 -2.80458 -0.268593 -0.028743  2.84534  "
      ]
     },
     "execution_count": 28,
     "metadata": {},
     "output_type": "execute_result"
    }
   ],
   "source": [
    "draws = fit.draws_pd()\n",
    "draws.head()"
   ]
  },
  {
   "cell_type": "code",
   "execution_count": 29,
   "id": "93a4f18a-d506-4d03-8ceb-9ef65bf9883d",
   "metadata": {},
   "outputs": [
    {
     "data": {
      "text/html": [
       "<div>\n",
       "<style scoped>\n",
       "    .dataframe tbody tr th:only-of-type {\n",
       "        vertical-align: middle;\n",
       "    }\n",
       "\n",
       "    .dataframe tbody tr th {\n",
       "        vertical-align: top;\n",
       "    }\n",
       "\n",
       "    .dataframe thead th {\n",
       "        text-align: right;\n",
       "    }\n",
       "</style>\n",
       "<table border=\"1\" class=\"dataframe\">\n",
       "  <thead>\n",
       "    <tr style=\"text-align: right;\">\n",
       "      <th></th>\n",
       "      <th>Mean</th>\n",
       "      <th>MCSE</th>\n",
       "      <th>StdDev</th>\n",
       "      <th>5%</th>\n",
       "      <th>50%</th>\n",
       "      <th>95%</th>\n",
       "      <th>N_Eff</th>\n",
       "      <th>N_Eff/s</th>\n",
       "      <th>R_hat</th>\n",
       "    </tr>\n",
       "    <tr>\n",
       "      <th>name</th>\n",
       "      <th></th>\n",
       "      <th></th>\n",
       "      <th></th>\n",
       "      <th></th>\n",
       "      <th></th>\n",
       "      <th></th>\n",
       "      <th></th>\n",
       "      <th></th>\n",
       "      <th></th>\n",
       "    </tr>\n",
       "  </thead>\n",
       "  <tbody>\n",
       "    <tr>\n",
       "      <th>lp__</th>\n",
       "      <td>-45.000</td>\n",
       "      <td>0.04000</td>\n",
       "      <td>1.600</td>\n",
       "      <td>-48.000</td>\n",
       "      <td>-45.000</td>\n",
       "      <td>-43.0000</td>\n",
       "      <td>1700.0</td>\n",
       "      <td>5200.0</td>\n",
       "      <td>1.0</td>\n",
       "    </tr>\n",
       "    <tr>\n",
       "      <th>alpha</th>\n",
       "      <td>20.000</td>\n",
       "      <td>0.00770</td>\n",
       "      <td>0.460</td>\n",
       "      <td>19.000</td>\n",
       "      <td>20.000</td>\n",
       "      <td>21.0000</td>\n",
       "      <td>3600.0</td>\n",
       "      <td>11000.0</td>\n",
       "      <td>1.0</td>\n",
       "    </tr>\n",
       "    <tr>\n",
       "      <th>beta_w</th>\n",
       "      <td>-3.200</td>\n",
       "      <td>0.01400</td>\n",
       "      <td>0.780</td>\n",
       "      <td>-4.400</td>\n",
       "      <td>-3.200</td>\n",
       "      <td>-1.9000</td>\n",
       "      <td>2900.0</td>\n",
       "      <td>9100.0</td>\n",
       "      <td>1.0</td>\n",
       "    </tr>\n",
       "    <tr>\n",
       "      <th>beta_cyl</th>\n",
       "      <td>-0.920</td>\n",
       "      <td>0.01200</td>\n",
       "      <td>0.580</td>\n",
       "      <td>-1.900</td>\n",
       "      <td>-0.930</td>\n",
       "      <td>0.0420</td>\n",
       "      <td>2400.0</td>\n",
       "      <td>7500.0</td>\n",
       "      <td>1.0</td>\n",
       "    </tr>\n",
       "    <tr>\n",
       "      <th>beta_hp</th>\n",
       "      <td>-0.018</td>\n",
       "      <td>0.00023</td>\n",
       "      <td>0.012</td>\n",
       "      <td>-0.039</td>\n",
       "      <td>-0.018</td>\n",
       "      <td>0.0019</td>\n",
       "      <td>2800.0</td>\n",
       "      <td>8800.0</td>\n",
       "      <td>1.0</td>\n",
       "    </tr>\n",
       "    <tr>\n",
       "      <th>sigma</th>\n",
       "      <td>2.600</td>\n",
       "      <td>0.00700</td>\n",
       "      <td>0.360</td>\n",
       "      <td>2.100</td>\n",
       "      <td>2.600</td>\n",
       "      <td>3.3000</td>\n",
       "      <td>2700.0</td>\n",
       "      <td>8400.0</td>\n",
       "      <td>1.0</td>\n",
       "    </tr>\n",
       "  </tbody>\n",
       "</table>\n",
       "</div>"
      ],
      "text/plain": [
       "            Mean     MCSE  StdDev      5%     50%      95%   N_Eff  N_Eff/s  \\\n",
       "name                                                                          \n",
       "lp__     -45.000  0.04000   1.600 -48.000 -45.000 -43.0000  1700.0   5200.0   \n",
       "alpha     20.000  0.00770   0.460  19.000  20.000  21.0000  3600.0  11000.0   \n",
       "beta_w    -3.200  0.01400   0.780  -4.400  -3.200  -1.9000  2900.0   9100.0   \n",
       "beta_cyl  -0.920  0.01200   0.580  -1.900  -0.930   0.0420  2400.0   7500.0   \n",
       "beta_hp   -0.018  0.00023   0.012  -0.039  -0.018   0.0019  2800.0   8800.0   \n",
       "sigma      2.600  0.00700   0.360   2.100   2.600   3.3000  2700.0   8400.0   \n",
       "\n",
       "          R_hat  \n",
       "name             \n",
       "lp__        1.0  \n",
       "alpha       1.0  \n",
       "beta_w      1.0  \n",
       "beta_cyl    1.0  \n",
       "beta_hp     1.0  \n",
       "sigma       1.0  "
      ]
     },
     "execution_count": 29,
     "metadata": {},
     "output_type": "execute_result"
    }
   ],
   "source": [
    "fit.summary()"
   ]
  },
  {
   "cell_type": "markdown",
   "id": "dae476de-dc19-4e80-b5bf-a5518a5a4612",
   "metadata": {},
   "source": [
    "- Using Car’s cylinders and horsepower data helps, `lp__` for current model is lower than earlier models.\n",
    "\n",
    "- the model predicts 2.6 miles per gallon."
   ]
  },
  {
   "cell_type": "code",
   "execution_count": 58,
   "id": "75402485-0182-4a7a-b3cb-df8822d5c519",
   "metadata": {},
   "outputs": [],
   "source": [
    "lp = draws['lp__']\n",
    "alpha = draws['alpha']\n",
    "beta_w = draws['beta_w']\n",
    "beta_cyl = draws['beta_cyl']\n",
    "beta_hp = draws['beta_hp']\n",
    "sigma = draws['sigma']"
   ]
  },
  {
   "cell_type": "code",
   "execution_count": 54,
   "id": "77dcfde7-1d59-4613-97b2-0c64d79ac510",
   "metadata": {},
   "outputs": [
    {
     "data": {
      "image/png": "[encoded data removed]",
      "text/plain": [
       "<Figure size 432x288 with 2 Axes>"
      ]
     },
     "metadata": {
      "needs_background": "light"
     },
     "output_type": "display_data"
    }
   ],
   "source": [
    "plot_trace(alpha, 'Alpha')"
   ]
  },
  {
   "cell_type": "code",
   "execution_count": null,
   "id": "8ee84ebb-a2c8-42b3-85f9-43282b3894b1",
   "metadata": {},
   "outputs": [],
   "source": [
    "# TODO: interpratate (?)"
   ]
  },
  {
   "cell_type": "code",
   "execution_count": 69,
   "id": "671dd72a-8ed5-4f36-a1b3-adfa65d29844",
   "metadata": {},
   "outputs": [
    {
     "data": {
      "image/png": "[encoded data removed]",
      "text/plain": [
       "<Figure size 432x288 with 6 Axes>"
      ]
     },
     "metadata": {
      "needs_background": "light"
     },
     "output_type": "display_data"
    }
   ],
   "source": [
    "fig, axs = plt.subplots(2, 3)\n",
    "\n",
    "subplot_trace(axs, lp, 'lp__', 0, 0)\n",
    "subplot_trace(axs, alpha, 'alpha', 0, 1)\n",
    "subplot_trace(axs, beta_w, 'beta_w', 0, 2)\n",
    "subplot_trace(axs, beta_cyl, 'beta_cyl', 1, 0)\n",
    "subplot_trace(axs, beta_hp, 'beta_hp', 1, 1)\n",
    "subplot_trace(axs, sigma, 'sigma', 1, 2)\n",
    "\n",
    "fig.tight_layout(pad=2.0)\n",
    "plt.show()"
   ]
  },
  {
   "cell_type": "markdown",
   "id": "fb50fcfb-e79a-4408-a93c-9b22df04645f",
   "metadata": {},
   "source": [
    " - we want to check that our chains have converged and are producing reliable point estimates. We can see that the movement through parameter space resembles a random walk, which is indicative that the underlying Markov chain has reached convergence as we would hope.\n",
    " \n",
    " - the chains are mixing well and have converged to a common distribution."
   ]
  },
  {
   "cell_type": "code",
   "execution_count": 79,
   "id": "ae02bfb0-3a2b-4e68-8659-4a7a6759026b",
   "metadata": {},
   "outputs": [
    {
     "data": {
      "text/plain": [
       "<AxesSubplot:title={'center':'alpha'}>"
      ]
     },
     "execution_count": 79,
     "metadata": {},
     "output_type": "execute_result"
    },
    {
     "data": {
      "image/png": "[encoded data removed]",
      "text/plain": [
       "<Figure size 432x288 with 1 Axes>"
      ]
     },
     "metadata": {
      "needs_background": "light"
     },
     "output_type": "display_data"
    }
   ],
   "source": [
    "az.plot_posterior(fit, var_names=['alpha'], round_to=2, kind='hist', bins=35)"
   ]
  },
  {
   "cell_type": "code",
   "execution_count": null,
   "id": "2b048894-471d-4d50-b5c9-9e332d90c950",
   "metadata": {},
   "outputs": [],
   "source": []
  }
 ],
 "metadata": {
  "kernelspec": {
   "display_name": "Python 3 (ipykernel)",
   "language": "python",
   "name": "python3"
  },
  "language_info": {
   "codemirror_mode": {
    "name": "ipython",
    "version": 3
   },
   "file_extension": ".py",
   "mimetype": "text/x-python",
   "name": "python",
   "nbconvert_exporter": "python",
   "pygments_lexer": "ipython3",
   "version": "3.9.7"
  }
 },
 "nbformat": 4,
 "nbformat_minor": 5
}
