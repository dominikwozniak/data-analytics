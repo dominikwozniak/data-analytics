{
 "cells": [
  {
   "cell_type": "markdown",
   "id": "6ad64c9d-a88a-4b97-bb9d-21258ffd0a79",
   "metadata": {},
   "source": [
    "# Data analytics final project\n",
    "\n",
    "*Dominik Woźniak, 2022*"
   ]
  },
  {
   "cell_type": "markdown",
   "id": "9fbd4861-1dc9-4ec9-b528-18a17b796262",
   "metadata": {},
   "source": [
    "## Dataset\n",
    "Dataset basing on golf putting data, typed in from Don Berry’s 1996 textbook. The columns are distance in feet from the hole, number of tries, and number of successes."
   ]
  },
  {
   "cell_type": "code",
   "execution_count": 1,
   "id": "1d53d5e5-2ded-4f92-ab9f-dab6d21dc52c",
   "metadata": {},
   "outputs": [],
   "source": [
    "import pandas as pd\n",
    "import matplotlib.pyplot as plt"
   ]
  },
  {
   "cell_type": "code",
   "execution_count": 2,
   "id": "10672c0e-8d9a-4041-88da-5f20ae4ab4f3",
   "metadata": {},
   "outputs": [],
   "source": [
    "data = pd.read_csv('data.csv')"
   ]
  },
  {
   "cell_type": "code",
   "execution_count": 3,
   "id": "3924e3f3-5941-44f5-8a01-cd85917403ef",
   "metadata": {},
   "outputs": [
    {
     "data": {
      "text/html": [
       "<div>\n",
       "<style scoped>\n",
       "    .dataframe tbody tr th:only-of-type {\n",
       "        vertical-align: middle;\n",
       "    }\n",
       "\n",
       "    .dataframe tbody tr th {\n",
       "        vertical-align: top;\n",
       "    }\n",
       "\n",
       "    .dataframe thead th {\n",
       "        text-align: right;\n",
       "    }\n",
       "</style>\n",
       "<table border=\"1\" class=\"dataframe\">\n",
       "  <thead>\n",
       "    <tr style=\"text-align: right;\">\n",
       "      <th></th>\n",
       "      <th>x</th>\n",
       "      <th>n</th>\n",
       "      <th>y</th>\n",
       "    </tr>\n",
       "  </thead>\n",
       "  <tbody>\n",
       "    <tr>\n",
       "      <th>0</th>\n",
       "      <td>2</td>\n",
       "      <td>1443</td>\n",
       "      <td>1346</td>\n",
       "    </tr>\n",
       "    <tr>\n",
       "      <th>1</th>\n",
       "      <td>3</td>\n",
       "      <td>694</td>\n",
       "      <td>577</td>\n",
       "    </tr>\n",
       "    <tr>\n",
       "      <th>2</th>\n",
       "      <td>4</td>\n",
       "      <td>455</td>\n",
       "      <td>337</td>\n",
       "    </tr>\n",
       "    <tr>\n",
       "      <th>3</th>\n",
       "      <td>5</td>\n",
       "      <td>353</td>\n",
       "      <td>208</td>\n",
       "    </tr>\n",
       "    <tr>\n",
       "      <th>4</th>\n",
       "      <td>6</td>\n",
       "      <td>272</td>\n",
       "      <td>149</td>\n",
       "    </tr>\n",
       "  </tbody>\n",
       "</table>\n",
       "</div>"
      ],
      "text/plain": [
       "   x     n     y\n",
       "0  2  1443  1346\n",
       "1  3   694   577\n",
       "2  4   455   337\n",
       "3  5   353   208\n",
       "4  6   272   149"
      ]
     },
     "execution_count": 3,
     "metadata": {},
     "output_type": "execute_result"
    }
   ],
   "source": [
    "data.head()"
   ]
  },
  {
   "cell_type": "code",
   "execution_count": 4,
   "id": "86e8d906-adb5-4267-ad49-a32e391b1cf2",
   "metadata": {},
   "outputs": [
    {
     "data": {
      "image/png": "[encoded data removed]",
      "text/plain": [
       "<Figure size 720x432 with 1 Axes>"
      ]
     },
     "metadata": {
      "needs_background": "light"
     },
     "output_type": "display_data"
    }
   ],
   "source": [
    "plt.figure(figsize=(10, 6))\n",
    "plt.scatter(data.x, data.y)\n",
    "plt.title('Data on putts in pro golf')\n",
    "plt.xlabel('Distance (feet)')\n",
    "plt.ylabel('Propability of success')\n",
    "plt.show()"
   ]
  },
  {
   "cell_type": "markdown",
   "id": "3bbe0413-9f46-4a2f-ab36-7281d61f5e7d",
   "metadata": {},
   "source": [
    "## Prepare data"
   ]
  },
  {
   "cell_type": "code",
   "execution_count": 5,
   "id": "855a1772-4c02-464d-83b4-0bc2c1cfa856",
   "metadata": {},
   "outputs": [],
   "source": [
    "import os\n",
    "import json\n",
    "from cmdstanpy import write_stan_json"
   ]
  },
  {
   "cell_type": "code",
   "execution_count": 6,
   "id": "67154bd9-449a-4b9a-976f-ec58f4efadc2",
   "metadata": {},
   "outputs": [],
   "source": [
    "from src.constants import DATA_DIR, STAN_INPUTS_DIR, RESULTS_DIR, SAMPLE_DIR, MEASUREMENTS_FILE, INPUT_PRIOR_FILE, INPUT_POSTERIOR_FILE\n",
    "from src.helpers import get_stan_input, get_stan_inputs, prepare_data"
   ]
  },
  {
   "cell_type": "code",
   "execution_count": 7,
   "id": "4629bf0b-2bf5-495c-bcc5-7ad723d31e32",
   "metadata": {},
   "outputs": [],
   "source": [
    "if not os.path.exists(DATA_DIR):\n",
    "    os.mkdir(DATA_DIR)\n",
    "    \n",
    "if not os.path.exists(STAN_INPUTS_DIR):\n",
    "    os.mkdir(STAN_INPUTS_DIR)    "
   ]
  },
  {
   "cell_type": "code",
   "execution_count": 8,
   "id": "50f2cbf4-3170-4cd2-ae96-1f438c3c3f62",
   "metadata": {},
   "outputs": [],
   "source": [
    "prepared_data = prepare_data(data)"
   ]
  },
  {
   "cell_type": "code",
   "execution_count": 9,
   "id": "3c86c574-ae13-41ad-bd97-4d4174256eef",
   "metadata": {},
   "outputs": [],
   "source": [
    "prepared_data.measurements.to_csv(MEASUREMENTS_FILE)"
   ]
  },
  {
   "cell_type": "code",
   "execution_count": 10,
   "id": "186226ab-b116-45b9-8323-0d14c957b41c",
   "metadata": {},
   "outputs": [],
   "source": [
    "si_prior, si_posterior, sis_cv = get_stan_inputs(prepared_data)"
   ]
  },
  {
   "cell_type": "code",
   "execution_count": 11,
   "id": "d88a128d-1a0b-4b33-a43d-bf8461306359",
   "metadata": {},
   "outputs": [],
   "source": [
    "write_stan_json(INPUT_POSTERIOR_FILE, si_posterior)\n",
    "write_stan_json(INPUT_PRIOR_FILE, si_prior)"
   ]
  },
  {
   "cell_type": "code",
   "execution_count": 12,
   "id": "6a6518ee-c73e-4c0e-9a91-0b1fd31cc889",
   "metadata": {},
   "outputs": [],
   "source": [
    "for i, stan_input in enumerate(sis_cv):\n",
    "    file_path = os.path.join(STAN_INPUTS_DIR, f\"split_{str(i)}.json\")\n",
    "    write_stan_json(file_path, stan_input)"
   ]
  },
  {
   "cell_type": "code",
   "execution_count": 13,
   "id": "9ed5fd85-d805-4f54-9078-fe4e5d797f33",
   "metadata": {},
   "outputs": [],
   "source": [
    "with open(os.path.join(DATA_DIR, \"coords.json\"), \"w\") as f:\n",
    "    json.dump(prepared_data.coords, f)\n",
    "\n",
    "with open(os.path.join(DATA_DIR, \"dims.json\"), \"w\") as f:\n",
    "    json.dump(prepared_data.dims, f)"
   ]
  },
  {
   "cell_type": "markdown",
   "id": "4b89588a-7b15-48f6-9b58-629ea445f939",
   "metadata": {},
   "source": [
    "## Model Sampling"
   ]
  },
  {
   "cell_type": "code",
   "execution_count": 14,
   "id": "fff38164-d2b5-4da8-8a2e-410c9625ff55",
   "metadata": {},
   "outputs": [],
   "source": [
    "from src.constants import STAN_DIR\n",
    "from cmdstanpy import CmdStanModel\n",
    "import arviz as az\n",
    "from arviz.data.inference_data import InferenceData"
   ]
  },
  {
   "cell_type": "code",
   "execution_count": 76,
   "id": "fba85746-14e4-4d4a-af3f-6fee944c1303",
   "metadata": {},
   "outputs": [],
   "source": [
    "LOGISTIC_MODEL = os.path.join(STAN_DIR, \"logistic_model.stan\")\n",
    "STAN_INPUTS = sorted(os.listdir(STAN_INPUTS_DIR))\n",
    "STAN_PRIOR_INPUT = os.path.join(DATA_DIR, \"stan_input_prior.json\")\n",
    "STAN_POSTERIOR_INPUT = os.path.join(DATA_DIR, \"stan_input_posterior.json\")\n",
    "PRIOR_FILE = os.path.join(SAMPLE_DIR, \"prior.nc\")\n",
    "POSTERIOR_FILE = os.path.join(SAMPLE_DIR, \"posterior.nc\")"
   ]
  },
  {
   "cell_type": "code",
   "execution_count": 15,
   "id": "1b50a5d0-7c7e-405b-ab4d-8f2961a996fd",
   "metadata": {},
   "outputs": [],
   "source": [
    "with open(os.path.join(DATA_DIR, \"coords.json\"), \"r\") as f:\n",
    "    coords = json.load(f)"
   ]
  },
  {
   "cell_type": "code",
   "execution_count": 16,
   "id": "7f953226-304e-40d1-b27d-bd16d2282369",
   "metadata": {},
   "outputs": [],
   "source": [
    "with open(os.path.join(DATA_DIR, \"dims.json\"), \"r\") as f:\n",
    "    dims = json.load(f)"
   ]
  },
  {
   "cell_type": "code",
   "execution_count": 17,
   "id": "0600c706-0149-4511-9bcc-5a339cc49861",
   "metadata": {},
   "outputs": [],
   "source": [
    "if not os.path.exists(RESULTS_DIR):\n",
    "    os.mkdir(RESULTS_DIR)"
   ]
  },
  {
   "cell_type": "code",
   "execution_count": 25,
   "id": "390be04d-ed96-4690-ad88-90cef905c565",
   "metadata": {},
   "outputs": [],
   "source": [
    "if not os.path.exists(SAMPLE_DIR):\n",
    "    os.mkdir(SAMPLE_DIR)"
   ]
  },
  {
   "cell_type": "code",
   "execution_count": 19,
   "id": "c2802251-d8b8-4acb-8f20-12b927b7ba0e",
   "metadata": {},
   "outputs": [],
   "source": [
    "kwargs = {'show_progress': True, 'save_warmup': False, 'iter_warmup': 1000, 'iter_sampling': 1000}"
   ]
  },
  {
   "cell_type": "code",
   "execution_count": 20,
   "id": "1b156e32-d7fb-49e4-98ac-451d844dd5ed",
   "metadata": {},
   "outputs": [],
   "source": [
    "with open(STAN_PRIOR_INPUT, \"r\") as f:\n",
    "        stan_prior_input = json.load(f)"
   ]
  },
  {
   "cell_type": "code",
   "execution_count": 33,
   "id": "d6a4b0c7-2339-415f-80d0-6f68ffc6d483",
   "metadata": {},
   "outputs": [],
   "source": [
    "with open(STAN_POSTERIOR_INPUT, \"r\") as f:\n",
    "        stan_posterior_input = json.load(f)"
   ]
  },
  {
   "cell_type": "code",
   "execution_count": 34,
   "id": "3342a80d-9fae-4ae5-a83c-551982c86b61",
   "metadata": {},
   "outputs": [],
   "source": [
    "coords[\"ix_train\"] = [i - 1 for i in stan_prior_input[\"ix_train\"]]\n",
    "coords[\"ix_test\"] = [i - 1 for i in stan_prior_input[\"ix_test\"]]"
   ]
  },
  {
   "cell_type": "code",
   "execution_count": 35,
   "id": "09b1286f-8f3a-41e6-a631-0c8eb4de48aa",
   "metadata": {},
   "outputs": [
    {
     "name": "stderr",
     "output_type": "stream",
     "text": [
      "INFO:cmdstanpy:found newer exe file, not recompiling\n"
     ]
    }
   ],
   "source": [
    "model = CmdStanModel(\n",
    "    stan_file=LOGISTIC_MODEL,\n",
    "    stanc_options={'warn-pedantic': True},\n",
    ")"
   ]
  },
  {
   "cell_type": "code",
   "execution_count": 36,
   "id": "cef881e6-1dc9-4096-b631-3c42410dd169",
   "metadata": {},
   "outputs": [
    {
     "name": "stderr",
     "output_type": "stream",
     "text": [
      "INFO:cmdstanpy:CmdStan start procesing\n"
     ]
    },
    {
     "data": {
      "application/vnd.jupyter.widget-view+json": {
       "model_id": "76d02661dd6e4d89965268834a30e9da",
       "version_major": 2,
       "version_minor": 0
      },
      "text/plain": [
       "chain 1 |          | 00:00 Status"
      ]
     },
     "metadata": {},
     "output_type": "display_data"
    },
    {
     "data": {
      "application/vnd.jupyter.widget-view+json": {
       "model_id": "54f2e7c43d814ed59c55f3aeafca8d25",
       "version_major": 2,
       "version_minor": 0
      },
      "text/plain": [
       "chain 2 |          | 00:00 Status"
      ]
     },
     "metadata": {},
     "output_type": "display_data"
    },
    {
     "data": {
      "application/vnd.jupyter.widget-view+json": {
       "model_id": "d1f092515e624429ad72861d331285ad",
       "version_major": 2,
       "version_minor": 0
      },
      "text/plain": [
       "chain 3 |          | 00:00 Status"
      ]
     },
     "metadata": {},
     "output_type": "display_data"
    },
    {
     "data": {
      "application/vnd.jupyter.widget-view+json": {
       "model_id": "2ed0ff911b7448f78e4ce825c72d6f9a",
       "version_major": 2,
       "version_minor": 0
      },
      "text/plain": [
       "chain 4 |          | 00:00 Status"
      ]
     },
     "metadata": {},
     "output_type": "display_data"
    },
    {
     "name": "stdout",
     "output_type": "stream",
     "text": [
      "                                                                                                                                                                                                                                                                                                                                "
     ]
    },
    {
     "name": "stderr",
     "output_type": "stream",
     "text": [
      "INFO:cmdstanpy:CmdStan done processing.\n"
     ]
    },
    {
     "name": "stdout",
     "output_type": "stream",
     "text": [
      "\n"
     ]
    }
   ],
   "source": [
    "mcmc_prior = model.sample(data=STAN_PRIOR_INPUT, **kwargs)"
   ]
  },
  {
   "cell_type": "code",
   "execution_count": 24,
   "id": "fdc698d7-f87d-42b3-b7ad-2336f4737a03",
   "metadata": {},
   "outputs": [],
   "source": [
    "sampled_data = az.from_cmdstan(\n",
    "    posterior=mcmc_prior.runset.csv_files,\n",
    "    log_likelihood=\"llik\",\n",
    "    posterior_predictive=\"yrep\",\n",
    "    observed_data=STAN_PRIOR_INPUT,\n",
    "    coords=coords,\n",
    "    dims=dims,\n",
    ")"
   ]
  },
  {
   "cell_type": "code",
   "execution_count": 27,
   "id": "50f31ddc-7405-48e6-9cfd-6cc1858f7e4d",
   "metadata": {},
   "outputs": [
    {
     "data": {
      "text/plain": [
       "'/Users/dominikwozniak/study/data_analytics/final/data/sample/prior.nc'"
      ]
     },
     "execution_count": 27,
     "metadata": {},
     "output_type": "execute_result"
    }
   ],
   "source": [
    "sampled_data.to_netcdf(PRIOR_FILE)"
   ]
  },
  {
   "cell_type": "code",
   "execution_count": null,
   "id": "e4709746-50c0-4dee-be86-269bbcd500a7",
   "metadata": {},
   "outputs": [],
   "source": []
  },
  {
   "cell_type": "code",
   "execution_count": 37,
   "id": "74588a12-5af9-46ce-bba9-fcc6b650d4c6",
   "metadata": {},
   "outputs": [
    {
     "name": "stderr",
     "output_type": "stream",
     "text": [
      "INFO:cmdstanpy:found newer exe file, not recompiling\n"
     ]
    }
   ],
   "source": [
    "model = CmdStanModel(\n",
    "    stan_file=LOGISTIC_MODEL,\n",
    "    stanc_options={'warn-pedantic': True},\n",
    ")"
   ]
  },
  {
   "cell_type": "code",
   "execution_count": 38,
   "id": "fefae21c-32c6-41e7-932d-b1c4c08d9f21",
   "metadata": {},
   "outputs": [],
   "source": [
    "coords[\"ix_train\"] = [i - 1 for i in stan_posterior_input[\"ix_train\"]]\n",
    "coords[\"ix_test\"] = [i - 1 for i in stan_posterior_input[\"ix_test\"]]"
   ]
  },
  {
   "cell_type": "code",
   "execution_count": 39,
   "id": "2960562c-d577-4a29-9f9f-d6a07c4bcd18",
   "metadata": {},
   "outputs": [
    {
     "name": "stderr",
     "output_type": "stream",
     "text": [
      "INFO:cmdstanpy:CmdStan start procesing\n"
     ]
    },
    {
     "data": {
      "application/vnd.jupyter.widget-view+json": {
       "model_id": "2be1b11e7d8d4d66ba32143fdcfcc506",
       "version_major": 2,
       "version_minor": 0
      },
      "text/plain": [
       "chain 1 |          | 00:00 Status"
      ]
     },
     "metadata": {},
     "output_type": "display_data"
    },
    {
     "data": {
      "application/vnd.jupyter.widget-view+json": {
       "model_id": "6716e251c909467f8e5aa99f75534648",
       "version_major": 2,
       "version_minor": 0
      },
      "text/plain": [
       "chain 2 |          | 00:00 Status"
      ]
     },
     "metadata": {},
     "output_type": "display_data"
    },
    {
     "data": {
      "application/vnd.jupyter.widget-view+json": {
       "model_id": "cea29ff732074e6697d9744976141dc1",
       "version_major": 2,
       "version_minor": 0
      },
      "text/plain": [
       "chain 3 |          | 00:00 Status"
      ]
     },
     "metadata": {},
     "output_type": "display_data"
    },
    {
     "data": {
      "application/vnd.jupyter.widget-view+json": {
       "model_id": "9e1e768ed46b444b82a4b396239b4536",
       "version_major": 2,
       "version_minor": 0
      },
      "text/plain": [
       "chain 4 |          | 00:00 Status"
      ]
     },
     "metadata": {},
     "output_type": "display_data"
    },
    {
     "name": "stdout",
     "output_type": "stream",
     "text": [
      "                                                                                                                                                                                                                                                                                                                                "
     ]
    },
    {
     "name": "stderr",
     "output_type": "stream",
     "text": [
      "INFO:cmdstanpy:CmdStan done processing.\n"
     ]
    },
    {
     "name": "stdout",
     "output_type": "stream",
     "text": [
      "\n"
     ]
    }
   ],
   "source": [
    "mcmc_posterior = model.sample(data=STAN_POSTERIOR_INPUT, **kwargs)"
   ]
  },
  {
   "cell_type": "code",
   "execution_count": 40,
   "id": "c5fb6f2b-5940-4f2a-b2f4-4ed0bf271178",
   "metadata": {},
   "outputs": [],
   "source": [
    "sampled_data = az.from_cmdstan(\n",
    "    posterior=mcmc_prior.runset.csv_files,\n",
    "    log_likelihood=\"llik\",\n",
    "    posterior_predictive=\"yrep\",\n",
    "    observed_data=STAN_POSTERIOR_INPUT,\n",
    "    coords=coords,\n",
    "    dims=dims,\n",
    ")"
   ]
  },
  {
   "cell_type": "code",
   "execution_count": 41,
   "id": "af1e3da5-a849-4a35-bc31-1c1f05c59a46",
   "metadata": {},
   "outputs": [
    {
     "data": {
      "text/plain": [
       "'/Users/dominikwozniak/study/data_analytics/final/data/sample/posterior.nc'"
      ]
     },
     "execution_count": 41,
     "metadata": {},
     "output_type": "execute_result"
    }
   ],
   "source": [
    "sampled_data.to_netcdf(POSTERIOR_FILE)"
   ]
  },
  {
   "cell_type": "code",
   "execution_count": null,
   "id": "64cd913c-42d1-47a5-b50a-eb8e154ac0a2",
   "metadata": {},
   "outputs": [],
   "source": []
  },
  {
   "cell_type": "code",
   "execution_count": 45,
   "id": "31eea8bd-e6a8-465c-8106-eb9de9141734",
   "metadata": {},
   "outputs": [],
   "source": [
    "if os.path.exists(PRIOR_FILE):\n",
    "    prior = az.from_netcdf(PRIOR_FILE)\n",
    "    \n",
    "if os.path.exists(POSTERIOR_FILE):\n",
    "    posterior = az.from_netcdf(POSTERIOR_FILE)"
   ]
  },
  {
   "cell_type": "code",
   "execution_count": 48,
   "id": "0bf320e1-bcde-44f6-b6b9-a91caf264eed",
   "metadata": {},
   "outputs": [
    {
     "data": {
      "text/html": [
       "<div>\n",
       "<style scoped>\n",
       "    .dataframe tbody tr th:only-of-type {\n",
       "        vertical-align: middle;\n",
       "    }\n",
       "\n",
       "    .dataframe tbody tr th {\n",
       "        vertical-align: top;\n",
       "    }\n",
       "\n",
       "    .dataframe thead th {\n",
       "        text-align: right;\n",
       "    }\n",
       "</style>\n",
       "<table border=\"1\" class=\"dataframe\">\n",
       "  <thead>\n",
       "    <tr style=\"text-align: right;\">\n",
       "      <th></th>\n",
       "      <th>mean</th>\n",
       "      <th>sd</th>\n",
       "      <th>hdi_3%</th>\n",
       "      <th>hdi_97%</th>\n",
       "      <th>mcse_mean</th>\n",
       "      <th>mcse_sd</th>\n",
       "      <th>ess_bulk</th>\n",
       "      <th>ess_tail</th>\n",
       "      <th>r_hat</th>\n",
       "    </tr>\n",
       "  </thead>\n",
       "  <tbody>\n",
       "    <tr>\n",
       "      <th>a</th>\n",
       "      <td>0.010</td>\n",
       "      <td>1.011</td>\n",
       "      <td>-1.926</td>\n",
       "      <td>1.896</td>\n",
       "      <td>0.017</td>\n",
       "      <td>0.016</td>\n",
       "      <td>3404.0</td>\n",
       "      <td>2659.0</td>\n",
       "      <td>1.0</td>\n",
       "    </tr>\n",
       "    <tr>\n",
       "      <th>b</th>\n",
       "      <td>0.008</td>\n",
       "      <td>1.026</td>\n",
       "      <td>-1.806</td>\n",
       "      <td>2.042</td>\n",
       "      <td>0.017</td>\n",
       "      <td>0.017</td>\n",
       "      <td>3660.0</td>\n",
       "      <td>2468.0</td>\n",
       "      <td>1.0</td>\n",
       "    </tr>\n",
       "  </tbody>\n",
       "</table>\n",
       "</div>"
      ],
      "text/plain": [
       "    mean     sd  hdi_3%  hdi_97%  mcse_mean  mcse_sd  ess_bulk  ess_tail  \\\n",
       "a  0.010  1.011  -1.926    1.896      0.017    0.016    3404.0    2659.0   \n",
       "b  0.008  1.026  -1.806    2.042      0.017    0.017    3660.0    2468.0   \n",
       "\n",
       "   r_hat  \n",
       "a    1.0  \n",
       "b    1.0  "
      ]
     },
     "metadata": {},
     "output_type": "display_data"
    }
   ],
   "source": [
    "display(az.summary(prior))"
   ]
  },
  {
   "cell_type": "code",
   "execution_count": 47,
   "id": "c46fdf3f-1cdb-4753-962d-be75549c76e4",
   "metadata": {},
   "outputs": [
    {
     "data": {
      "text/html": [
       "<div>\n",
       "<style scoped>\n",
       "    .dataframe tbody tr th:only-of-type {\n",
       "        vertical-align: middle;\n",
       "    }\n",
       "\n",
       "    .dataframe tbody tr th {\n",
       "        vertical-align: top;\n",
       "    }\n",
       "\n",
       "    .dataframe thead th {\n",
       "        text-align: right;\n",
       "    }\n",
       "</style>\n",
       "<table border=\"1\" class=\"dataframe\">\n",
       "  <thead>\n",
       "    <tr style=\"text-align: right;\">\n",
       "      <th></th>\n",
       "      <th>mean</th>\n",
       "      <th>sd</th>\n",
       "      <th>hdi_3%</th>\n",
       "      <th>hdi_97%</th>\n",
       "      <th>mcse_mean</th>\n",
       "      <th>mcse_sd</th>\n",
       "      <th>ess_bulk</th>\n",
       "      <th>ess_tail</th>\n",
       "      <th>r_hat</th>\n",
       "    </tr>\n",
       "  </thead>\n",
       "  <tbody>\n",
       "    <tr>\n",
       "      <th>a</th>\n",
       "      <td>-0.011</td>\n",
       "      <td>1.016</td>\n",
       "      <td>-1.959</td>\n",
       "      <td>1.812</td>\n",
       "      <td>0.016</td>\n",
       "      <td>0.016</td>\n",
       "      <td>4030.0</td>\n",
       "      <td>2701.0</td>\n",
       "      <td>1.0</td>\n",
       "    </tr>\n",
       "    <tr>\n",
       "      <th>b</th>\n",
       "      <td>0.004</td>\n",
       "      <td>1.018</td>\n",
       "      <td>-1.967</td>\n",
       "      <td>1.859</td>\n",
       "      <td>0.016</td>\n",
       "      <td>0.018</td>\n",
       "      <td>3975.0</td>\n",
       "      <td>2807.0</td>\n",
       "      <td>1.0</td>\n",
       "    </tr>\n",
       "  </tbody>\n",
       "</table>\n",
       "</div>"
      ],
      "text/plain": [
       "    mean     sd  hdi_3%  hdi_97%  mcse_mean  mcse_sd  ess_bulk  ess_tail  \\\n",
       "a -0.011  1.016  -1.959    1.812      0.016    0.016    4030.0    2701.0   \n",
       "b  0.004  1.018  -1.967    1.859      0.016    0.018    3975.0    2807.0   \n",
       "\n",
       "   r_hat  \n",
       "a    1.0  \n",
       "b    1.0  "
      ]
     },
     "metadata": {},
     "output_type": "display_data"
    }
   ],
   "source": [
    "display(az.summary(posterior))"
   ]
  },
  {
   "cell_type": "code",
   "execution_count": 52,
   "id": "28de6308-98a3-4fdd-891b-b69f3348f72e",
   "metadata": {},
   "outputs": [],
   "source": [
    "a_mean = posterior.posterior[\"a\"].mean()\n",
    "b_mean = posterior.posterior[\"b\"].mean()"
   ]
  },
  {
   "cell_type": "code",
   "execution_count": 65,
   "id": "5b771b4e-9b42-47e4-ba9f-5f8df5a9afbb",
   "metadata": {},
   "outputs": [],
   "source": [
    "from scipy.special import expit\n",
    "from scipy.stats import norm\n",
    "from functools import partial\n",
    "import numpy as np"
   ]
  },
  {
   "cell_type": "code",
   "execution_count": 59,
   "id": "fd610b91-6399-4d1c-bbf4-6cfc3ea1694e",
   "metadata": {},
   "outputs": [],
   "source": [
    "def f_logistic(x: float, a: float, b: float):\n",
    "    return expit(a + b * x)"
   ]
  },
  {
   "cell_type": "code",
   "execution_count": 60,
   "id": "e4174184-2500-41e1-9b1e-3dd225c6bf3d",
   "metadata": {},
   "outputs": [],
   "source": [
    "f_logistic_ds = partial(f_logistic, a=a_mean, b=b_mean)"
   ]
  },
  {
   "cell_type": "code",
   "execution_count": 62,
   "id": "c2884f1b-2731-46be-b4e9-376df9a27642",
   "metadata": {},
   "outputs": [],
   "source": [
    "observed_data = posterior.observed_data"
   ]
  },
  {
   "cell_type": "code",
   "execution_count": 66,
   "id": "d86cbbcd-d13c-49c5-a6f8-3f352b77b243",
   "metadata": {},
   "outputs": [],
   "source": [
    "x_mod = np.linspace(observed_data[\"x\"].min(), observed_data[\"x\"].max(), 500)\n",
    "x_obs = observed_data[\"x\"].values"
   ]
  },
  {
   "cell_type": "code",
   "execution_count": 71,
   "id": "d0072a0a-3a4e-41cb-9618-48f4d3197d47",
   "metadata": {},
   "outputs": [],
   "source": [
    "obs = observed_data[\"y\"].values / observed_data[\"batch_size\"].values\n",
    "mod_logistic = np.array(list(map(f_logistic_ds, x_mod)))"
   ]
  },
  {
   "cell_type": "code",
   "execution_count": 74,
   "id": "63687209-2ef0-46a7-948e-b3199c7be83c",
   "metadata": {},
   "outputs": [
    {
     "data": {
      "image/png": "[encoded data removed]",
      "text/plain": [
       "<Figure size 720x432 with 1 Axes>"
      ]
     },
     "metadata": {
      "needs_background": "light"
     },
     "output_type": "display_data"
    }
   ],
   "source": [
    "plt.figure(figsize=(10, 6))\n",
    "plt.scatter(x_obs, obs, label=\"Observed data\", color=\"black\")\n",
    "plt.plot(x_mod, mod_logistic, label=\"Logistic regression model\")\n",
    "plt.legend()\n",
    "plt.show()"
   ]
  },
  {
   "cell_type": "code",
   "execution_count": 75,
   "id": "c7a9e6b1-a827-4ea6-9462-ebf6d8f1e558",
   "metadata": {},
   "outputs": [
    {
     "data": {
      "text/plain": [
       "functools.partial(<function f_logistic at 0x7feb2f799700>, a=<xarray.DataArray 'a' ()>\n",
       "array(-0.01076966), b=<xarray.DataArray 'b' ()>\n",
       "array(0.00364266))"
      ]
     },
     "execution_count": 75,
     "metadata": {},
     "output_type": "execute_result"
    }
   ],
   "source": [
    "f_logistic_ds"
   ]
  },
  {
   "cell_type": "code",
   "execution_count": null,
   "id": "b2b44911-f768-4060-a8ad-f5ca40d4531c",
   "metadata": {},
   "outputs": [],
   "source": []
  }
 ],
 "metadata": {
  "kernelspec": {
   "display_name": "Python 3 (ipykernel)",
   "language": "python",
   "name": "python3"
  },
  "language_info": {
   "codemirror_mode": {
    "name": "ipython",
    "version": 3
   },
   "file_extension": ".py",
   "mimetype": "text/x-python",
   "name": "python",
   "nbconvert_exporter": "python",
   "pygments_lexer": "ipython3",
   "version": "3.9.7"
  }
 },
 "nbformat": 4,
 "nbformat_minor": 5
}
