{
 "cells": [
  {
   "cell_type": "markdown",
   "id": "6ad64c9d-a88a-4b97-bb9d-21258ffd0a79",
   "metadata": {},
   "source": [
    "# Data analytics final project\n",
    "\n",
    "*Dominik Woźniak, 2022*"
   ]
  },
  {
   "cell_type": "markdown",
   "id": "9fbd4861-1dc9-4ec9-b528-18a17b796262",
   "metadata": {},
   "source": [
    "## Dataset\n",
    "Dataset basing on golf putting data, typed in from Don Berry’s 1996 textbook. The columns are distance in feet from the hole, number of tries, and number of successes."
   ]
  },
  {
   "cell_type": "code",
   "execution_count": 1,
   "id": "1d53d5e5-2ded-4f92-ab9f-dab6d21dc52c",
   "metadata": {},
   "outputs": [],
   "source": [
    "import pandas as pd\n",
    "import matplotlib.pyplot as plt"
   ]
  },
  {
   "cell_type": "code",
   "execution_count": 2,
   "id": "10672c0e-8d9a-4041-88da-5f20ae4ab4f3",
   "metadata": {},
   "outputs": [],
   "source": [
    "data = pd.read_csv('data.csv')"
   ]
  },
  {
   "cell_type": "code",
   "execution_count": 3,
   "id": "3924e3f3-5941-44f5-8a01-cd85917403ef",
   "metadata": {},
   "outputs": [
    {
     "data": {
      "text/html": [
       "<div>\n",
       "<style scoped>\n",
       "    .dataframe tbody tr th:only-of-type {\n",
       "        vertical-align: middle;\n",
       "    }\n",
       "\n",
       "    .dataframe tbody tr th {\n",
       "        vertical-align: top;\n",
       "    }\n",
       "\n",
       "    .dataframe thead th {\n",
       "        text-align: right;\n",
       "    }\n",
       "</style>\n",
       "<table border=\"1\" class=\"dataframe\">\n",
       "  <thead>\n",
       "    <tr style=\"text-align: right;\">\n",
       "      <th></th>\n",
       "      <th>x</th>\n",
       "      <th>n</th>\n",
       "      <th>y</th>\n",
       "    </tr>\n",
       "  </thead>\n",
       "  <tbody>\n",
       "    <tr>\n",
       "      <th>0</th>\n",
       "      <td>2</td>\n",
       "      <td>1443</td>\n",
       "      <td>1346</td>\n",
       "    </tr>\n",
       "    <tr>\n",
       "      <th>1</th>\n",
       "      <td>3</td>\n",
       "      <td>694</td>\n",
       "      <td>577</td>\n",
       "    </tr>\n",
       "    <tr>\n",
       "      <th>2</th>\n",
       "      <td>4</td>\n",
       "      <td>455</td>\n",
       "      <td>337</td>\n",
       "    </tr>\n",
       "    <tr>\n",
       "      <th>3</th>\n",
       "      <td>5</td>\n",
       "      <td>353</td>\n",
       "      <td>208</td>\n",
       "    </tr>\n",
       "    <tr>\n",
       "      <th>4</th>\n",
       "      <td>6</td>\n",
       "      <td>272</td>\n",
       "      <td>149</td>\n",
       "    </tr>\n",
       "  </tbody>\n",
       "</table>\n",
       "</div>"
      ],
      "text/plain": [
       "   x     n     y\n",
       "0  2  1443  1346\n",
       "1  3   694   577\n",
       "2  4   455   337\n",
       "3  5   353   208\n",
       "4  6   272   149"
      ]
     },
     "execution_count": 3,
     "metadata": {},
     "output_type": "execute_result"
    }
   ],
   "source": [
    "data.head()"
   ]
  },
  {
   "cell_type": "code",
   "execution_count": 4,
   "id": "86e8d906-adb5-4267-ad49-a32e391b1cf2",
   "metadata": {},
   "outputs": [
    {
     "data": {
      "image/png": "[encoded data removed]",
      "text/plain": [
       "<Figure size 720x432 with 1 Axes>"
      ]
     },
     "metadata": {
      "needs_background": "light"
     },
     "output_type": "display_data"
    }
   ],
   "source": [
    "plt.figure(figsize=(10, 6))\n",
    "plt.scatter(data.x, data.y)\n",
    "plt.title('Data on putts in pro golf')\n",
    "plt.xlabel('Distance (feet)')\n",
    "plt.ylabel('Propability of success')\n",
    "plt.show()"
   ]
  },
  {
   "cell_type": "markdown",
   "id": "3bbe0413-9f46-4a2f-ab36-7281d61f5e7d",
   "metadata": {},
   "source": [
    "## Prepare data"
   ]
  },
  {
   "cell_type": "code",
   "execution_count": 5,
   "id": "855a1772-4c02-464d-83b4-0bc2c1cfa856",
   "metadata": {},
   "outputs": [],
   "source": [
    "import json\n",
    "import os\n",
    "import numpy as np\n",
    "from cmdstanpy import write_stan_json"
   ]
  },
  {
   "cell_type": "code",
   "execution_count": 11,
   "id": "67154bd9-449a-4b9a-976f-ec58f4efadc2",
   "metadata": {},
   "outputs": [],
   "source": [
    "from src.types import StanInputNumber, StanInputList, StanInputValue, StanInput, CoordDict, PreparedData\n",
    "from src.constants import DATA_DIR, STAN_INPUTS_DIR, MEASUREMENTS_FILE, INPUT_PRIOR_FILE, INPUT_POSTERIOR_FILE\n",
    "from src.helpers import get_stan_input, get_stan_inputs, prepare_data"
   ]
  },
  {
   "cell_type": "code",
   "execution_count": 12,
   "id": "4629bf0b-2bf5-495c-bcc5-7ad723d31e32",
   "metadata": {},
   "outputs": [],
   "source": [
    "if not os.path.exists(DATA_DIR):\n",
    "    os.mkdir(DATA_DIR)\n",
    "    \n",
    "if not os.path.exists(STAN_INPUTS_DIR):\n",
    "    os.mkdir(STAN_INPUTS_DIR)    "
   ]
  },
  {
   "cell_type": "code",
   "execution_count": 13,
   "id": "50f2cbf4-3170-4cd2-ae96-1f438c3c3f62",
   "metadata": {},
   "outputs": [],
   "source": [
    "prepared_data = prepare_data(data)"
   ]
  },
  {
   "cell_type": "code",
   "execution_count": 14,
   "id": "3c86c574-ae13-41ad-bd97-4d4174256eef",
   "metadata": {},
   "outputs": [],
   "source": [
    "prepared_data.measurements.to_csv(MEASUREMENTS_FILE)"
   ]
  },
  {
   "cell_type": "code",
   "execution_count": 15,
   "id": "186226ab-b116-45b9-8323-0d14c957b41c",
   "metadata": {},
   "outputs": [],
   "source": [
    "si_prior, si_posterior, sis_cv = get_stan_inputs(prepared_data)"
   ]
  },
  {
   "cell_type": "code",
   "execution_count": 16,
   "id": "d88a128d-1a0b-4b33-a43d-bf8461306359",
   "metadata": {},
   "outputs": [],
   "source": [
    "write_stan_json(INPUT_POSTERIOR_FILE, si_posterior)\n",
    "write_stan_json(INPUT_PRIOR_FILE, si_prior)"
   ]
  },
  {
   "cell_type": "code",
   "execution_count": 18,
   "id": "6a6518ee-c73e-4c0e-9a91-0b1fd31cc889",
   "metadata": {},
   "outputs": [],
   "source": [
    "for i, stan_input in enumerate(sis_cv):\n",
    "    file_path = os.path.join(STAN_INPUTS_DIR, f\"split_{str(i)}.json\")\n",
    "    write_stan_json(file_path, stan_input)"
   ]
  },
  {
   "cell_type": "code",
   "execution_count": null,
   "id": "6a641096-d850-4dec-a147-a3ea415eeec3",
   "metadata": {},
   "outputs": [],
   "source": []
  }
 ],
 "metadata": {
  "kernelspec": {
   "display_name": "Python 3 (ipykernel)",
   "language": "python",
   "name": "python3"
  },
  "language_info": {
   "codemirror_mode": {
    "name": "ipython",
    "version": 3
   },
   "file_extension": ".py",
   "mimetype": "text/x-python",
   "name": "python",
   "nbconvert_exporter": "python",
   "pygments_lexer": "ipython3",
   "version": "3.9.7"
  }
 },
 "nbformat": 4,
 "nbformat_minor": 5
}
