{
 "cells": [
  {
   "cell_type": "markdown",
   "id": "495b8bf4-417d-4d7d-960a-77fb9e26d8cb",
   "metadata": {},
   "source": [
    "# Playground"
   ]
  },
  {
   "cell_type": "markdown",
   "id": "849ff76b-2983-4c79-9a0d-71014b6387ca",
   "metadata": {},
   "source": [
    "### Dataset\n",
    "\n",
    "The data was extracted from the 1974 Motor Trend US magazine, and comprises fuel consumption and 10 aspects of automobile design and performance for 32 automobiles (1973--74 models).\n",
    "\n",
    "https://www.kaggle.com/datasets/ruiromanini/mtcars"
   ]
  },
  {
   "cell_type": "code",
   "execution_count": 1,
   "id": "06df873a-fee2-4188-9773-58306a7d43af",
   "metadata": {},
   "outputs": [],
   "source": [
    "import arviz as az\n",
    "import pandas as pd\n",
    "import numpy as np\n",
    "import matplotlib.pyplot as plt\n",
    "import seaborn as sns"
   ]
  },
  {
   "cell_type": "code",
   "execution_count": 2,
   "id": "88f6811a-c897-45d4-bab3-95b7265a84c5",
   "metadata": {},
   "outputs": [],
   "source": [
    "data = pd.read_csv('data.csv')"
   ]
  },
  {
   "cell_type": "code",
   "execution_count": 3,
   "id": "5e2d25d0-52c7-4200-aa5d-781a9f9872ed",
   "metadata": {},
   "outputs": [],
   "source": [
    "data['y'] = data['mpg']"
   ]
  },
  {
   "cell_type": "code",
   "execution_count": 4,
   "id": "56c2f262-d592-453d-b6c7-691438b33d26",
   "metadata": {},
   "outputs": [
    {
     "data": {
      "text/html": [
       "<div>\n",
       "<style scoped>\n",
       "    .dataframe tbody tr th:only-of-type {\n",
       "        vertical-align: middle;\n",
       "    }\n",
       "\n",
       "    .dataframe tbody tr th {\n",
       "        vertical-align: top;\n",
       "    }\n",
       "\n",
       "    .dataframe thead th {\n",
       "        text-align: right;\n",
       "    }\n",
       "</style>\n",
       "<table border=\"1\" class=\"dataframe\">\n",
       "  <thead>\n",
       "    <tr style=\"text-align: right;\">\n",
       "      <th></th>\n",
       "      <th>model</th>\n",
       "      <th>mpg</th>\n",
       "      <th>cyl</th>\n",
       "      <th>disp</th>\n",
       "      <th>hp</th>\n",
       "      <th>drat</th>\n",
       "      <th>wt</th>\n",
       "      <th>qsec</th>\n",
       "      <th>vs</th>\n",
       "      <th>am</th>\n",
       "      <th>gear</th>\n",
       "      <th>carb</th>\n",
       "      <th>y</th>\n",
       "    </tr>\n",
       "  </thead>\n",
       "  <tbody>\n",
       "    <tr>\n",
       "      <th>0</th>\n",
       "      <td>Mazda RX4</td>\n",
       "      <td>21.0</td>\n",
       "      <td>6</td>\n",
       "      <td>160.0</td>\n",
       "      <td>110</td>\n",
       "      <td>3.90</td>\n",
       "      <td>2.620</td>\n",
       "      <td>16.46</td>\n",
       "      <td>0</td>\n",
       "      <td>1</td>\n",
       "      <td>4</td>\n",
       "      <td>4</td>\n",
       "      <td>21.0</td>\n",
       "    </tr>\n",
       "    <tr>\n",
       "      <th>1</th>\n",
       "      <td>Mazda RX4 Wag</td>\n",
       "      <td>21.0</td>\n",
       "      <td>6</td>\n",
       "      <td>160.0</td>\n",
       "      <td>110</td>\n",
       "      <td>3.90</td>\n",
       "      <td>2.875</td>\n",
       "      <td>17.02</td>\n",
       "      <td>0</td>\n",
       "      <td>1</td>\n",
       "      <td>4</td>\n",
       "      <td>4</td>\n",
       "      <td>21.0</td>\n",
       "    </tr>\n",
       "    <tr>\n",
       "      <th>2</th>\n",
       "      <td>Datsun 710</td>\n",
       "      <td>22.8</td>\n",
       "      <td>4</td>\n",
       "      <td>108.0</td>\n",
       "      <td>93</td>\n",
       "      <td>3.85</td>\n",
       "      <td>2.320</td>\n",
       "      <td>18.61</td>\n",
       "      <td>1</td>\n",
       "      <td>1</td>\n",
       "      <td>4</td>\n",
       "      <td>1</td>\n",
       "      <td>22.8</td>\n",
       "    </tr>\n",
       "    <tr>\n",
       "      <th>3</th>\n",
       "      <td>Hornet 4 Drive</td>\n",
       "      <td>21.4</td>\n",
       "      <td>6</td>\n",
       "      <td>258.0</td>\n",
       "      <td>110</td>\n",
       "      <td>3.08</td>\n",
       "      <td>3.215</td>\n",
       "      <td>19.44</td>\n",
       "      <td>1</td>\n",
       "      <td>0</td>\n",
       "      <td>3</td>\n",
       "      <td>1</td>\n",
       "      <td>21.4</td>\n",
       "    </tr>\n",
       "    <tr>\n",
       "      <th>4</th>\n",
       "      <td>Hornet Sportabout</td>\n",
       "      <td>18.7</td>\n",
       "      <td>8</td>\n",
       "      <td>360.0</td>\n",
       "      <td>175</td>\n",
       "      <td>3.15</td>\n",
       "      <td>3.440</td>\n",
       "      <td>17.02</td>\n",
       "      <td>0</td>\n",
       "      <td>0</td>\n",
       "      <td>3</td>\n",
       "      <td>2</td>\n",
       "      <td>18.7</td>\n",
       "    </tr>\n",
       "  </tbody>\n",
       "</table>\n",
       "</div>"
      ],
      "text/plain": [
       "               model   mpg  cyl   disp   hp  drat     wt   qsec  vs  am  gear  \\\n",
       "0          Mazda RX4  21.0    6  160.0  110  3.90  2.620  16.46   0   1     4   \n",
       "1      Mazda RX4 Wag  21.0    6  160.0  110  3.90  2.875  17.02   0   1     4   \n",
       "2         Datsun 710  22.8    4  108.0   93  3.85  2.320  18.61   1   1     4   \n",
       "3     Hornet 4 Drive  21.4    6  258.0  110  3.08  3.215  19.44   1   0     3   \n",
       "4  Hornet Sportabout  18.7    8  360.0  175  3.15  3.440  17.02   0   0     3   \n",
       "\n",
       "   carb     y  \n",
       "0     4  21.0  \n",
       "1     4  21.0  \n",
       "2     1  22.8  \n",
       "3     1  21.4  \n",
       "4     2  18.7  "
      ]
     },
     "execution_count": 4,
     "metadata": {},
     "output_type": "execute_result"
    }
   ],
   "source": [
    "data.head()"
   ]
  },
  {
   "cell_type": "code",
   "execution_count": 5,
   "id": "87c5873f-8378-497c-a05b-c76b4b6e611e",
   "metadata": {},
   "outputs": [
    {
     "data": {
      "image/png": "[encoded data removed]",
      "text/plain": [
       "<Figure size 864x432 with 1 Axes>"
      ]
     },
     "metadata": {
      "needs_background": "light"
     },
     "output_type": "display_data"
    }
   ],
   "source": [
    "plt.figure(figsize=(12,6))\n",
    "plt.scatter(data['wt'], data['mpg'])\n",
    "plt.xlabel('weight (1000lb)')\n",
    "plt.ylabel('mpg (miles per gallon)')\n",
    "plt.show()"
   ]
  },
  {
   "cell_type": "code",
   "execution_count": 6,
   "id": "ac46c0dc-e663-4e94-8790-00031c0cf101",
   "metadata": {},
   "outputs": [],
   "source": [
    "def plot_trace(param, param_name='parameter'):\n",
    "    mean = np.mean(param)\n",
    "    median = np.median(param)\n",
    "    cred_min, cred_max = np.percentile(param, 2.5), np.percentile(param, 97.5)\n",
    "    \n",
    "    plt.subplot(2,1,1)\n",
    "    plt.plot(param)\n",
    "    plt.xlabel('samples')\n",
    "    plt.ylabel(param_name)\n",
    "    plt.axhline(mean, color='r', lw=2, linestyle='--')\n",
    "    plt.axhline(median, color='c', lw=2, linestyle='--')\n",
    "    plt.axhline(cred_min, linestyle=':', color='k', alpha=0.2)\n",
    "    plt.axhline(cred_max, linestyle=':', color='k', alpha=0.2)\n",
    "    plt.title('Trace and Posterior Distribution for {}'.format(param_name))\n",
    "\n",
    "    plt.subplot(2,1,2)\n",
    "    plt.hist(param, 30, density=True); sns.kdeplot(param, shade=True)\n",
    "    plt.xlabel(param_name)\n",
    "    plt.ylabel('density')\n",
    "    plt.axvline(mean, color='r', lw=2, linestyle='--',label='mean')\n",
    "    plt.axvline(median, color='c', lw=2, linestyle='--',label='median')\n",
    "    plt.axvline(cred_min, linestyle=':', color='k', alpha=0.2, label=r'95\\% CI')\n",
    "    plt.axvline(cred_max, linestyle=':', color='k', alpha=0.2)\n",
    "    \n",
    "    plt.gcf().tight_layout()\n",
    "    plt.legend()\n",
    "    \n",
    "def subplot_trace(ax, param, param_name='parameter', x=0, y=0):\n",
    "    mean = np.mean(param)\n",
    "    median = np.median(param)\n",
    "    cred_min, cred_max = np.percentile(param, 2.5), np.percentile(param, 97.5)\n",
    "    \n",
    "    ax[x, y].plot(param)\n",
    "    ax[x, y].axhline(mean, color='r', lw=2, linestyle='--')\n",
    "    ax[x, y].axhline(median, color='c', lw=2, linestyle='--')\n",
    "    ax[x, y].axhline(cred_min, linestyle=':', color='k', alpha=0.2)\n",
    "    ax[x, y].axhline(cred_max, linestyle=':', color='k', alpha=0.2)\n",
    "    ax[x, y].set_title(param_name)"
   ]
  },
  {
   "cell_type": "markdown",
   "id": "beac45f1-a36c-4985-9479-1499b6a599e6",
   "metadata": {},
   "source": [
    "### Build a Model"
   ]
  },
  {
   "cell_type": "code",
   "execution_count": 7,
   "id": "84b16443-b127-4141-8a5b-05998b903657",
   "metadata": {},
   "outputs": [],
   "source": [
    "from cmdstanpy import CmdStanModel"
   ]
  },
  {
   "cell_type": "code",
   "execution_count": 8,
   "id": "3b093730-8f27-422d-aea2-f54c2c93a704",
   "metadata": {},
   "outputs": [
    {
     "name": "stderr",
     "output_type": "stream",
     "text": [
      "INFO:cmdstanpy:found newer exe file, not recompiling\n"
     ]
    }
   ],
   "source": [
    "model = CmdStanModel(stan_file='stan/single_predictor.stan')"
   ]
  },
  {
   "cell_type": "code",
   "execution_count": 9,
   "id": "0d438641-a64a-4d48-8c39-16682deadb8d",
   "metadata": {},
   "outputs": [],
   "source": [
    "N = data.shape[0]\n",
    "\n",
    "model_data = {\n",
    "    \"mpg\": data.mpg,\n",
    "    \"weight\": data.wt,\n",
    "    \"n\": N\n",
    "}"
   ]
  },
  {
   "cell_type": "code",
   "execution_count": 10,
   "id": "fa6f6737-6e3d-4caf-92f7-620cdd9d38ec",
   "metadata": {},
   "outputs": [
    {
     "name": "stderr",
     "output_type": "stream",
     "text": [
      "INFO:cmdstanpy:CmdStan start procesing\n"
     ]
    },
    {
     "data": {
      "application/vnd.jupyter.widget-view+json": {
       "model_id": "40a5cd777ded47109b7b2660689a8d49",
       "version_major": 2,
       "version_minor": 0
      },
      "text/plain": [
       "chain 1 |          | 00:00 Status"
      ]
     },
     "metadata": {},
     "output_type": "display_data"
    },
    {
     "data": {
      "application/vnd.jupyter.widget-view+json": {
       "model_id": "c200c05575ff4c0a89838e0922fa5ef5",
       "version_major": 2,
       "version_minor": 0
      },
      "text/plain": [
       "chain 2 |          | 00:00 Status"
      ]
     },
     "metadata": {},
     "output_type": "display_data"
    },
    {
     "data": {
      "application/vnd.jupyter.widget-view+json": {
       "model_id": "64cf70ac7e174a2895b40ae6f0358cb9",
       "version_major": 2,
       "version_minor": 0
      },
      "text/plain": [
       "chain 3 |          | 00:00 Status"
      ]
     },
     "metadata": {},
     "output_type": "display_data"
    },
    {
     "data": {
      "application/vnd.jupyter.widget-view+json": {
       "model_id": "e4e02842582f4d948886fb1fa8e498b3",
       "version_major": 2,
       "version_minor": 0
      },
      "text/plain": [
       "chain 4 |          | 00:00 Status"
      ]
     },
     "metadata": {},
     "output_type": "display_data"
    },
    {
     "name": "stdout",
     "output_type": "stream",
     "text": [
      "                                                                                                                                                                                                                                                                                                                                "
     ]
    },
    {
     "name": "stderr",
     "output_type": "stream",
     "text": [
      "INFO:cmdstanpy:CmdStan done processing.\n"
     ]
    },
    {
     "name": "stdout",
     "output_type": "stream",
     "text": [
      "\n"
     ]
    }
   ],
   "source": [
    "fit = model.sample(data=model_data)"
   ]
  },
  {
   "cell_type": "code",
   "execution_count": 11,
   "id": "e54e48d3-6061-42e7-a6b4-57af61894f13",
   "metadata": {},
   "outputs": [
    {
     "data": {
      "text/html": [
       "<div>\n",
       "<style scoped>\n",
       "    .dataframe tbody tr th:only-of-type {\n",
       "        vertical-align: middle;\n",
       "    }\n",
       "\n",
       "    .dataframe tbody tr th {\n",
       "        vertical-align: top;\n",
       "    }\n",
       "\n",
       "    .dataframe thead th {\n",
       "        text-align: right;\n",
       "    }\n",
       "</style>\n",
       "<table border=\"1\" class=\"dataframe\">\n",
       "  <thead>\n",
       "    <tr style=\"text-align: right;\">\n",
       "      <th></th>\n",
       "      <th>lp__</th>\n",
       "      <th>accept_stat__</th>\n",
       "      <th>stepsize__</th>\n",
       "      <th>treedepth__</th>\n",
       "      <th>n_leapfrog__</th>\n",
       "      <th>divergent__</th>\n",
       "      <th>energy__</th>\n",
       "      <th>alpha</th>\n",
       "      <th>beta_w</th>\n",
       "      <th>sigma</th>\n",
       "    </tr>\n",
       "  </thead>\n",
       "  <tbody>\n",
       "    <tr>\n",
       "      <th>0</th>\n",
       "      <td>-53.9332</td>\n",
       "      <td>0.904971</td>\n",
       "      <td>0.206147</td>\n",
       "      <td>4.0</td>\n",
       "      <td>15.0</td>\n",
       "      <td>0.0</td>\n",
       "      <td>55.3296</td>\n",
       "      <td>41.9909</td>\n",
       "      <td>-6.55926</td>\n",
       "      <td>3.31677</td>\n",
       "    </tr>\n",
       "    <tr>\n",
       "      <th>1</th>\n",
       "      <td>-52.6063</td>\n",
       "      <td>0.937679</td>\n",
       "      <td>0.206147</td>\n",
       "      <td>4.0</td>\n",
       "      <td>15.0</td>\n",
       "      <td>0.0</td>\n",
       "      <td>54.9536</td>\n",
       "      <td>40.0071</td>\n",
       "      <td>-6.19155</td>\n",
       "      <td>3.62282</td>\n",
       "    </tr>\n",
       "    <tr>\n",
       "      <th>2</th>\n",
       "      <td>-50.7171</td>\n",
       "      <td>0.975313</td>\n",
       "      <td>0.206147</td>\n",
       "      <td>3.0</td>\n",
       "      <td>15.0</td>\n",
       "      <td>0.0</td>\n",
       "      <td>53.7362</td>\n",
       "      <td>37.8892</td>\n",
       "      <td>-5.47763</td>\n",
       "      <td>2.88191</td>\n",
       "    </tr>\n",
       "    <tr>\n",
       "      <th>3</th>\n",
       "      <td>-51.1220</td>\n",
       "      <td>0.962798</td>\n",
       "      <td>0.206147</td>\n",
       "      <td>4.0</td>\n",
       "      <td>15.0</td>\n",
       "      <td>0.0</td>\n",
       "      <td>51.4167</td>\n",
       "      <td>35.7607</td>\n",
       "      <td>-4.98873</td>\n",
       "      <td>3.10085</td>\n",
       "    </tr>\n",
       "    <tr>\n",
       "      <th>4</th>\n",
       "      <td>-51.4984</td>\n",
       "      <td>0.888852</td>\n",
       "      <td>0.206147</td>\n",
       "      <td>3.0</td>\n",
       "      <td>11.0</td>\n",
       "      <td>0.0</td>\n",
       "      <td>53.1260</td>\n",
       "      <td>35.9469</td>\n",
       "      <td>-4.78714</td>\n",
       "      <td>2.99768</td>\n",
       "    </tr>\n",
       "  </tbody>\n",
       "</table>\n",
       "</div>"
      ],
      "text/plain": [
       "      lp__  accept_stat__  stepsize__  treedepth__  n_leapfrog__  divergent__  \\\n",
       "0 -53.9332       0.904971    0.206147          4.0          15.0          0.0   \n",
       "1 -52.6063       0.937679    0.206147          4.0          15.0          0.0   \n",
       "2 -50.7171       0.975313    0.206147          3.0          15.0          0.0   \n",
       "3 -51.1220       0.962798    0.206147          4.0          15.0          0.0   \n",
       "4 -51.4984       0.888852    0.206147          3.0          11.0          0.0   \n",
       "\n",
       "   energy__    alpha   beta_w    sigma  \n",
       "0   55.3296  41.9909 -6.55926  3.31677  \n",
       "1   54.9536  40.0071 -6.19155  3.62282  \n",
       "2   53.7362  37.8892 -5.47763  2.88191  \n",
       "3   51.4167  35.7607 -4.98873  3.10085  \n",
       "4   53.1260  35.9469 -4.78714  2.99768  "
      ]
     },
     "execution_count": 11,
     "metadata": {},
     "output_type": "execute_result"
    }
   ],
   "source": [
    "draws = fit.draws_pd()\n",
    "draws.head()"
   ]
  },
  {
   "cell_type": "code",
   "execution_count": 12,
   "id": "6b72a250-787a-4761-bf40-9cf93eed3a55",
   "metadata": {},
   "outputs": [
    {
     "data": {
      "text/html": [
       "<div>\n",
       "<style scoped>\n",
       "    .dataframe tbody tr th:only-of-type {\n",
       "        vertical-align: middle;\n",
       "    }\n",
       "\n",
       "    .dataframe tbody tr th {\n",
       "        vertical-align: top;\n",
       "    }\n",
       "\n",
       "    .dataframe thead th {\n",
       "        text-align: right;\n",
       "    }\n",
       "</style>\n",
       "<table border=\"1\" class=\"dataframe\">\n",
       "  <thead>\n",
       "    <tr style=\"text-align: right;\">\n",
       "      <th></th>\n",
       "      <th>Mean</th>\n",
       "      <th>MCSE</th>\n",
       "      <th>StdDev</th>\n",
       "      <th>5%</th>\n",
       "      <th>50%</th>\n",
       "      <th>95%</th>\n",
       "      <th>N_Eff</th>\n",
       "      <th>N_Eff/s</th>\n",
       "      <th>R_hat</th>\n",
       "    </tr>\n",
       "    <tr>\n",
       "      <th>name</th>\n",
       "      <th></th>\n",
       "      <th></th>\n",
       "      <th></th>\n",
       "      <th></th>\n",
       "      <th></th>\n",
       "      <th></th>\n",
       "      <th></th>\n",
       "      <th></th>\n",
       "      <th></th>\n",
       "    </tr>\n",
       "  </thead>\n",
       "  <tbody>\n",
       "    <tr>\n",
       "      <th>lp__</th>\n",
       "      <td>-52.0</td>\n",
       "      <td>0.043</td>\n",
       "      <td>1.30</td>\n",
       "      <td>-55.0</td>\n",
       "      <td>-52.0</td>\n",
       "      <td>-51.0</td>\n",
       "      <td>1000.0</td>\n",
       "      <td>2400.0</td>\n",
       "      <td>1.0</td>\n",
       "    </tr>\n",
       "    <tr>\n",
       "      <th>alpha</th>\n",
       "      <td>37.0</td>\n",
       "      <td>0.053</td>\n",
       "      <td>1.90</td>\n",
       "      <td>34.0</td>\n",
       "      <td>37.0</td>\n",
       "      <td>40.0</td>\n",
       "      <td>1300.0</td>\n",
       "      <td>3200.0</td>\n",
       "      <td>1.0</td>\n",
       "    </tr>\n",
       "    <tr>\n",
       "      <th>beta_w</th>\n",
       "      <td>-5.4</td>\n",
       "      <td>0.016</td>\n",
       "      <td>0.57</td>\n",
       "      <td>-6.3</td>\n",
       "      <td>-5.4</td>\n",
       "      <td>-4.4</td>\n",
       "      <td>1300.0</td>\n",
       "      <td>3200.0</td>\n",
       "      <td>1.0</td>\n",
       "    </tr>\n",
       "    <tr>\n",
       "      <th>sigma</th>\n",
       "      <td>3.2</td>\n",
       "      <td>0.012</td>\n",
       "      <td>0.44</td>\n",
       "      <td>2.5</td>\n",
       "      <td>3.1</td>\n",
       "      <td>4.0</td>\n",
       "      <td>1500.0</td>\n",
       "      <td>3500.0</td>\n",
       "      <td>1.0</td>\n",
       "    </tr>\n",
       "  </tbody>\n",
       "</table>\n",
       "</div>"
      ],
      "text/plain": [
       "        Mean   MCSE  StdDev    5%   50%   95%   N_Eff  N_Eff/s  R_hat\n",
       "name                                                                 \n",
       "lp__   -52.0  0.043    1.30 -55.0 -52.0 -51.0  1000.0   2400.0    1.0\n",
       "alpha   37.0  0.053    1.90  34.0  37.0  40.0  1300.0   3200.0    1.0\n",
       "beta_w  -5.4  0.016    0.57  -6.3  -5.4  -4.4  1300.0   3200.0    1.0\n",
       "sigma    3.2  0.012    0.44   2.5   3.1   4.0  1500.0   3500.0    1.0"
      ]
     },
     "execution_count": 12,
     "metadata": {},
     "output_type": "execute_result"
    }
   ],
   "source": [
    "fit.summary()"
   ]
  },
  {
   "cell_type": "code",
   "execution_count": 13,
   "id": "791df3a0-5aa1-4510-aa15-98ae1b32c27f",
   "metadata": {},
   "outputs": [],
   "source": [
    "alpha = draws['alpha']\n",
    "beta = draws['beta_w']\n",
    "sigma = draws['sigma']"
   ]
  },
  {
   "cell_type": "code",
   "execution_count": 14,
   "id": "9dc6af37-07ac-479b-acad-b83559057dbd",
   "metadata": {},
   "outputs": [],
   "source": [
    "alpha_mean = draws['alpha'].mean()\n",
    "beta_mean = draws['beta_w'].mean()\n",
    "sigma_mean = draws['sigma'].mean()"
   ]
  },
  {
   "cell_type": "code",
   "execution_count": 15,
   "id": "87447f3d-308c-4cf6-81a0-a300c11494a6",
   "metadata": {},
   "outputs": [
    {
     "data": {
      "image/png": "[encoded data removed]",
      "text/plain": [
       "<Figure size 864x432 with 1 Axes>"
      ]
     },
     "metadata": {
      "needs_background": "light"
     },
     "output_type": "display_data"
    }
   ],
   "source": [
    "def show_regression(alpha, beta, alpha_mean, beta_mean):\n",
    "    x_min, x_max = 0, 8\n",
    "    x_plot = np.linspace(x_min, x_max, 100)\n",
    "\n",
    "    plt.figure(figsize=(12,6))\n",
    "    for i in np.random.randint(0, len(alpha), 1000):\n",
    "        plt.plot(x_plot, alpha[i] + beta[i] * x_plot, color='lightsteelblue', alpha=0.005)\n",
    "\n",
    "    plt.plot(x_plot, alpha_mean + beta_mean * x_plot)\n",
    "    plt.scatter(data['wt'], data['mpg'], color='r')\n",
    "    plt.xlabel('weight (1000lb)')\n",
    "    plt.ylabel('mpg (miles per gallon)')\n",
    "    plt.title('Fitted regression line')\n",
    "    plt.show()\n",
    "    \n",
    "show_regression(alpha, beta, alpha_mean, beta_mean)"
   ]
  },
  {
   "cell_type": "markdown",
   "id": "46062267-8c09-4eba-bc5c-d2536048595b",
   "metadata": {},
   "source": [
    "- Alpha for a car with a weight of 0, the expected mpg is around 37.37. Weight of zero is impossible. It will be limited in the next model.\n",
    "Comparing two cars who differ by 1000 pounds, the model predicts a difference of 5.4 miles per gallon.\n",
    "\n",
    "- The first change that can be made to the model is center our weight variable so that we can get a more meaningful interpretation of the intercept parameter alpha. We can accomplish this by subtracting the mean from each observation. This will change the interpretation of the intercept to be the average MPG when weight is held constant at it’s average value.\n",
    "\n",
    "- The model predicts miles per gallon to be 3.2.\n",
    "\n",
    "- `lp__` - logarithm of the posterior density. This parameter can be used in various ways for model evaluation and comparison."
   ]
  },
  {
   "cell_type": "markdown",
   "id": "5ffbd60f-162e-411b-881b-79105eb00b69",
   "metadata": {},
   "source": [
    "**Center weight:**"
   ]
  },
  {
   "cell_type": "code",
   "execution_count": 16,
   "id": "5806c24a-da33-47b7-8e34-383bca3b8d51",
   "metadata": {},
   "outputs": [],
   "source": [
    "data['wt_center'] = data['wt'] - data['wt'].mean()"
   ]
  },
  {
   "cell_type": "code",
   "execution_count": 17,
   "id": "2635ec7f-82b9-44e6-8a90-a73585fe1d10",
   "metadata": {},
   "outputs": [
    {
     "data": {
      "text/html": [
       "<div>\n",
       "<style scoped>\n",
       "    .dataframe tbody tr th:only-of-type {\n",
       "        vertical-align: middle;\n",
       "    }\n",
       "\n",
       "    .dataframe tbody tr th {\n",
       "        vertical-align: top;\n",
       "    }\n",
       "\n",
       "    .dataframe thead th {\n",
       "        text-align: right;\n",
       "    }\n",
       "</style>\n",
       "<table border=\"1\" class=\"dataframe\">\n",
       "  <thead>\n",
       "    <tr style=\"text-align: right;\">\n",
       "      <th></th>\n",
       "      <th>model</th>\n",
       "      <th>mpg</th>\n",
       "      <th>cyl</th>\n",
       "      <th>disp</th>\n",
       "      <th>hp</th>\n",
       "      <th>drat</th>\n",
       "      <th>wt</th>\n",
       "      <th>qsec</th>\n",
       "      <th>vs</th>\n",
       "      <th>am</th>\n",
       "      <th>gear</th>\n",
       "      <th>carb</th>\n",
       "      <th>y</th>\n",
       "      <th>wt_center</th>\n",
       "    </tr>\n",
       "  </thead>\n",
       "  <tbody>\n",
       "    <tr>\n",
       "      <th>0</th>\n",
       "      <td>Mazda RX4</td>\n",
       "      <td>21.0</td>\n",
       "      <td>6</td>\n",
       "      <td>160.0</td>\n",
       "      <td>110</td>\n",
       "      <td>3.90</td>\n",
       "      <td>2.620</td>\n",
       "      <td>16.46</td>\n",
       "      <td>0</td>\n",
       "      <td>1</td>\n",
       "      <td>4</td>\n",
       "      <td>4</td>\n",
       "      <td>21.0</td>\n",
       "      <td>-0.59725</td>\n",
       "    </tr>\n",
       "    <tr>\n",
       "      <th>1</th>\n",
       "      <td>Mazda RX4 Wag</td>\n",
       "      <td>21.0</td>\n",
       "      <td>6</td>\n",
       "      <td>160.0</td>\n",
       "      <td>110</td>\n",
       "      <td>3.90</td>\n",
       "      <td>2.875</td>\n",
       "      <td>17.02</td>\n",
       "      <td>0</td>\n",
       "      <td>1</td>\n",
       "      <td>4</td>\n",
       "      <td>4</td>\n",
       "      <td>21.0</td>\n",
       "      <td>-0.34225</td>\n",
       "    </tr>\n",
       "    <tr>\n",
       "      <th>2</th>\n",
       "      <td>Datsun 710</td>\n",
       "      <td>22.8</td>\n",
       "      <td>4</td>\n",
       "      <td>108.0</td>\n",
       "      <td>93</td>\n",
       "      <td>3.85</td>\n",
       "      <td>2.320</td>\n",
       "      <td>18.61</td>\n",
       "      <td>1</td>\n",
       "      <td>1</td>\n",
       "      <td>4</td>\n",
       "      <td>1</td>\n",
       "      <td>22.8</td>\n",
       "      <td>-0.89725</td>\n",
       "    </tr>\n",
       "    <tr>\n",
       "      <th>3</th>\n",
       "      <td>Hornet 4 Drive</td>\n",
       "      <td>21.4</td>\n",
       "      <td>6</td>\n",
       "      <td>258.0</td>\n",
       "      <td>110</td>\n",
       "      <td>3.08</td>\n",
       "      <td>3.215</td>\n",
       "      <td>19.44</td>\n",
       "      <td>1</td>\n",
       "      <td>0</td>\n",
       "      <td>3</td>\n",
       "      <td>1</td>\n",
       "      <td>21.4</td>\n",
       "      <td>-0.00225</td>\n",
       "    </tr>\n",
       "    <tr>\n",
       "      <th>4</th>\n",
       "      <td>Hornet Sportabout</td>\n",
       "      <td>18.7</td>\n",
       "      <td>8</td>\n",
       "      <td>360.0</td>\n",
       "      <td>175</td>\n",
       "      <td>3.15</td>\n",
       "      <td>3.440</td>\n",
       "      <td>17.02</td>\n",
       "      <td>0</td>\n",
       "      <td>0</td>\n",
       "      <td>3</td>\n",
       "      <td>2</td>\n",
       "      <td>18.7</td>\n",
       "      <td>0.22275</td>\n",
       "    </tr>\n",
       "  </tbody>\n",
       "</table>\n",
       "</div>"
      ],
      "text/plain": [
       "               model   mpg  cyl   disp   hp  drat     wt   qsec  vs  am  gear  \\\n",
       "0          Mazda RX4  21.0    6  160.0  110  3.90  2.620  16.46   0   1     4   \n",
       "1      Mazda RX4 Wag  21.0    6  160.0  110  3.90  2.875  17.02   0   1     4   \n",
       "2         Datsun 710  22.8    4  108.0   93  3.85  2.320  18.61   1   1     4   \n",
       "3     Hornet 4 Drive  21.4    6  258.0  110  3.08  3.215  19.44   1   0     3   \n",
       "4  Hornet Sportabout  18.7    8  360.0  175  3.15  3.440  17.02   0   0     3   \n",
       "\n",
       "   carb     y  wt_center  \n",
       "0     4  21.0   -0.59725  \n",
       "1     4  21.0   -0.34225  \n",
       "2     1  22.8   -0.89725  \n",
       "3     1  21.4   -0.00225  \n",
       "4     2  18.7    0.22275  "
      ]
     },
     "execution_count": 17,
     "metadata": {},
     "output_type": "execute_result"
    }
   ],
   "source": [
    "data.head()"
   ]
  },
  {
   "cell_type": "code",
   "execution_count": 18,
   "id": "79216ac7-2810-4ae0-9d95-be129d5754ee",
   "metadata": {},
   "outputs": [
    {
     "name": "stderr",
     "output_type": "stream",
     "text": [
      "INFO:cmdstanpy:found newer exe file, not recompiling\n"
     ]
    }
   ],
   "source": [
    "model = CmdStanModel(stan_file='stan/single_predictor_center.stan')"
   ]
  },
  {
   "cell_type": "code",
   "execution_count": 19,
   "id": "103f5759-e8c5-434e-a46d-7ac98d1e0a75",
   "metadata": {},
   "outputs": [],
   "source": [
    "N = data.shape[0]\n",
    "\n",
    "model_data = {\n",
    "    \"mpg\": data.mpg,\n",
    "    \"weight_center\": data.wt_center,\n",
    "    \"n\": N\n",
    "}"
   ]
  },
  {
   "cell_type": "code",
   "execution_count": 20,
   "id": "e75f2a28-cd68-476f-b40e-60c19bdb4702",
   "metadata": {},
   "outputs": [
    {
     "name": "stderr",
     "output_type": "stream",
     "text": [
      "INFO:cmdstanpy:CmdStan start procesing\n"
     ]
    },
    {
     "data": {
      "application/vnd.jupyter.widget-view+json": {
       "model_id": "e98b7cba6c844288b16cc02159011938",
       "version_major": 2,
       "version_minor": 0
      },
      "text/plain": [
       "chain 1 |          | 00:00 Status"
      ]
     },
     "metadata": {},
     "output_type": "display_data"
    },
    {
     "data": {
      "application/vnd.jupyter.widget-view+json": {
       "model_id": "4d215273858249c694b3690662ce0f5d",
       "version_major": 2,
       "version_minor": 0
      },
      "text/plain": [
       "chain 2 |          | 00:00 Status"
      ]
     },
     "metadata": {},
     "output_type": "display_data"
    },
    {
     "data": {
      "application/vnd.jupyter.widget-view+json": {
       "model_id": "4e7815779fbf4eae816864549c332ce6",
       "version_major": 2,
       "version_minor": 0
      },
      "text/plain": [
       "chain 3 |          | 00:00 Status"
      ]
     },
     "metadata": {},
     "output_type": "display_data"
    },
    {
     "data": {
      "application/vnd.jupyter.widget-view+json": {
       "model_id": "e69fb59505794f4faec1e2d009ca5cb9",
       "version_major": 2,
       "version_minor": 0
      },
      "text/plain": [
       "chain 4 |          | 00:00 Status"
      ]
     },
     "metadata": {},
     "output_type": "display_data"
    },
    {
     "name": "stdout",
     "output_type": "stream",
     "text": [
      "                                                                                                                                                                                                                                                                                                                                "
     ]
    },
    {
     "name": "stderr",
     "output_type": "stream",
     "text": [
      "INFO:cmdstanpy:CmdStan done processing.\n"
     ]
    },
    {
     "name": "stdout",
     "output_type": "stream",
     "text": [
      "\n"
     ]
    }
   ],
   "source": [
    "fit = model.sample(data=model_data)"
   ]
  },
  {
   "cell_type": "code",
   "execution_count": 21,
   "id": "6a071b4f-f364-44ed-993a-7f30bdf84d70",
   "metadata": {},
   "outputs": [
    {
     "data": {
      "text/html": [
       "<div>\n",
       "<style scoped>\n",
       "    .dataframe tbody tr th:only-of-type {\n",
       "        vertical-align: middle;\n",
       "    }\n",
       "\n",
       "    .dataframe tbody tr th {\n",
       "        vertical-align: top;\n",
       "    }\n",
       "\n",
       "    .dataframe thead th {\n",
       "        text-align: right;\n",
       "    }\n",
       "</style>\n",
       "<table border=\"1\" class=\"dataframe\">\n",
       "  <thead>\n",
       "    <tr style=\"text-align: right;\">\n",
       "      <th></th>\n",
       "      <th>lp__</th>\n",
       "      <th>accept_stat__</th>\n",
       "      <th>stepsize__</th>\n",
       "      <th>treedepth__</th>\n",
       "      <th>n_leapfrog__</th>\n",
       "      <th>divergent__</th>\n",
       "      <th>energy__</th>\n",
       "      <th>alpha</th>\n",
       "      <th>beta_w</th>\n",
       "      <th>sigma</th>\n",
       "    </tr>\n",
       "  </thead>\n",
       "  <tbody>\n",
       "    <tr>\n",
       "      <th>0</th>\n",
       "      <td>-50.1979</td>\n",
       "      <td>1.000000</td>\n",
       "      <td>0.719633</td>\n",
       "      <td>3.0</td>\n",
       "      <td>7.0</td>\n",
       "      <td>0.0</td>\n",
       "      <td>51.4290</td>\n",
       "      <td>19.6874</td>\n",
       "      <td>-5.24519</td>\n",
       "      <td>2.72097</td>\n",
       "    </tr>\n",
       "    <tr>\n",
       "      <th>1</th>\n",
       "      <td>-49.8040</td>\n",
       "      <td>1.000000</td>\n",
       "      <td>0.719633</td>\n",
       "      <td>2.0</td>\n",
       "      <td>3.0</td>\n",
       "      <td>0.0</td>\n",
       "      <td>50.3894</td>\n",
       "      <td>20.3919</td>\n",
       "      <td>-5.12932</td>\n",
       "      <td>2.90392</td>\n",
       "    </tr>\n",
       "    <tr>\n",
       "      <th>2</th>\n",
       "      <td>-49.6246</td>\n",
       "      <td>0.880758</td>\n",
       "      <td>0.719633</td>\n",
       "      <td>2.0</td>\n",
       "      <td>3.0</td>\n",
       "      <td>0.0</td>\n",
       "      <td>51.0646</td>\n",
       "      <td>20.2506</td>\n",
       "      <td>-5.21991</td>\n",
       "      <td>3.10590</td>\n",
       "    </tr>\n",
       "    <tr>\n",
       "      <th>3</th>\n",
       "      <td>-49.9837</td>\n",
       "      <td>0.957595</td>\n",
       "      <td>0.719633</td>\n",
       "      <td>2.0</td>\n",
       "      <td>3.0</td>\n",
       "      <td>0.0</td>\n",
       "      <td>50.2518</td>\n",
       "      <td>19.6936</td>\n",
       "      <td>-5.36904</td>\n",
       "      <td>2.80409</td>\n",
       "    </tr>\n",
       "    <tr>\n",
       "      <th>4</th>\n",
       "      <td>-50.9630</td>\n",
       "      <td>0.896259</td>\n",
       "      <td>0.719633</td>\n",
       "      <td>3.0</td>\n",
       "      <td>7.0</td>\n",
       "      <td>0.0</td>\n",
       "      <td>51.6604</td>\n",
       "      <td>20.1730</td>\n",
       "      <td>-4.50594</td>\n",
       "      <td>3.44755</td>\n",
       "    </tr>\n",
       "  </tbody>\n",
       "</table>\n",
       "</div>"
      ],
      "text/plain": [
       "      lp__  accept_stat__  stepsize__  treedepth__  n_leapfrog__  divergent__  \\\n",
       "0 -50.1979       1.000000    0.719633          3.0           7.0          0.0   \n",
       "1 -49.8040       1.000000    0.719633          2.0           3.0          0.0   \n",
       "2 -49.6246       0.880758    0.719633          2.0           3.0          0.0   \n",
       "3 -49.9837       0.957595    0.719633          2.0           3.0          0.0   \n",
       "4 -50.9630       0.896259    0.719633          3.0           7.0          0.0   \n",
       "\n",
       "   energy__    alpha   beta_w    sigma  \n",
       "0   51.4290  19.6874 -5.24519  2.72097  \n",
       "1   50.3894  20.3919 -5.12932  2.90392  \n",
       "2   51.0646  20.2506 -5.21991  3.10590  \n",
       "3   50.2518  19.6936 -5.36904  2.80409  \n",
       "4   51.6604  20.1730 -4.50594  3.44755  "
      ]
     },
     "execution_count": 21,
     "metadata": {},
     "output_type": "execute_result"
    }
   ],
   "source": [
    "draws = fit.draws_pd()\n",
    "draws.head()"
   ]
  },
  {
   "cell_type": "code",
   "execution_count": 22,
   "id": "49150b0e-2ae2-42b0-a2b7-126fc4b84c44",
   "metadata": {},
   "outputs": [
    {
     "data": {
      "text/html": [
       "<div>\n",
       "<style scoped>\n",
       "    .dataframe tbody tr th:only-of-type {\n",
       "        vertical-align: middle;\n",
       "    }\n",
       "\n",
       "    .dataframe tbody tr th {\n",
       "        vertical-align: top;\n",
       "    }\n",
       "\n",
       "    .dataframe thead th {\n",
       "        text-align: right;\n",
       "    }\n",
       "</style>\n",
       "<table border=\"1\" class=\"dataframe\">\n",
       "  <thead>\n",
       "    <tr style=\"text-align: right;\">\n",
       "      <th></th>\n",
       "      <th>Mean</th>\n",
       "      <th>MCSE</th>\n",
       "      <th>StdDev</th>\n",
       "      <th>5%</th>\n",
       "      <th>50%</th>\n",
       "      <th>95%</th>\n",
       "      <th>N_Eff</th>\n",
       "      <th>N_Eff/s</th>\n",
       "      <th>R_hat</th>\n",
       "    </tr>\n",
       "    <tr>\n",
       "      <th>name</th>\n",
       "      <th></th>\n",
       "      <th></th>\n",
       "      <th></th>\n",
       "      <th></th>\n",
       "      <th></th>\n",
       "      <th></th>\n",
       "      <th></th>\n",
       "      <th></th>\n",
       "      <th></th>\n",
       "    </tr>\n",
       "  </thead>\n",
       "  <tbody>\n",
       "    <tr>\n",
       "      <th>lp__</th>\n",
       "      <td>-51.0</td>\n",
       "      <td>0.0320</td>\n",
       "      <td>1.30</td>\n",
       "      <td>-54.0</td>\n",
       "      <td>-51.0</td>\n",
       "      <td>-50.0</td>\n",
       "      <td>1600.0</td>\n",
       "      <td>8200.0</td>\n",
       "      <td>1.0</td>\n",
       "    </tr>\n",
       "    <tr>\n",
       "      <th>alpha</th>\n",
       "      <td>20.0</td>\n",
       "      <td>0.0096</td>\n",
       "      <td>0.57</td>\n",
       "      <td>19.0</td>\n",
       "      <td>20.0</td>\n",
       "      <td>21.0</td>\n",
       "      <td>3500.0</td>\n",
       "      <td>18000.0</td>\n",
       "      <td>1.0</td>\n",
       "    </tr>\n",
       "    <tr>\n",
       "      <th>beta_w</th>\n",
       "      <td>-5.4</td>\n",
       "      <td>0.0100</td>\n",
       "      <td>0.60</td>\n",
       "      <td>-6.4</td>\n",
       "      <td>-5.4</td>\n",
       "      <td>-4.4</td>\n",
       "      <td>3400.0</td>\n",
       "      <td>17000.0</td>\n",
       "      <td>1.0</td>\n",
       "    </tr>\n",
       "    <tr>\n",
       "      <th>sigma</th>\n",
       "      <td>3.2</td>\n",
       "      <td>0.0074</td>\n",
       "      <td>0.43</td>\n",
       "      <td>2.6</td>\n",
       "      <td>3.1</td>\n",
       "      <td>3.9</td>\n",
       "      <td>3300.0</td>\n",
       "      <td>17000.0</td>\n",
       "      <td>1.0</td>\n",
       "    </tr>\n",
       "  </tbody>\n",
       "</table>\n",
       "</div>"
      ],
      "text/plain": [
       "        Mean    MCSE  StdDev    5%   50%   95%   N_Eff  N_Eff/s  R_hat\n",
       "name                                                                  \n",
       "lp__   -51.0  0.0320    1.30 -54.0 -51.0 -50.0  1600.0   8200.0    1.0\n",
       "alpha   20.0  0.0096    0.57  19.0  20.0  21.0  3500.0  18000.0    1.0\n",
       "beta_w  -5.4  0.0100    0.60  -6.4  -5.4  -4.4  3400.0  17000.0    1.0\n",
       "sigma    3.2  0.0074    0.43   2.6   3.1   3.9  3300.0  17000.0    1.0"
      ]
     },
     "execution_count": 22,
     "metadata": {},
     "output_type": "execute_result"
    }
   ],
   "source": [
    "fit.summary()"
   ]
  },
  {
   "cell_type": "markdown",
   "id": "224fb587-da1c-4182-900e-8e3183c0c20b",
   "metadata": {},
   "source": [
    "- The model predicts miles per gallon to be 3.2 -  the same as before.\n",
    "\n",
    "- `lp__` has lower value  than the previous model. It mean that this model performs slightly better."
   ]
  },
  {
   "cell_type": "markdown",
   "id": "13102bdc-009c-4b6e-8ef1-d0398727d67a",
   "metadata": {},
   "source": [
    "**Multiparameter:**"
   ]
  },
  {
   "cell_type": "code",
   "execution_count": 23,
   "id": "8058de60-f943-431c-b6e5-cd865e372883",
   "metadata": {},
   "outputs": [],
   "source": [
    "data['hp_center'] = data['hp'] - data['hp'].mean()\n",
    "data['cyl_center'] = data['cyl'] - data['cyl'].mean()"
   ]
  },
  {
   "cell_type": "code",
   "execution_count": 24,
   "id": "2ba67d4e-a7a9-4bb9-b1e5-1969ae02205b",
   "metadata": {},
   "outputs": [
    {
     "data": {
      "text/html": [
       "<div>\n",
       "<style scoped>\n",
       "    .dataframe tbody tr th:only-of-type {\n",
       "        vertical-align: middle;\n",
       "    }\n",
       "\n",
       "    .dataframe tbody tr th {\n",
       "        vertical-align: top;\n",
       "    }\n",
       "\n",
       "    .dataframe thead th {\n",
       "        text-align: right;\n",
       "    }\n",
       "</style>\n",
       "<table border=\"1\" class=\"dataframe\">\n",
       "  <thead>\n",
       "    <tr style=\"text-align: right;\">\n",
       "      <th></th>\n",
       "      <th>model</th>\n",
       "      <th>mpg</th>\n",
       "      <th>cyl</th>\n",
       "      <th>disp</th>\n",
       "      <th>hp</th>\n",
       "      <th>drat</th>\n",
       "      <th>wt</th>\n",
       "      <th>qsec</th>\n",
       "      <th>vs</th>\n",
       "      <th>am</th>\n",
       "      <th>gear</th>\n",
       "      <th>carb</th>\n",
       "      <th>y</th>\n",
       "      <th>wt_center</th>\n",
       "      <th>hp_center</th>\n",
       "      <th>cyl_center</th>\n",
       "    </tr>\n",
       "  </thead>\n",
       "  <tbody>\n",
       "    <tr>\n",
       "      <th>0</th>\n",
       "      <td>Mazda RX4</td>\n",
       "      <td>21.0</td>\n",
       "      <td>6</td>\n",
       "      <td>160.0</td>\n",
       "      <td>110</td>\n",
       "      <td>3.90</td>\n",
       "      <td>2.620</td>\n",
       "      <td>16.46</td>\n",
       "      <td>0</td>\n",
       "      <td>1</td>\n",
       "      <td>4</td>\n",
       "      <td>4</td>\n",
       "      <td>21.0</td>\n",
       "      <td>-0.59725</td>\n",
       "      <td>-36.6875</td>\n",
       "      <td>-0.1875</td>\n",
       "    </tr>\n",
       "    <tr>\n",
       "      <th>1</th>\n",
       "      <td>Mazda RX4 Wag</td>\n",
       "      <td>21.0</td>\n",
       "      <td>6</td>\n",
       "      <td>160.0</td>\n",
       "      <td>110</td>\n",
       "      <td>3.90</td>\n",
       "      <td>2.875</td>\n",
       "      <td>17.02</td>\n",
       "      <td>0</td>\n",
       "      <td>1</td>\n",
       "      <td>4</td>\n",
       "      <td>4</td>\n",
       "      <td>21.0</td>\n",
       "      <td>-0.34225</td>\n",
       "      <td>-36.6875</td>\n",
       "      <td>-0.1875</td>\n",
       "    </tr>\n",
       "    <tr>\n",
       "      <th>2</th>\n",
       "      <td>Datsun 710</td>\n",
       "      <td>22.8</td>\n",
       "      <td>4</td>\n",
       "      <td>108.0</td>\n",
       "      <td>93</td>\n",
       "      <td>3.85</td>\n",
       "      <td>2.320</td>\n",
       "      <td>18.61</td>\n",
       "      <td>1</td>\n",
       "      <td>1</td>\n",
       "      <td>4</td>\n",
       "      <td>1</td>\n",
       "      <td>22.8</td>\n",
       "      <td>-0.89725</td>\n",
       "      <td>-53.6875</td>\n",
       "      <td>-2.1875</td>\n",
       "    </tr>\n",
       "    <tr>\n",
       "      <th>3</th>\n",
       "      <td>Hornet 4 Drive</td>\n",
       "      <td>21.4</td>\n",
       "      <td>6</td>\n",
       "      <td>258.0</td>\n",
       "      <td>110</td>\n",
       "      <td>3.08</td>\n",
       "      <td>3.215</td>\n",
       "      <td>19.44</td>\n",
       "      <td>1</td>\n",
       "      <td>0</td>\n",
       "      <td>3</td>\n",
       "      <td>1</td>\n",
       "      <td>21.4</td>\n",
       "      <td>-0.00225</td>\n",
       "      <td>-36.6875</td>\n",
       "      <td>-0.1875</td>\n",
       "    </tr>\n",
       "    <tr>\n",
       "      <th>4</th>\n",
       "      <td>Hornet Sportabout</td>\n",
       "      <td>18.7</td>\n",
       "      <td>8</td>\n",
       "      <td>360.0</td>\n",
       "      <td>175</td>\n",
       "      <td>3.15</td>\n",
       "      <td>3.440</td>\n",
       "      <td>17.02</td>\n",
       "      <td>0</td>\n",
       "      <td>0</td>\n",
       "      <td>3</td>\n",
       "      <td>2</td>\n",
       "      <td>18.7</td>\n",
       "      <td>0.22275</td>\n",
       "      <td>28.3125</td>\n",
       "      <td>1.8125</td>\n",
       "    </tr>\n",
       "  </tbody>\n",
       "</table>\n",
       "</div>"
      ],
      "text/plain": [
       "               model   mpg  cyl   disp   hp  drat     wt   qsec  vs  am  gear  \\\n",
       "0          Mazda RX4  21.0    6  160.0  110  3.90  2.620  16.46   0   1     4   \n",
       "1      Mazda RX4 Wag  21.0    6  160.0  110  3.90  2.875  17.02   0   1     4   \n",
       "2         Datsun 710  22.8    4  108.0   93  3.85  2.320  18.61   1   1     4   \n",
       "3     Hornet 4 Drive  21.4    6  258.0  110  3.08  3.215  19.44   1   0     3   \n",
       "4  Hornet Sportabout  18.7    8  360.0  175  3.15  3.440  17.02   0   0     3   \n",
       "\n",
       "   carb     y  wt_center  hp_center  cyl_center  \n",
       "0     4  21.0   -0.59725   -36.6875     -0.1875  \n",
       "1     4  21.0   -0.34225   -36.6875     -0.1875  \n",
       "2     1  22.8   -0.89725   -53.6875     -2.1875  \n",
       "3     1  21.4   -0.00225   -36.6875     -0.1875  \n",
       "4     2  18.7    0.22275    28.3125      1.8125  "
      ]
     },
     "execution_count": 24,
     "metadata": {},
     "output_type": "execute_result"
    }
   ],
   "source": [
    "data.head()"
   ]
  },
  {
   "cell_type": "code",
   "execution_count": 25,
   "id": "9d011af7-0e2b-4791-8811-980a6473abfe",
   "metadata": {},
   "outputs": [
    {
     "name": "stderr",
     "output_type": "stream",
     "text": [
      "INFO:cmdstanpy:found newer exe file, not recompiling\n"
     ]
    }
   ],
   "source": [
    "model = CmdStanModel(stan_file='stan/multiparameters_predictor.stan')"
   ]
  },
  {
   "cell_type": "code",
   "execution_count": 26,
   "id": "b6bbb239-9d39-4f58-9fc4-f0286c8f06a3",
   "metadata": {},
   "outputs": [],
   "source": [
    "N = data.shape[0]\n",
    "\n",
    "model_data = {\n",
    "    \"mpg\": data.mpg,\n",
    "    \"weight_center\": data.wt_center,\n",
    "    \"hp_center\": data.hp_center,\n",
    "    \"cylinders_center\": data.cyl_center,\n",
    "    \"n\": N\n",
    "}"
   ]
  },
  {
   "cell_type": "code",
   "execution_count": 27,
   "id": "a74f37af-136e-4ea4-aff8-44f6895d00b4",
   "metadata": {},
   "outputs": [
    {
     "name": "stderr",
     "output_type": "stream",
     "text": [
      "INFO:cmdstanpy:CmdStan start procesing\n"
     ]
    },
    {
     "data": {
      "application/vnd.jupyter.widget-view+json": {
       "model_id": "a7622df0bf744920a9f9c2e984e22e58",
       "version_major": 2,
       "version_minor": 0
      },
      "text/plain": [
       "chain 1 |          | 00:00 Status"
      ]
     },
     "metadata": {},
     "output_type": "display_data"
    },
    {
     "data": {
      "application/vnd.jupyter.widget-view+json": {
       "model_id": "72c74300cd624652906cef2f652db81f",
       "version_major": 2,
       "version_minor": 0
      },
      "text/plain": [
       "chain 2 |          | 00:00 Status"
      ]
     },
     "metadata": {},
     "output_type": "display_data"
    },
    {
     "data": {
      "application/vnd.jupyter.widget-view+json": {
       "model_id": "633ab977db0544068a4364f6b726aee3",
       "version_major": 2,
       "version_minor": 0
      },
      "text/plain": [
       "chain 3 |          | 00:00 Status"
      ]
     },
     "metadata": {},
     "output_type": "display_data"
    },
    {
     "data": {
      "application/vnd.jupyter.widget-view+json": {
       "model_id": "c71cdcfa24ab4902b3b94d30e1646031",
       "version_major": 2,
       "version_minor": 0
      },
      "text/plain": [
       "chain 4 |          | 00:00 Status"
      ]
     },
     "metadata": {},
     "output_type": "display_data"
    },
    {
     "name": "stdout",
     "output_type": "stream",
     "text": [
      "                                                                                                                                                                                                                                                                                                                                "
     ]
    },
    {
     "name": "stderr",
     "output_type": "stream",
     "text": [
      "INFO:cmdstanpy:CmdStan done processing.\n"
     ]
    },
    {
     "name": "stdout",
     "output_type": "stream",
     "text": [
      "\n"
     ]
    }
   ],
   "source": [
    "fit = model.sample(data=model_data)"
   ]
  },
  {
   "cell_type": "code",
   "execution_count": 28,
   "id": "cbfcb4bb-c9e2-4e0d-b827-49fd8b903074",
   "metadata": {},
   "outputs": [
    {
     "data": {
      "text/html": [
       "<div>\n",
       "<style scoped>\n",
       "    .dataframe tbody tr th:only-of-type {\n",
       "        vertical-align: middle;\n",
       "    }\n",
       "\n",
       "    .dataframe tbody tr th {\n",
       "        vertical-align: top;\n",
       "    }\n",
       "\n",
       "    .dataframe thead th {\n",
       "        text-align: right;\n",
       "    }\n",
       "</style>\n",
       "<table border=\"1\" class=\"dataframe\">\n",
       "  <thead>\n",
       "    <tr style=\"text-align: right;\">\n",
       "      <th></th>\n",
       "      <th>lp__</th>\n",
       "      <th>accept_stat__</th>\n",
       "      <th>stepsize__</th>\n",
       "      <th>treedepth__</th>\n",
       "      <th>n_leapfrog__</th>\n",
       "      <th>divergent__</th>\n",
       "      <th>energy__</th>\n",
       "      <th>alpha</th>\n",
       "      <th>beta_w</th>\n",
       "      <th>beta_cyl</th>\n",
       "      <th>beta_hp</th>\n",
       "      <th>sigma</th>\n",
       "    </tr>\n",
       "  </thead>\n",
       "  <tbody>\n",
       "    <tr>\n",
       "      <th>0</th>\n",
       "      <td>-43.8930</td>\n",
       "      <td>0.960296</td>\n",
       "      <td>0.301979</td>\n",
       "      <td>3.0</td>\n",
       "      <td>7.0</td>\n",
       "      <td>0.0</td>\n",
       "      <td>50.9916</td>\n",
       "      <td>20.4222</td>\n",
       "      <td>-3.62541</td>\n",
       "      <td>-0.257167</td>\n",
       "      <td>-0.025455</td>\n",
       "      <td>2.68739</td>\n",
       "    </tr>\n",
       "    <tr>\n",
       "      <th>1</th>\n",
       "      <td>-45.0897</td>\n",
       "      <td>0.953393</td>\n",
       "      <td>0.301979</td>\n",
       "      <td>4.0</td>\n",
       "      <td>15.0</td>\n",
       "      <td>0.0</td>\n",
       "      <td>45.9676</td>\n",
       "      <td>20.6764</td>\n",
       "      <td>-3.53684</td>\n",
       "      <td>-0.432642</td>\n",
       "      <td>-0.018377</td>\n",
       "      <td>2.96075</td>\n",
       "    </tr>\n",
       "    <tr>\n",
       "      <th>2</th>\n",
       "      <td>-44.5784</td>\n",
       "      <td>0.965687</td>\n",
       "      <td>0.301979</td>\n",
       "      <td>4.0</td>\n",
       "      <td>15.0</td>\n",
       "      <td>0.0</td>\n",
       "      <td>46.9367</td>\n",
       "      <td>19.9724</td>\n",
       "      <td>-3.61109</td>\n",
       "      <td>-1.301160</td>\n",
       "      <td>0.002693</td>\n",
       "      <td>2.76519</td>\n",
       "    </tr>\n",
       "    <tr>\n",
       "      <th>3</th>\n",
       "      <td>-44.4138</td>\n",
       "      <td>0.967215</td>\n",
       "      <td>0.301979</td>\n",
       "      <td>4.0</td>\n",
       "      <td>15.0</td>\n",
       "      <td>0.0</td>\n",
       "      <td>46.1540</td>\n",
       "      <td>20.1728</td>\n",
       "      <td>-2.38192</td>\n",
       "      <td>-0.719007</td>\n",
       "      <td>-0.035518</td>\n",
       "      <td>2.31665</td>\n",
       "    </tr>\n",
       "    <tr>\n",
       "      <th>4</th>\n",
       "      <td>-46.9983</td>\n",
       "      <td>0.679267</td>\n",
       "      <td>0.301979</td>\n",
       "      <td>4.0</td>\n",
       "      <td>15.0</td>\n",
       "      <td>0.0</td>\n",
       "      <td>48.2257</td>\n",
       "      <td>20.1216</td>\n",
       "      <td>-3.70555</td>\n",
       "      <td>-1.264380</td>\n",
       "      <td>0.011982</td>\n",
       "      <td>2.67662</td>\n",
       "    </tr>\n",
       "  </tbody>\n",
       "</table>\n",
       "</div>"
      ],
      "text/plain": [
       "      lp__  accept_stat__  stepsize__  treedepth__  n_leapfrog__  divergent__  \\\n",
       "0 -43.8930       0.960296    0.301979          3.0           7.0          0.0   \n",
       "1 -45.0897       0.953393    0.301979          4.0          15.0          0.0   \n",
       "2 -44.5784       0.965687    0.301979          4.0          15.0          0.0   \n",
       "3 -44.4138       0.967215    0.301979          4.0          15.0          0.0   \n",
       "4 -46.9983       0.679267    0.301979          4.0          15.0          0.0   \n",
       "\n",
       "   energy__    alpha   beta_w  beta_cyl   beta_hp    sigma  \n",
       "0   50.9916  20.4222 -3.62541 -0.257167 -0.025455  2.68739  \n",
       "1   45.9676  20.6764 -3.53684 -0.432642 -0.018377  2.96075  \n",
       "2   46.9367  19.9724 -3.61109 -1.301160  0.002693  2.76519  \n",
       "3   46.1540  20.1728 -2.38192 -0.719007 -0.035518  2.31665  \n",
       "4   48.2257  20.1216 -3.70555 -1.264380  0.011982  2.67662  "
      ]
     },
     "execution_count": 28,
     "metadata": {},
     "output_type": "execute_result"
    }
   ],
   "source": [
    "draws = fit.draws_pd()\n",
    "draws.head()"
   ]
  },
  {
   "cell_type": "code",
   "execution_count": 29,
   "id": "93a4f18a-d506-4d03-8ceb-9ef65bf9883d",
   "metadata": {},
   "outputs": [
    {
     "data": {
      "text/html": [
       "<div>\n",
       "<style scoped>\n",
       "    .dataframe tbody tr th:only-of-type {\n",
       "        vertical-align: middle;\n",
       "    }\n",
       "\n",
       "    .dataframe tbody tr th {\n",
       "        vertical-align: top;\n",
       "    }\n",
       "\n",
       "    .dataframe thead th {\n",
       "        text-align: right;\n",
       "    }\n",
       "</style>\n",
       "<table border=\"1\" class=\"dataframe\">\n",
       "  <thead>\n",
       "    <tr style=\"text-align: right;\">\n",
       "      <th></th>\n",
       "      <th>Mean</th>\n",
       "      <th>MCSE</th>\n",
       "      <th>StdDev</th>\n",
       "      <th>5%</th>\n",
       "      <th>50%</th>\n",
       "      <th>95%</th>\n",
       "      <th>N_Eff</th>\n",
       "      <th>N_Eff/s</th>\n",
       "      <th>R_hat</th>\n",
       "    </tr>\n",
       "    <tr>\n",
       "      <th>name</th>\n",
       "      <th></th>\n",
       "      <th></th>\n",
       "      <th></th>\n",
       "      <th></th>\n",
       "      <th></th>\n",
       "      <th></th>\n",
       "      <th></th>\n",
       "      <th></th>\n",
       "      <th></th>\n",
       "    </tr>\n",
       "  </thead>\n",
       "  <tbody>\n",
       "    <tr>\n",
       "      <th>lp__</th>\n",
       "      <td>-45.000</td>\n",
       "      <td>0.04400</td>\n",
       "      <td>1.700</td>\n",
       "      <td>-48.000</td>\n",
       "      <td>-45.000</td>\n",
       "      <td>-43.0000</td>\n",
       "      <td>1400.0</td>\n",
       "      <td>4600.0</td>\n",
       "      <td>1.0</td>\n",
       "    </tr>\n",
       "    <tr>\n",
       "      <th>alpha</th>\n",
       "      <td>20.000</td>\n",
       "      <td>0.00780</td>\n",
       "      <td>0.470</td>\n",
       "      <td>19.000</td>\n",
       "      <td>20.000</td>\n",
       "      <td>21.0000</td>\n",
       "      <td>3600.0</td>\n",
       "      <td>11000.0</td>\n",
       "      <td>1.0</td>\n",
       "    </tr>\n",
       "    <tr>\n",
       "      <th>beta_w</th>\n",
       "      <td>-3.200</td>\n",
       "      <td>0.01400</td>\n",
       "      <td>0.780</td>\n",
       "      <td>-4.500</td>\n",
       "      <td>-3.200</td>\n",
       "      <td>-1.9000</td>\n",
       "      <td>3200.0</td>\n",
       "      <td>10000.0</td>\n",
       "      <td>1.0</td>\n",
       "    </tr>\n",
       "    <tr>\n",
       "      <th>beta_cyl</th>\n",
       "      <td>-0.940</td>\n",
       "      <td>0.01200</td>\n",
       "      <td>0.580</td>\n",
       "      <td>-1.900</td>\n",
       "      <td>-0.930</td>\n",
       "      <td>0.0210</td>\n",
       "      <td>2500.0</td>\n",
       "      <td>7900.0</td>\n",
       "      <td>1.0</td>\n",
       "    </tr>\n",
       "    <tr>\n",
       "      <th>beta_hp</th>\n",
       "      <td>-0.018</td>\n",
       "      <td>0.00025</td>\n",
       "      <td>0.013</td>\n",
       "      <td>-0.039</td>\n",
       "      <td>-0.018</td>\n",
       "      <td>0.0026</td>\n",
       "      <td>2500.0</td>\n",
       "      <td>7800.0</td>\n",
       "      <td>1.0</td>\n",
       "    </tr>\n",
       "    <tr>\n",
       "      <th>sigma</th>\n",
       "      <td>2.600</td>\n",
       "      <td>0.00750</td>\n",
       "      <td>0.370</td>\n",
       "      <td>2.100</td>\n",
       "      <td>2.600</td>\n",
       "      <td>3.3000</td>\n",
       "      <td>2400.0</td>\n",
       "      <td>7600.0</td>\n",
       "      <td>1.0</td>\n",
       "    </tr>\n",
       "  </tbody>\n",
       "</table>\n",
       "</div>"
      ],
      "text/plain": [
       "            Mean     MCSE  StdDev      5%     50%      95%   N_Eff  N_Eff/s  \\\n",
       "name                                                                          \n",
       "lp__     -45.000  0.04400   1.700 -48.000 -45.000 -43.0000  1400.0   4600.0   \n",
       "alpha     20.000  0.00780   0.470  19.000  20.000  21.0000  3600.0  11000.0   \n",
       "beta_w    -3.200  0.01400   0.780  -4.500  -3.200  -1.9000  3200.0  10000.0   \n",
       "beta_cyl  -0.940  0.01200   0.580  -1.900  -0.930   0.0210  2500.0   7900.0   \n",
       "beta_hp   -0.018  0.00025   0.013  -0.039  -0.018   0.0026  2500.0   7800.0   \n",
       "sigma      2.600  0.00750   0.370   2.100   2.600   3.3000  2400.0   7600.0   \n",
       "\n",
       "          R_hat  \n",
       "name             \n",
       "lp__        1.0  \n",
       "alpha       1.0  \n",
       "beta_w      1.0  \n",
       "beta_cyl    1.0  \n",
       "beta_hp     1.0  \n",
       "sigma       1.0  "
      ]
     },
     "execution_count": 29,
     "metadata": {},
     "output_type": "execute_result"
    }
   ],
   "source": [
    "fit.summary()"
   ]
  },
  {
   "cell_type": "markdown",
   "id": "dae476de-dc19-4e80-b5bf-a5518a5a4612",
   "metadata": {},
   "source": [
    "- Using Car’s cylinders and horsepower data helps, `lp__` for current model is lower than earlier models.\n",
    "\n",
    "- the model predicts 2.6 miles per gallon."
   ]
  },
  {
   "cell_type": "code",
   "execution_count": 30,
   "id": "75402485-0182-4a7a-b3cb-df8822d5c519",
   "metadata": {},
   "outputs": [],
   "source": [
    "lp = draws['lp__']\n",
    "alpha = draws['alpha']\n",
    "beta_w = draws['beta_w']\n",
    "beta_cyl = draws['beta_cyl']\n",
    "beta_hp = draws['beta_hp']\n",
    "sigma = draws['sigma']"
   ]
  },
  {
   "cell_type": "code",
   "execution_count": 31,
   "id": "77dcfde7-1d59-4613-97b2-0c64d79ac510",
   "metadata": {},
   "outputs": [
    {
     "data": {
      "image/png": "[encoded data removed]",
      "text/plain": [
       "<Figure size 432x288 with 2 Axes>"
      ]
     },
     "metadata": {
      "needs_background": "light"
     },
     "output_type": "display_data"
    }
   ],
   "source": [
    "plot_trace(alpha, 'Alpha')"
   ]
  },
  {
   "cell_type": "code",
   "execution_count": 32,
   "id": "8ee84ebb-a2c8-42b3-85f9-43282b3894b1",
   "metadata": {},
   "outputs": [],
   "source": [
    "# TODO: interpratate (?)"
   ]
  },
  {
   "cell_type": "code",
   "execution_count": 33,
   "id": "671dd72a-8ed5-4f36-a1b3-adfa65d29844",
   "metadata": {},
   "outputs": [
    {
     "data": {
      "image/png": "[encoded data removed]",
      "text/plain": [
       "<Figure size 720x576 with 6 Axes>"
      ]
     },
     "metadata": {
      "needs_background": "light"
     },
     "output_type": "display_data"
    }
   ],
   "source": [
    "fig, axs = plt.subplots(2, 3, figsize=(10, 8))\n",
    "\n",
    "subplot_trace(axs, lp, 'lp__', 0, 0)\n",
    "subplot_trace(axs, alpha, 'alpha', 0, 1)\n",
    "subplot_trace(axs, beta_w, 'beta_w', 0, 2)\n",
    "subplot_trace(axs, beta_cyl, 'beta_cyl', 1, 0)\n",
    "subplot_trace(axs, beta_hp, 'beta_hp', 1, 1)\n",
    "subplot_trace(axs, sigma, 'sigma', 1, 2)\n",
    "\n",
    "fig.tight_layout(pad=2.0)\n",
    "plt.show()"
   ]
  },
  {
   "cell_type": "markdown",
   "id": "fb50fcfb-e79a-4408-a93c-9b22df04645f",
   "metadata": {},
   "source": [
    " - we want to check that our chains have converged and are producing reliable point estimates. We can see that the movement through parameter space resembles a random walk, which is indicative that the underlying Markov chain has reached convergence as we would hope.\n",
    " \n",
    " - the chains are mixing well and have converged to a common distribution."
   ]
  },
  {
   "cell_type": "code",
   "execution_count": 34,
   "id": "ae02bfb0-3a2b-4e68-8659-4a7a6759026b",
   "metadata": {},
   "outputs": [
    {
     "data": {
      "text/plain": [
       "<AxesSubplot:title={'center':'alpha'}>"
      ]
     },
     "execution_count": 34,
     "metadata": {},
     "output_type": "execute_result"
    },
    {
     "data": {
      "image/png": "[encoded data removed]",
      "text/plain": [
       "<Figure size 432x288 with 1 Axes>"
      ]
     },
     "metadata": {
      "needs_background": "light"
     },
     "output_type": "display_data"
    }
   ],
   "source": [
    "az.plot_posterior(fit, var_names=['alpha'], round_to=2, kind='hist', bins=35)"
   ]
  },
  {
   "cell_type": "markdown",
   "id": "e7a6063e-3dd7-4b25-9608-0b7557482dd5",
   "metadata": {},
   "source": [
    "**Posterior predictive**"
   ]
  },
  {
   "cell_type": "markdown",
   "id": "2826b5f9-8bf8-4a16-b2bf-ec6396a49251",
   "metadata": {},
   "source": [
    "`normal_rng` is the Stan function to generate observations from a normal distribution. So, `y_rep` generates new data points from a normal distribution using the linear model we built `mu` and a variance `sigma`."
   ]
  },
  {
   "cell_type": "code",
   "execution_count": 35,
   "id": "9ecfa403-b4c4-4ad3-af4c-c0c1856b24bb",
   "metadata": {},
   "outputs": [],
   "source": [
    "model_data = {\n",
    "    \"mpg\": data['mpg'],\n",
    "    \"weight_center\": data.wt_center,\n",
    "    \"hp_center\": data.hp_center,\n",
    "    \"cylinders_center\": data.cyl_center,\n",
    "    \"n\": N\n",
    "}"
   ]
  },
  {
   "cell_type": "code",
   "execution_count": 36,
   "id": "1aebd405-2a1c-4cff-abcf-0b60718e586c",
   "metadata": {},
   "outputs": [
    {
     "name": "stderr",
     "output_type": "stream",
     "text": [
      "INFO:cmdstanpy:found newer exe file, not recompiling\n"
     ]
    }
   ],
   "source": [
    "model = CmdStanModel(stan_file='stan/posterior_predictive.stan')"
   ]
  },
  {
   "cell_type": "code",
   "execution_count": 37,
   "id": "ea113e87-c083-4f60-a203-c37ba14d91bd",
   "metadata": {},
   "outputs": [
    {
     "name": "stderr",
     "output_type": "stream",
     "text": [
      "INFO:cmdstanpy:CmdStan start procesing\n"
     ]
    },
    {
     "data": {
      "application/vnd.jupyter.widget-view+json": {
       "model_id": "0090d7e793804b979c224fa39c17cf8d",
       "version_major": 2,
       "version_minor": 0
      },
      "text/plain": [
       "chain 1 |          | 00:00 Status"
      ]
     },
     "metadata": {},
     "output_type": "display_data"
    },
    {
     "data": {
      "application/vnd.jupyter.widget-view+json": {
       "model_id": "03b019b270a34efd947211db7ea24f78",
       "version_major": 2,
       "version_minor": 0
      },
      "text/plain": [
       "chain 2 |          | 00:00 Status"
      ]
     },
     "metadata": {},
     "output_type": "display_data"
    },
    {
     "data": {
      "application/vnd.jupyter.widget-view+json": {
       "model_id": "f6a7d344e2e546989bd181ada3ab2456",
       "version_major": 2,
       "version_minor": 0
      },
      "text/plain": [
       "chain 3 |          | 00:00 Status"
      ]
     },
     "metadata": {},
     "output_type": "display_data"
    },
    {
     "data": {
      "application/vnd.jupyter.widget-view+json": {
       "model_id": "3bfdd8a9782748e5a584bb6a19c978b2",
       "version_major": 2,
       "version_minor": 0
      },
      "text/plain": [
       "chain 4 |          | 00:00 Status"
      ]
     },
     "metadata": {},
     "output_type": "display_data"
    },
    {
     "name": "stdout",
     "output_type": "stream",
     "text": [
      "                                                                                                                                                                                                                                                                                                                                "
     ]
    },
    {
     "name": "stderr",
     "output_type": "stream",
     "text": [
      "INFO:cmdstanpy:CmdStan done processing.\n"
     ]
    },
    {
     "name": "stdout",
     "output_type": "stream",
     "text": [
      "\n"
     ]
    }
   ],
   "source": [
    "fit = model.sample(data=model_data)"
   ]
  },
  {
   "cell_type": "code",
   "execution_count": 38,
   "id": "3caf7b08-8007-479c-9faa-7bd9852db36d",
   "metadata": {},
   "outputs": [
    {
     "data": {
      "text/html": [
       "<div>\n",
       "<style scoped>\n",
       "    .dataframe tbody tr th:only-of-type {\n",
       "        vertical-align: middle;\n",
       "    }\n",
       "\n",
       "    .dataframe tbody tr th {\n",
       "        vertical-align: top;\n",
       "    }\n",
       "\n",
       "    .dataframe thead th {\n",
       "        text-align: right;\n",
       "    }\n",
       "</style>\n",
       "<table border=\"1\" class=\"dataframe\">\n",
       "  <thead>\n",
       "    <tr style=\"text-align: right;\">\n",
       "      <th></th>\n",
       "      <th>Mean</th>\n",
       "      <th>MCSE</th>\n",
       "      <th>StdDev</th>\n",
       "      <th>5%</th>\n",
       "      <th>50%</th>\n",
       "      <th>95%</th>\n",
       "      <th>N_Eff</th>\n",
       "      <th>N_Eff/s</th>\n",
       "      <th>R_hat</th>\n",
       "    </tr>\n",
       "    <tr>\n",
       "      <th>name</th>\n",
       "      <th></th>\n",
       "      <th></th>\n",
       "      <th></th>\n",
       "      <th></th>\n",
       "      <th></th>\n",
       "      <th></th>\n",
       "      <th></th>\n",
       "      <th></th>\n",
       "      <th></th>\n",
       "    </tr>\n",
       "  </thead>\n",
       "  <tbody>\n",
       "    <tr>\n",
       "      <th>lp__</th>\n",
       "      <td>-45.000</td>\n",
       "      <td>0.04500</td>\n",
       "      <td>1.700</td>\n",
       "      <td>-49.000</td>\n",
       "      <td>-45.000</td>\n",
       "      <td>-43.0000</td>\n",
       "      <td>1500.0</td>\n",
       "      <td>4100.0</td>\n",
       "      <td>1.0</td>\n",
       "    </tr>\n",
       "    <tr>\n",
       "      <th>alpha</th>\n",
       "      <td>20.000</td>\n",
       "      <td>0.00810</td>\n",
       "      <td>0.470</td>\n",
       "      <td>19.000</td>\n",
       "      <td>20.000</td>\n",
       "      <td>21.0000</td>\n",
       "      <td>3300.0</td>\n",
       "      <td>9000.0</td>\n",
       "      <td>1.0</td>\n",
       "    </tr>\n",
       "    <tr>\n",
       "      <th>beta_w</th>\n",
       "      <td>-3.200</td>\n",
       "      <td>0.01600</td>\n",
       "      <td>0.780</td>\n",
       "      <td>-4.500</td>\n",
       "      <td>-3.200</td>\n",
       "      <td>-1.9000</td>\n",
       "      <td>2500.0</td>\n",
       "      <td>7000.0</td>\n",
       "      <td>1.0</td>\n",
       "    </tr>\n",
       "    <tr>\n",
       "      <th>beta_cyl</th>\n",
       "      <td>-0.930</td>\n",
       "      <td>0.01300</td>\n",
       "      <td>0.580</td>\n",
       "      <td>-1.900</td>\n",
       "      <td>-0.950</td>\n",
       "      <td>0.0210</td>\n",
       "      <td>2100.0</td>\n",
       "      <td>5900.0</td>\n",
       "      <td>1.0</td>\n",
       "    </tr>\n",
       "    <tr>\n",
       "      <th>beta_hp</th>\n",
       "      <td>-0.018</td>\n",
       "      <td>0.00025</td>\n",
       "      <td>0.013</td>\n",
       "      <td>-0.039</td>\n",
       "      <td>-0.018</td>\n",
       "      <td>0.0027</td>\n",
       "      <td>2600.0</td>\n",
       "      <td>7100.0</td>\n",
       "      <td>1.0</td>\n",
       "    </tr>\n",
       "    <tr>\n",
       "      <th>sigma</th>\n",
       "      <td>2.600</td>\n",
       "      <td>0.00760</td>\n",
       "      <td>0.380</td>\n",
       "      <td>2.100</td>\n",
       "      <td>2.600</td>\n",
       "      <td>3.3000</td>\n",
       "      <td>2500.0</td>\n",
       "      <td>6800.0</td>\n",
       "      <td>1.0</td>\n",
       "    </tr>\n",
       "    <tr>\n",
       "      <th>y_rep[1]</th>\n",
       "      <td>23.000</td>\n",
       "      <td>0.04500</td>\n",
       "      <td>2.700</td>\n",
       "      <td>18.000</td>\n",
       "      <td>23.000</td>\n",
       "      <td>27.0000</td>\n",
       "      <td>3587.0</td>\n",
       "      <td>9936.0</td>\n",
       "      <td>1.0</td>\n",
       "    </tr>\n",
       "    <tr>\n",
       "      <th>y_rep[2]</th>\n",
       "      <td>22.000</td>\n",
       "      <td>0.04400</td>\n",
       "      <td>2.700</td>\n",
       "      <td>18.000</td>\n",
       "      <td>22.000</td>\n",
       "      <td>27.0000</td>\n",
       "      <td>3778.0</td>\n",
       "      <td>10466.0</td>\n",
       "      <td>1.0</td>\n",
       "    </tr>\n",
       "    <tr>\n",
       "      <th>y_rep[3]</th>\n",
       "      <td>26.000</td>\n",
       "      <td>0.04400</td>\n",
       "      <td>2.800</td>\n",
       "      <td>21.000</td>\n",
       "      <td>26.000</td>\n",
       "      <td>30.0000</td>\n",
       "      <td>3928.0</td>\n",
       "      <td>10882.0</td>\n",
       "      <td>1.0</td>\n",
       "    </tr>\n",
       "    <tr>\n",
       "      <th>y_rep[4]</th>\n",
       "      <td>21.000</td>\n",
       "      <td>0.04300</td>\n",
       "      <td>2.700</td>\n",
       "      <td>16.000</td>\n",
       "      <td>21.000</td>\n",
       "      <td>25.0000</td>\n",
       "      <td>3927.0</td>\n",
       "      <td>10878.0</td>\n",
       "      <td>1.0</td>\n",
       "    </tr>\n",
       "  </tbody>\n",
       "</table>\n",
       "</div>"
      ],
      "text/plain": [
       "            Mean     MCSE  StdDev      5%     50%      95%   N_Eff  N_Eff/s  \\\n",
       "name                                                                          \n",
       "lp__     -45.000  0.04500   1.700 -49.000 -45.000 -43.0000  1500.0   4100.0   \n",
       "alpha     20.000  0.00810   0.470  19.000  20.000  21.0000  3300.0   9000.0   \n",
       "beta_w    -3.200  0.01600   0.780  -4.500  -3.200  -1.9000  2500.0   7000.0   \n",
       "beta_cyl  -0.930  0.01300   0.580  -1.900  -0.950   0.0210  2100.0   5900.0   \n",
       "beta_hp   -0.018  0.00025   0.013  -0.039  -0.018   0.0027  2600.0   7100.0   \n",
       "sigma      2.600  0.00760   0.380   2.100   2.600   3.3000  2500.0   6800.0   \n",
       "y_rep[1]  23.000  0.04500   2.700  18.000  23.000  27.0000  3587.0   9936.0   \n",
       "y_rep[2]  22.000  0.04400   2.700  18.000  22.000  27.0000  3778.0  10466.0   \n",
       "y_rep[3]  26.000  0.04400   2.800  21.000  26.000  30.0000  3928.0  10882.0   \n",
       "y_rep[4]  21.000  0.04300   2.700  16.000  21.000  25.0000  3927.0  10878.0   \n",
       "\n",
       "          R_hat  \n",
       "name             \n",
       "lp__        1.0  \n",
       "alpha       1.0  \n",
       "beta_w      1.0  \n",
       "beta_cyl    1.0  \n",
       "beta_hp     1.0  \n",
       "sigma       1.0  \n",
       "y_rep[1]    1.0  \n",
       "y_rep[2]    1.0  \n",
       "y_rep[3]    1.0  \n",
       "y_rep[4]    1.0  "
      ]
     },
     "execution_count": 38,
     "metadata": {},
     "output_type": "execute_result"
    }
   ],
   "source": [
    "fit.summary().head(10)"
   ]
  },
  {
   "cell_type": "code",
   "execution_count": 39,
   "id": "f3ee47d0-1457-456d-abfb-b7595ea3cf8f",
   "metadata": {},
   "outputs": [
    {
     "data": {
      "text/html": [
       "<div>\n",
       "<style scoped>\n",
       "    .dataframe tbody tr th:only-of-type {\n",
       "        vertical-align: middle;\n",
       "    }\n",
       "\n",
       "    .dataframe tbody tr th {\n",
       "        vertical-align: top;\n",
       "    }\n",
       "\n",
       "    .dataframe thead th {\n",
       "        text-align: right;\n",
       "    }\n",
       "</style>\n",
       "<table border=\"1\" class=\"dataframe\">\n",
       "  <thead>\n",
       "    <tr style=\"text-align: right;\">\n",
       "      <th></th>\n",
       "      <th>lp__</th>\n",
       "      <th>accept_stat__</th>\n",
       "      <th>stepsize__</th>\n",
       "      <th>treedepth__</th>\n",
       "      <th>n_leapfrog__</th>\n",
       "      <th>divergent__</th>\n",
       "      <th>energy__</th>\n",
       "      <th>alpha</th>\n",
       "      <th>beta_w</th>\n",
       "      <th>beta_cyl</th>\n",
       "      <th>...</th>\n",
       "      <th>y_rep[23]</th>\n",
       "      <th>y_rep[24]</th>\n",
       "      <th>y_rep[25]</th>\n",
       "      <th>y_rep[26]</th>\n",
       "      <th>y_rep[27]</th>\n",
       "      <th>y_rep[28]</th>\n",
       "      <th>y_rep[29]</th>\n",
       "      <th>y_rep[30]</th>\n",
       "      <th>y_rep[31]</th>\n",
       "      <th>y_rep[32]</th>\n",
       "    </tr>\n",
       "  </thead>\n",
       "  <tbody>\n",
       "    <tr>\n",
       "      <th>0</th>\n",
       "      <td>-43.4711</td>\n",
       "      <td>0.972126</td>\n",
       "      <td>0.265687</td>\n",
       "      <td>3.0</td>\n",
       "      <td>15.0</td>\n",
       "      <td>0.0</td>\n",
       "      <td>46.8580</td>\n",
       "      <td>19.9800</td>\n",
       "      <td>-3.24996</td>\n",
       "      <td>-0.638963</td>\n",
       "      <td>...</td>\n",
       "      <td>19.4102</td>\n",
       "      <td>12.0833</td>\n",
       "      <td>16.5691</td>\n",
       "      <td>25.2597</td>\n",
       "      <td>26.1781</td>\n",
       "      <td>28.6335</td>\n",
       "      <td>15.5435</td>\n",
       "      <td>19.8000</td>\n",
       "      <td>10.00770</td>\n",
       "      <td>24.9522</td>\n",
       "    </tr>\n",
       "    <tr>\n",
       "      <th>1</th>\n",
       "      <td>-46.5528</td>\n",
       "      <td>0.887534</td>\n",
       "      <td>0.265687</td>\n",
       "      <td>4.0</td>\n",
       "      <td>15.0</td>\n",
       "      <td>0.0</td>\n",
       "      <td>47.9210</td>\n",
       "      <td>20.6620</td>\n",
       "      <td>-2.54840</td>\n",
       "      <td>-1.618530</td>\n",
       "      <td>...</td>\n",
       "      <td>19.5261</td>\n",
       "      <td>18.7131</td>\n",
       "      <td>10.6136</td>\n",
       "      <td>27.5638</td>\n",
       "      <td>21.9666</td>\n",
       "      <td>32.4644</td>\n",
       "      <td>15.8699</td>\n",
       "      <td>17.9995</td>\n",
       "      <td>18.25400</td>\n",
       "      <td>24.9443</td>\n",
       "    </tr>\n",
       "    <tr>\n",
       "      <th>2</th>\n",
       "      <td>-45.8048</td>\n",
       "      <td>0.926826</td>\n",
       "      <td>0.265687</td>\n",
       "      <td>4.0</td>\n",
       "      <td>15.0</td>\n",
       "      <td>0.0</td>\n",
       "      <td>51.3537</td>\n",
       "      <td>20.8419</td>\n",
       "      <td>-1.96122</td>\n",
       "      <td>-1.394760</td>\n",
       "      <td>...</td>\n",
       "      <td>17.5294</td>\n",
       "      <td>17.4289</td>\n",
       "      <td>18.9826</td>\n",
       "      <td>30.0040</td>\n",
       "      <td>24.5823</td>\n",
       "      <td>31.0317</td>\n",
       "      <td>13.9316</td>\n",
       "      <td>20.9810</td>\n",
       "      <td>12.79230</td>\n",
       "      <td>23.5091</td>\n",
       "    </tr>\n",
       "    <tr>\n",
       "      <th>3</th>\n",
       "      <td>-45.9532</td>\n",
       "      <td>0.811116</td>\n",
       "      <td>0.265687</td>\n",
       "      <td>4.0</td>\n",
       "      <td>15.0</td>\n",
       "      <td>0.0</td>\n",
       "      <td>48.8661</td>\n",
       "      <td>20.0446</td>\n",
       "      <td>-2.40369</td>\n",
       "      <td>-0.832041</td>\n",
       "      <td>...</td>\n",
       "      <td>14.8936</td>\n",
       "      <td>19.4622</td>\n",
       "      <td>16.1416</td>\n",
       "      <td>22.7548</td>\n",
       "      <td>31.2075</td>\n",
       "      <td>27.7895</td>\n",
       "      <td>18.9643</td>\n",
       "      <td>23.5878</td>\n",
       "      <td>7.81786</td>\n",
       "      <td>29.4677</td>\n",
       "    </tr>\n",
       "    <tr>\n",
       "      <th>4</th>\n",
       "      <td>-45.5330</td>\n",
       "      <td>0.993623</td>\n",
       "      <td>0.265687</td>\n",
       "      <td>4.0</td>\n",
       "      <td>15.0</td>\n",
       "      <td>0.0</td>\n",
       "      <td>46.9400</td>\n",
       "      <td>20.0151</td>\n",
       "      <td>-2.22662</td>\n",
       "      <td>-1.707420</td>\n",
       "      <td>...</td>\n",
       "      <td>19.6301</td>\n",
       "      <td>16.4801</td>\n",
       "      <td>15.2836</td>\n",
       "      <td>32.6598</td>\n",
       "      <td>28.6578</td>\n",
       "      <td>28.9775</td>\n",
       "      <td>18.0370</td>\n",
       "      <td>19.6582</td>\n",
       "      <td>15.39910</td>\n",
       "      <td>27.6237</td>\n",
       "    </tr>\n",
       "  </tbody>\n",
       "</table>\n",
       "<p>5 rows × 44 columns</p>\n",
       "</div>"
      ],
      "text/plain": [
       "      lp__  accept_stat__  stepsize__  treedepth__  n_leapfrog__  divergent__  \\\n",
       "0 -43.4711       0.972126    0.265687          3.0          15.0          0.0   \n",
       "1 -46.5528       0.887534    0.265687          4.0          15.0          0.0   \n",
       "2 -45.8048       0.926826    0.265687          4.0          15.0          0.0   \n",
       "3 -45.9532       0.811116    0.265687          4.0          15.0          0.0   \n",
       "4 -45.5330       0.993623    0.265687          4.0          15.0          0.0   \n",
       "\n",
       "   energy__    alpha   beta_w  beta_cyl  ...  y_rep[23]  y_rep[24]  y_rep[25]  \\\n",
       "0   46.8580  19.9800 -3.24996 -0.638963  ...    19.4102    12.0833    16.5691   \n",
       "1   47.9210  20.6620 -2.54840 -1.618530  ...    19.5261    18.7131    10.6136   \n",
       "2   51.3537  20.8419 -1.96122 -1.394760  ...    17.5294    17.4289    18.9826   \n",
       "3   48.8661  20.0446 -2.40369 -0.832041  ...    14.8936    19.4622    16.1416   \n",
       "4   46.9400  20.0151 -2.22662 -1.707420  ...    19.6301    16.4801    15.2836   \n",
       "\n",
       "   y_rep[26]  y_rep[27]  y_rep[28]  y_rep[29]  y_rep[30]  y_rep[31]  y_rep[32]  \n",
       "0    25.2597    26.1781    28.6335    15.5435    19.8000   10.00770    24.9522  \n",
       "1    27.5638    21.9666    32.4644    15.8699    17.9995   18.25400    24.9443  \n",
       "2    30.0040    24.5823    31.0317    13.9316    20.9810   12.79230    23.5091  \n",
       "3    22.7548    31.2075    27.7895    18.9643    23.5878    7.81786    29.4677  \n",
       "4    32.6598    28.6578    28.9775    18.0370    19.6582   15.39910    27.6237  \n",
       "\n",
       "[5 rows x 44 columns]"
      ]
     },
     "execution_count": 39,
     "metadata": {},
     "output_type": "execute_result"
    }
   ],
   "source": [
    "draws = fit.draws_pd()\n",
    "draws.head()"
   ]
  },
  {
   "cell_type": "code",
   "execution_count": 40,
   "id": "a5832790-6938-4d2d-91be-f4977b27414f",
   "metadata": {},
   "outputs": [],
   "source": [
    "y_pred = fit.stan_variable('y_rep')"
   ]
  },
  {
   "cell_type": "code",
   "execution_count": 41,
   "id": "b14791c0-faec-4117-bc11-3ebf092c0b1c",
   "metadata": {},
   "outputs": [
    {
     "data": {
      "text/plain": [
       "array([[<AxesSubplot:title={'center':'y_rep'}>,\n",
       "        <AxesSubplot:title={'center':'y_rep'}>]], dtype=object)"
      ]
     },
     "execution_count": 41,
     "metadata": {},
     "output_type": "execute_result"
    },
    {
     "data": {
      "image/png": "[encoded data removed]",
      "text/plain": [
       "<Figure size 864x144 with 2 Axes>"
      ]
     },
     "metadata": {
      "needs_background": "light"
     },
     "output_type": "display_data"
    }
   ],
   "source": [
    "az.plot_trace(fit, var_names=['y_rep'])"
   ]
  },
  {
   "cell_type": "code",
   "execution_count": 42,
   "id": "505f0cc7-8e27-433a-8630-6a8f1f30469e",
   "metadata": {},
   "outputs": [],
   "source": [
    "idata = az.from_cmdstanpy(\n",
    "    posterior=fit,\n",
    "    posterior_predictive=[\"y_rep\"], \n",
    "    observed_data={\"mpg\": data['mpg']},\n",
    ")"
   ]
  },
  {
   "cell_type": "code",
   "execution_count": 43,
   "id": "ea38196e-d777-4b5b-a87e-745599e6864a",
   "metadata": {},
   "outputs": [
    {
     "data": {
      "text/plain": [
       "<AxesSubplot:xlabel='mpg / y_rep'>"
      ]
     },
     "execution_count": 43,
     "metadata": {},
     "output_type": "execute_result"
    },
    {
     "name": "stderr",
     "output_type": "stream",
     "text": [
      "/Users/dominikwozniak/opt/anaconda3/lib/python3.9/site-packages/IPython/core/pylabtools.py:151: UserWarning: Creating legend with loc=\"best\" can be slow with large amounts of data.\n",
      "  fig.canvas.print_figure(bytes_io, **kw)\n"
     ]
    },
    {
     "data": {
      "image/png": "[encoded data removed]",
      "text/plain": [
       "<Figure size 432x288 with 1 Axes>"
      ]
     },
     "metadata": {
      "needs_background": "light"
     },
     "output_type": "display_data"
    }
   ],
   "source": [
    "az.plot_ppc(idata, data_pairs={\"mpg\": \"y_rep\"})"
   ]
  },
  {
   "cell_type": "markdown",
   "id": "d86e41ea-ae10-4495-b58e-a83a50254dd2",
   "metadata": {},
   "source": [
    "The closer the replicated values - `y_rep` - get to the observed values (`y`) the more accurate the model. The model could be probably do a bit better, Maybe is likely due to the small size of data - which adds more uncertainty.\n"
   ]
  },
  {
   "cell_type": "markdown",
   "id": "f81cb029-f799-428b-832b-d3bae5d6b9da",
   "metadata": {},
   "source": [
    "**Better priors model**"
   ]
  },
  {
   "cell_type": "markdown",
   "id": "30350888-4b3c-4968-8f1d-2d0c5c3e629b",
   "metadata": {},
   "source": [
    "To improve model we can use more imfornamtive priors. Priors allows us to use background knowledge to use in the model. We will obtain more realistic estimates as a result."
   ]
  },
  {
   "cell_type": "markdown",
   "id": "3caad16a-00cf-4943-a38c-a709be62cfa0",
   "metadata": {},
   "source": [
    "We didn't use priors in the previous model. It used flat priors by default - it place all possible coefficient values an equal probably. This scenario is not very realistic."
   ]
  },
  {
   "cell_type": "code",
   "execution_count": 44,
   "id": "2f910e22-921b-49ac-89dd-132e0f93900f",
   "metadata": {},
   "outputs": [],
   "source": [
    "model_data = {\n",
    "    \"mpg\": data['mpg'],\n",
    "    \"weight_center\": data.wt_center,\n",
    "    \"hp_center\": data.hp_center,\n",
    "    \"cylinders_center\": data.cyl_center,\n",
    "    \"n\": N\n",
    "}"
   ]
  },
  {
   "cell_type": "code",
   "execution_count": 45,
   "id": "fb2b3476-4b72-4ed5-97fa-62e15200017f",
   "metadata": {},
   "outputs": [
    {
     "name": "stderr",
     "output_type": "stream",
     "text": [
      "INFO:cmdstanpy:compiling stan file /Users/dominikwozniak/study/data_analytics/final/stan/prior_model.stan to exe file /Users/dominikwozniak/study/data_analytics/final/stan/prior_model\n",
      "INFO:cmdstanpy:compiled model executable: /Users/dominikwozniak/study/data_analytics/final/stan/prior_model\n"
     ]
    }
   ],
   "source": [
    "model = CmdStanModel(stan_file='stan/prior_model.stan')"
   ]
  },
  {
   "cell_type": "code",
   "execution_count": 46,
   "id": "0ff36d80-47c0-4ce9-bd29-ab73b9215ecf",
   "metadata": {},
   "outputs": [
    {
     "name": "stderr",
     "output_type": "stream",
     "text": [
      "INFO:cmdstanpy:CmdStan start procesing\n"
     ]
    },
    {
     "data": {
      "application/vnd.jupyter.widget-view+json": {
       "model_id": "94c7988739944ef4a1de3c39248f8294",
       "version_major": 2,
       "version_minor": 0
      },
      "text/plain": [
       "chain 1 |          | 00:00 Status"
      ]
     },
     "metadata": {},
     "output_type": "display_data"
    },
    {
     "data": {
      "application/vnd.jupyter.widget-view+json": {
       "model_id": "c8907493444f42b384644c51bbbfe4e6",
       "version_major": 2,
       "version_minor": 0
      },
      "text/plain": [
       "chain 2 |          | 00:00 Status"
      ]
     },
     "metadata": {},
     "output_type": "display_data"
    },
    {
     "data": {
      "application/vnd.jupyter.widget-view+json": {
       "model_id": "37db22c14bed4163a43842dab8faee30",
       "version_major": 2,
       "version_minor": 0
      },
      "text/plain": [
       "chain 3 |          | 00:00 Status"
      ]
     },
     "metadata": {},
     "output_type": "display_data"
    },
    {
     "data": {
      "application/vnd.jupyter.widget-view+json": {
       "model_id": "523a5683dd8f43f78508ba6cf85195a7",
       "version_major": 2,
       "version_minor": 0
      },
      "text/plain": [
       "chain 4 |          | 00:00 Status"
      ]
     },
     "metadata": {},
     "output_type": "display_data"
    },
    {
     "name": "stdout",
     "output_type": "stream",
     "text": [
      "                                                                                                                                                                                                                                                                                                                                "
     ]
    },
    {
     "name": "stderr",
     "output_type": "stream",
     "text": [
      "INFO:cmdstanpy:CmdStan done processing.\n"
     ]
    },
    {
     "name": "stdout",
     "output_type": "stream",
     "text": [
      "\n"
     ]
    }
   ],
   "source": [
    "fit_prior = model.sample(data=model_data)"
   ]
  },
  {
   "cell_type": "code",
   "execution_count": 47,
   "id": "08de237d-0483-48ea-b3aa-3364a8eaa04d",
   "metadata": {},
   "outputs": [
    {
     "data": {
      "text/html": [
       "<div>\n",
       "<style scoped>\n",
       "    .dataframe tbody tr th:only-of-type {\n",
       "        vertical-align: middle;\n",
       "    }\n",
       "\n",
       "    .dataframe tbody tr th {\n",
       "        vertical-align: top;\n",
       "    }\n",
       "\n",
       "    .dataframe thead th {\n",
       "        text-align: right;\n",
       "    }\n",
       "</style>\n",
       "<table border=\"1\" class=\"dataframe\">\n",
       "  <thead>\n",
       "    <tr style=\"text-align: right;\">\n",
       "      <th></th>\n",
       "      <th>Mean</th>\n",
       "      <th>MCSE</th>\n",
       "      <th>StdDev</th>\n",
       "      <th>5%</th>\n",
       "      <th>50%</th>\n",
       "      <th>95%</th>\n",
       "      <th>N_Eff</th>\n",
       "      <th>N_Eff/s</th>\n",
       "      <th>R_hat</th>\n",
       "    </tr>\n",
       "    <tr>\n",
       "      <th>name</th>\n",
       "      <th></th>\n",
       "      <th></th>\n",
       "      <th></th>\n",
       "      <th></th>\n",
       "      <th></th>\n",
       "      <th></th>\n",
       "      <th></th>\n",
       "      <th></th>\n",
       "      <th></th>\n",
       "    </tr>\n",
       "  </thead>\n",
       "  <tbody>\n",
       "    <tr>\n",
       "      <th>lp__</th>\n",
       "      <td>-46.000</td>\n",
       "      <td>0.06400</td>\n",
       "      <td>1.800</td>\n",
       "      <td>-49.000</td>\n",
       "      <td>-46.000</td>\n",
       "      <td>-44.0000</td>\n",
       "      <td>790.0</td>\n",
       "      <td>580.0</td>\n",
       "      <td>1.0</td>\n",
       "    </tr>\n",
       "    <tr>\n",
       "      <th>alpha</th>\n",
       "      <td>20.000</td>\n",
       "      <td>0.00710</td>\n",
       "      <td>0.470</td>\n",
       "      <td>19.000</td>\n",
       "      <td>20.000</td>\n",
       "      <td>21.0000</td>\n",
       "      <td>4400.0</td>\n",
       "      <td>3200.0</td>\n",
       "      <td>1.0</td>\n",
       "    </tr>\n",
       "    <tr>\n",
       "      <th>beta_w</th>\n",
       "      <td>-3.400</td>\n",
       "      <td>0.02100</td>\n",
       "      <td>0.780</td>\n",
       "      <td>-4.600</td>\n",
       "      <td>-3.400</td>\n",
       "      <td>-2.1000</td>\n",
       "      <td>1400.0</td>\n",
       "      <td>1000.0</td>\n",
       "      <td>1.0</td>\n",
       "    </tr>\n",
       "    <tr>\n",
       "      <th>beta_cyl</th>\n",
       "      <td>-0.830</td>\n",
       "      <td>0.01700</td>\n",
       "      <td>0.580</td>\n",
       "      <td>-1.800</td>\n",
       "      <td>-0.840</td>\n",
       "      <td>0.1200</td>\n",
       "      <td>1200.0</td>\n",
       "      <td>860.0</td>\n",
       "      <td>1.0</td>\n",
       "    </tr>\n",
       "    <tr>\n",
       "      <th>beta_hp</th>\n",
       "      <td>-0.018</td>\n",
       "      <td>0.00031</td>\n",
       "      <td>0.012</td>\n",
       "      <td>-0.039</td>\n",
       "      <td>-0.019</td>\n",
       "      <td>0.0016</td>\n",
       "      <td>1600.0</td>\n",
       "      <td>1100.0</td>\n",
       "      <td>1.0</td>\n",
       "    </tr>\n",
       "    <tr>\n",
       "      <th>sigma</th>\n",
       "      <td>2.600</td>\n",
       "      <td>0.01500</td>\n",
       "      <td>0.400</td>\n",
       "      <td>2.100</td>\n",
       "      <td>2.600</td>\n",
       "      <td>3.3000</td>\n",
       "      <td>650.0</td>\n",
       "      <td>470.0</td>\n",
       "      <td>1.0</td>\n",
       "    </tr>\n",
       "    <tr>\n",
       "      <th>y_rep[1]</th>\n",
       "      <td>23.000</td>\n",
       "      <td>0.04400</td>\n",
       "      <td>2.700</td>\n",
       "      <td>18.000</td>\n",
       "      <td>23.000</td>\n",
       "      <td>27.0000</td>\n",
       "      <td>3883.0</td>\n",
       "      <td>2816.0</td>\n",
       "      <td>1.0</td>\n",
       "    </tr>\n",
       "    <tr>\n",
       "      <th>y_rep[2]</th>\n",
       "      <td>22.000</td>\n",
       "      <td>0.04500</td>\n",
       "      <td>2.700</td>\n",
       "      <td>18.000</td>\n",
       "      <td>22.000</td>\n",
       "      <td>27.0000</td>\n",
       "      <td>3703.0</td>\n",
       "      <td>2685.0</td>\n",
       "      <td>1.0</td>\n",
       "    </tr>\n",
       "    <tr>\n",
       "      <th>y_rep[3]</th>\n",
       "      <td>26.000</td>\n",
       "      <td>0.04500</td>\n",
       "      <td>2.800</td>\n",
       "      <td>21.000</td>\n",
       "      <td>26.000</td>\n",
       "      <td>31.0000</td>\n",
       "      <td>3986.0</td>\n",
       "      <td>2890.0</td>\n",
       "      <td>1.0</td>\n",
       "    </tr>\n",
       "    <tr>\n",
       "      <th>y_rep[4]</th>\n",
       "      <td>21.000</td>\n",
       "      <td>0.04400</td>\n",
       "      <td>2.700</td>\n",
       "      <td>17.000</td>\n",
       "      <td>21.000</td>\n",
       "      <td>25.0000</td>\n",
       "      <td>3773.0</td>\n",
       "      <td>2736.0</td>\n",
       "      <td>1.0</td>\n",
       "    </tr>\n",
       "  </tbody>\n",
       "</table>\n",
       "</div>"
      ],
      "text/plain": [
       "            Mean     MCSE  StdDev      5%     50%      95%   N_Eff  N_Eff/s  \\\n",
       "name                                                                          \n",
       "lp__     -46.000  0.06400   1.800 -49.000 -46.000 -44.0000   790.0    580.0   \n",
       "alpha     20.000  0.00710   0.470  19.000  20.000  21.0000  4400.0   3200.0   \n",
       "beta_w    -3.400  0.02100   0.780  -4.600  -3.400  -2.1000  1400.0   1000.0   \n",
       "beta_cyl  -0.830  0.01700   0.580  -1.800  -0.840   0.1200  1200.0    860.0   \n",
       "beta_hp   -0.018  0.00031   0.012  -0.039  -0.019   0.0016  1600.0   1100.0   \n",
       "sigma      2.600  0.01500   0.400   2.100   2.600   3.3000   650.0    470.0   \n",
       "y_rep[1]  23.000  0.04400   2.700  18.000  23.000  27.0000  3883.0   2816.0   \n",
       "y_rep[2]  22.000  0.04500   2.700  18.000  22.000  27.0000  3703.0   2685.0   \n",
       "y_rep[3]  26.000  0.04500   2.800  21.000  26.000  31.0000  3986.0   2890.0   \n",
       "y_rep[4]  21.000  0.04400   2.700  17.000  21.000  25.0000  3773.0   2736.0   \n",
       "\n",
       "          R_hat  \n",
       "name             \n",
       "lp__        1.0  \n",
       "alpha       1.0  \n",
       "beta_w      1.0  \n",
       "beta_cyl    1.0  \n",
       "beta_hp     1.0  \n",
       "sigma       1.0  \n",
       "y_rep[1]    1.0  \n",
       "y_rep[2]    1.0  \n",
       "y_rep[3]    1.0  \n",
       "y_rep[4]    1.0  "
      ]
     },
     "execution_count": 47,
     "metadata": {},
     "output_type": "execute_result"
    }
   ],
   "source": [
    "fit_prior.summary().head(10)"
   ]
  },
  {
   "cell_type": "markdown",
   "id": "e973770e-30f6-4f1d-be61-905ffb7a703f",
   "metadata": {},
   "source": [
    "The model with more informative priors have a bit lower `lp__` than the previous model."
   ]
  },
  {
   "cell_type": "code",
   "execution_count": 48,
   "id": "00ec5810-c50f-4cc4-ae61-3e3b39ac8285",
   "metadata": {},
   "outputs": [
    {
     "data": {
      "text/html": [
       "<div>\n",
       "<style scoped>\n",
       "    .dataframe tbody tr th:only-of-type {\n",
       "        vertical-align: middle;\n",
       "    }\n",
       "\n",
       "    .dataframe tbody tr th {\n",
       "        vertical-align: top;\n",
       "    }\n",
       "\n",
       "    .dataframe thead th {\n",
       "        text-align: right;\n",
       "    }\n",
       "</style>\n",
       "<table border=\"1\" class=\"dataframe\">\n",
       "  <thead>\n",
       "    <tr style=\"text-align: right;\">\n",
       "      <th></th>\n",
       "      <th>lp__</th>\n",
       "      <th>accept_stat__</th>\n",
       "      <th>stepsize__</th>\n",
       "      <th>treedepth__</th>\n",
       "      <th>n_leapfrog__</th>\n",
       "      <th>divergent__</th>\n",
       "      <th>energy__</th>\n",
       "      <th>alpha</th>\n",
       "      <th>beta_w</th>\n",
       "      <th>beta_cyl</th>\n",
       "      <th>...</th>\n",
       "      <th>y_rep[23]</th>\n",
       "      <th>y_rep[24]</th>\n",
       "      <th>y_rep[25]</th>\n",
       "      <th>y_rep[26]</th>\n",
       "      <th>y_rep[27]</th>\n",
       "      <th>y_rep[28]</th>\n",
       "      <th>y_rep[29]</th>\n",
       "      <th>y_rep[30]</th>\n",
       "      <th>y_rep[31]</th>\n",
       "      <th>y_rep[32]</th>\n",
       "    </tr>\n",
       "  </thead>\n",
       "  <tbody>\n",
       "    <tr>\n",
       "      <th>0</th>\n",
       "      <td>-45.8011</td>\n",
       "      <td>0.905683</td>\n",
       "      <td>0.061803</td>\n",
       "      <td>5.0</td>\n",
       "      <td>47.0</td>\n",
       "      <td>0.0</td>\n",
       "      <td>47.0235</td>\n",
       "      <td>20.7298</td>\n",
       "      <td>-3.19376</td>\n",
       "      <td>-0.731128</td>\n",
       "      <td>...</td>\n",
       "      <td>14.8826</td>\n",
       "      <td>15.6325</td>\n",
       "      <td>16.6959</td>\n",
       "      <td>29.7656</td>\n",
       "      <td>29.4900</td>\n",
       "      <td>25.0102</td>\n",
       "      <td>20.4654</td>\n",
       "      <td>23.0430</td>\n",
       "      <td>12.7591</td>\n",
       "      <td>25.9520</td>\n",
       "    </tr>\n",
       "    <tr>\n",
       "      <th>1</th>\n",
       "      <td>-44.5319</td>\n",
       "      <td>0.999257</td>\n",
       "      <td>0.061803</td>\n",
       "      <td>4.0</td>\n",
       "      <td>27.0</td>\n",
       "      <td>0.0</td>\n",
       "      <td>46.2860</td>\n",
       "      <td>20.5242</td>\n",
       "      <td>-3.19504</td>\n",
       "      <td>-1.051690</td>\n",
       "      <td>...</td>\n",
       "      <td>18.5805</td>\n",
       "      <td>13.5925</td>\n",
       "      <td>13.2374</td>\n",
       "      <td>24.8001</td>\n",
       "      <td>27.2908</td>\n",
       "      <td>29.5840</td>\n",
       "      <td>19.7057</td>\n",
       "      <td>21.1941</td>\n",
       "      <td>12.7774</td>\n",
       "      <td>28.0369</td>\n",
       "    </tr>\n",
       "    <tr>\n",
       "      <th>2</th>\n",
       "      <td>-44.1283</td>\n",
       "      <td>0.982491</td>\n",
       "      <td>0.061803</td>\n",
       "      <td>4.0</td>\n",
       "      <td>23.0</td>\n",
       "      <td>0.0</td>\n",
       "      <td>45.3158</td>\n",
       "      <td>19.6816</td>\n",
       "      <td>-3.50860</td>\n",
       "      <td>-1.059090</td>\n",
       "      <td>...</td>\n",
       "      <td>14.9944</td>\n",
       "      <td>17.0328</td>\n",
       "      <td>14.5284</td>\n",
       "      <td>27.4968</td>\n",
       "      <td>23.5803</td>\n",
       "      <td>26.2631</td>\n",
       "      <td>16.6481</td>\n",
       "      <td>15.4778</td>\n",
       "      <td>15.7441</td>\n",
       "      <td>22.4393</td>\n",
       "    </tr>\n",
       "    <tr>\n",
       "      <th>3</th>\n",
       "      <td>-44.0109</td>\n",
       "      <td>0.968642</td>\n",
       "      <td>0.061803</td>\n",
       "      <td>2.0</td>\n",
       "      <td>7.0</td>\n",
       "      <td>0.0</td>\n",
       "      <td>46.7825</td>\n",
       "      <td>20.0138</td>\n",
       "      <td>-3.41571</td>\n",
       "      <td>-1.008080</td>\n",
       "      <td>...</td>\n",
       "      <td>16.6812</td>\n",
       "      <td>16.9006</td>\n",
       "      <td>14.4563</td>\n",
       "      <td>30.2978</td>\n",
       "      <td>23.7240</td>\n",
       "      <td>26.9361</td>\n",
       "      <td>15.7985</td>\n",
       "      <td>21.8016</td>\n",
       "      <td>18.1172</td>\n",
       "      <td>25.9090</td>\n",
       "    </tr>\n",
       "    <tr>\n",
       "      <th>4</th>\n",
       "      <td>-43.9422</td>\n",
       "      <td>0.999785</td>\n",
       "      <td>0.061803</td>\n",
       "      <td>4.0</td>\n",
       "      <td>15.0</td>\n",
       "      <td>0.0</td>\n",
       "      <td>44.3284</td>\n",
       "      <td>20.0677</td>\n",
       "      <td>-3.49244</td>\n",
       "      <td>-0.956647</td>\n",
       "      <td>...</td>\n",
       "      <td>19.2964</td>\n",
       "      <td>16.8710</td>\n",
       "      <td>18.5117</td>\n",
       "      <td>30.8833</td>\n",
       "      <td>28.2635</td>\n",
       "      <td>25.5407</td>\n",
       "      <td>18.3174</td>\n",
       "      <td>25.9363</td>\n",
       "      <td>19.9049</td>\n",
       "      <td>25.3671</td>\n",
       "    </tr>\n",
       "  </tbody>\n",
       "</table>\n",
       "<p>5 rows × 44 columns</p>\n",
       "</div>"
      ],
      "text/plain": [
       "      lp__  accept_stat__  stepsize__  treedepth__  n_leapfrog__  divergent__  \\\n",
       "0 -45.8011       0.905683    0.061803          5.0          47.0          0.0   \n",
       "1 -44.5319       0.999257    0.061803          4.0          27.0          0.0   \n",
       "2 -44.1283       0.982491    0.061803          4.0          23.0          0.0   \n",
       "3 -44.0109       0.968642    0.061803          2.0           7.0          0.0   \n",
       "4 -43.9422       0.999785    0.061803          4.0          15.0          0.0   \n",
       "\n",
       "   energy__    alpha   beta_w  beta_cyl  ...  y_rep[23]  y_rep[24]  y_rep[25]  \\\n",
       "0   47.0235  20.7298 -3.19376 -0.731128  ...    14.8826    15.6325    16.6959   \n",
       "1   46.2860  20.5242 -3.19504 -1.051690  ...    18.5805    13.5925    13.2374   \n",
       "2   45.3158  19.6816 -3.50860 -1.059090  ...    14.9944    17.0328    14.5284   \n",
       "3   46.7825  20.0138 -3.41571 -1.008080  ...    16.6812    16.9006    14.4563   \n",
       "4   44.3284  20.0677 -3.49244 -0.956647  ...    19.2964    16.8710    18.5117   \n",
       "\n",
       "   y_rep[26]  y_rep[27]  y_rep[28]  y_rep[29]  y_rep[30]  y_rep[31]  y_rep[32]  \n",
       "0    29.7656    29.4900    25.0102    20.4654    23.0430    12.7591    25.9520  \n",
       "1    24.8001    27.2908    29.5840    19.7057    21.1941    12.7774    28.0369  \n",
       "2    27.4968    23.5803    26.2631    16.6481    15.4778    15.7441    22.4393  \n",
       "3    30.2978    23.7240    26.9361    15.7985    21.8016    18.1172    25.9090  \n",
       "4    30.8833    28.2635    25.5407    18.3174    25.9363    19.9049    25.3671  \n",
       "\n",
       "[5 rows x 44 columns]"
      ]
     },
     "execution_count": 48,
     "metadata": {},
     "output_type": "execute_result"
    }
   ],
   "source": [
    "draws = fit_prior.draws_pd()\n",
    "draws.head()"
   ]
  },
  {
   "cell_type": "code",
   "execution_count": 49,
   "id": "a67895ce-707e-4bd2-bbb8-eb6a0fb789dc",
   "metadata": {},
   "outputs": [],
   "source": [
    "beta_w = draws['beta_w']"
   ]
  },
  {
   "cell_type": "code",
   "execution_count": 50,
   "id": "152fb3d1-1281-47d8-ad7d-32d21f90bbe4",
   "metadata": {},
   "outputs": [
    {
     "data": {
      "text/plain": [
       "<AxesSubplot:>"
      ]
     },
     "execution_count": 50,
     "metadata": {},
     "output_type": "execute_result"
    },
    {
     "data": {
      "image/png": "[encoded data removed]",
      "text/plain": [
       "<Figure size 432x288 with 1 Axes>"
      ]
     },
     "metadata": {
      "needs_background": "light"
     },
     "output_type": "display_data"
    }
   ],
   "source": [
    "az.plot_dist(beta_w)"
   ]
  },
  {
   "cell_type": "code",
   "execution_count": 51,
   "id": "20233759-4ee0-4a76-b976-3f03057057e6",
   "metadata": {},
   "outputs": [
    {
     "data": {
      "text/plain": [
       "<AxesSubplot:title={'center':'beta_w'}>"
      ]
     },
     "execution_count": 51,
     "metadata": {},
     "output_type": "execute_result"
    },
    {
     "data": {
      "image/png": "[encoded data removed]",
      "text/plain": [
       "<Figure size 432x288 with 1 Axes>"
      ]
     },
     "metadata": {
      "needs_background": "light"
     },
     "output_type": "display_data"
    }
   ],
   "source": [
    "az.plot_posterior(fit_prior, var_names=['beta_w'], round_to=2, kind='hist', bins=50)"
   ]
  },
  {
   "cell_type": "code",
   "execution_count": 52,
   "id": "92b279d0-71c9-4ea2-be6c-67599883122f",
   "metadata": {},
   "outputs": [],
   "source": [
    "idata = az.from_cmdstanpy(\n",
    "    posterior=fit_prior,\n",
    "    posterior_predictive=[\"y_rep\"], \n",
    "    observed_data={\"mpg\": data['mpg']},\n",
    ")"
   ]
  },
  {
   "cell_type": "code",
   "execution_count": 53,
   "id": "0f0c9dda-41b5-49ad-a5bd-8f3c79f8fcd7",
   "metadata": {},
   "outputs": [
    {
     "data": {
      "text/plain": [
       "<AxesSubplot:xlabel='mpg / y_rep'>"
      ]
     },
     "execution_count": 53,
     "metadata": {},
     "output_type": "execute_result"
    },
    {
     "name": "stderr",
     "output_type": "stream",
     "text": [
      "/Users/dominikwozniak/opt/anaconda3/lib/python3.9/site-packages/IPython/core/pylabtools.py:151: UserWarning: Creating legend with loc=\"best\" can be slow with large amounts of data.\n",
      "  fig.canvas.print_figure(bytes_io, **kw)\n"
     ]
    },
    {
     "data": {
      "image/png": "[encoded data removed]",
      "text/plain": [
       "<Figure size 432x288 with 1 Axes>"
      ]
     },
     "metadata": {
      "needs_background": "light"
     },
     "output_type": "display_data"
    }
   ],
   "source": [
    "az.plot_ppc(idata, data_pairs={\"mpg\": \"y_rep\"})"
   ]
  },
  {
   "cell_type": "code",
   "execution_count": 54,
   "id": "ef1260e0-de3d-47d4-ad42-ff7800faed21",
   "metadata": {},
   "outputs": [],
   "source": [
    "lp = draws['lp__']\n",
    "alpha = draws['alpha']\n",
    "beta = draws['beta_w']\n",
    "beta_cyl = draws['beta_cyl']\n",
    "beta_hp = draws['beta_hp']\n",
    "sigma = draws['sigma']\n",
    "\n",
    "alpha_mean = alpha.mean()\n",
    "beta_mean = beta_w.mean()"
   ]
  },
  {
   "cell_type": "code",
   "execution_count": 55,
   "id": "efb622f7-0d94-4584-97fa-9d9a10a67d5e",
   "metadata": {},
   "outputs": [
    {
     "data": {
      "image/png": "[encoded data removed]",
      "text/plain": [
       "<Figure size 864x432 with 1 Axes>"
      ]
     },
     "metadata": {
      "needs_background": "light"
     },
     "output_type": "display_data"
    }
   ],
   "source": [
    "def show_regression(alpha, beta, alpha_mean, beta_mean):\n",
    "    x_min, x_max = -3, 3\n",
    "    x_plot = np.linspace(x_min, x_max, 100)\n",
    "\n",
    "    plt.figure(figsize=(12,6))\n",
    "    for i in np.random.randint(0, len(alpha), 1000):\n",
    "        plt.plot(x_plot, alpha[i] + beta[i] * x_plot, color='lightsteelblue', alpha=0.005)\n",
    "\n",
    "    plt.plot(x_plot, alpha_mean + beta_mean * x_plot)\n",
    "    plt.scatter(data['wt_center'], data['mpg'], color='r')\n",
    "    plt.xlabel('weight (1000lb)')\n",
    "    plt.ylabel('mpg (miles per gallon)')\n",
    "    plt.title('Fitted regression line')\n",
    "    plt.show()\n",
    "    \n",
    "show_regression(alpha, beta, alpha_mean, beta_mean)"
   ]
  },
  {
   "cell_type": "code",
   "execution_count": 56,
   "id": "97ead6b8-aa23-4623-8368-793de01bc809",
   "metadata": {},
   "outputs": [
    {
     "data": {
      "image/png": "[encoded data removed]",
      "text/plain": [
       "<Figure size 720x576 with 6 Axes>"
      ]
     },
     "metadata": {
      "needs_background": "light"
     },
     "output_type": "display_data"
    }
   ],
   "source": [
    "fig, axs = plt.subplots(2, 3, figsize=(10, 8))\n",
    "\n",
    "subplot_trace(axs, lp, 'lp__', 0, 0)\n",
    "subplot_trace(axs, alpha, 'alpha', 0, 1)\n",
    "subplot_trace(axs, beta_w, 'beta_w', 0, 2)\n",
    "subplot_trace(axs, beta_cyl, 'beta_cyl', 1, 0)\n",
    "subplot_trace(axs, beta_hp, 'beta_hp', 1, 1)\n",
    "subplot_trace(axs, sigma, 'sigma', 1, 2)\n",
    "\n",
    "fig.tight_layout(pad=2.0)\n",
    "plt.show()"
   ]
  },
  {
   "cell_type": "code",
   "execution_count": null,
   "id": "e85a7158-9b76-4c58-8402-0ab0d40df49c",
   "metadata": {},
   "outputs": [],
   "source": []
  },
  {
   "cell_type": "code",
   "execution_count": 63,
   "id": "74665878-3273-4862-8249-18f8415f2d8d",
   "metadata": {},
   "outputs": [
    {
     "name": "stderr",
     "output_type": "stream",
     "text": [
      "INFO:cmdstanpy:found newer exe file, not recompiling\n"
     ]
    }
   ],
   "source": [
    "model_posterior = CmdStanModel(stan_file='stan/posterior_predictive-log.stan')"
   ]
  },
  {
   "cell_type": "code",
   "execution_count": 64,
   "id": "5b5be488-9792-4399-bd50-d8f772685080",
   "metadata": {},
   "outputs": [
    {
     "name": "stderr",
     "output_type": "stream",
     "text": [
      "INFO:cmdstanpy:CmdStan start procesing\n"
     ]
    },
    {
     "data": {
      "application/vnd.jupyter.widget-view+json": {
       "model_id": "f77af877d3a54472955b127ccfee099f",
       "version_major": 2,
       "version_minor": 0
      },
      "text/plain": [
       "chain 1 |          | 00:00 Status"
      ]
     },
     "metadata": {},
     "output_type": "display_data"
    },
    {
     "data": {
      "application/vnd.jupyter.widget-view+json": {
       "model_id": "422bde0fe023435298a8a883556bdaf1",
       "version_major": 2,
       "version_minor": 0
      },
      "text/plain": [
       "chain 2 |          | 00:00 Status"
      ]
     },
     "metadata": {},
     "output_type": "display_data"
    },
    {
     "data": {
      "application/vnd.jupyter.widget-view+json": {
       "model_id": "651b409336bf47afb9e3beee8df47aee",
       "version_major": 2,
       "version_minor": 0
      },
      "text/plain": [
       "chain 3 |          | 00:00 Status"
      ]
     },
     "metadata": {},
     "output_type": "display_data"
    },
    {
     "data": {
      "application/vnd.jupyter.widget-view+json": {
       "model_id": "484dd61c977f463387c5715fac48f30f",
       "version_major": 2,
       "version_minor": 0
      },
      "text/plain": [
       "chain 4 |          | 00:00 Status"
      ]
     },
     "metadata": {},
     "output_type": "display_data"
    },
    {
     "name": "stdout",
     "output_type": "stream",
     "text": [
      "                                                                                                                                                                                                                                                                                                                                "
     ]
    },
    {
     "name": "stderr",
     "output_type": "stream",
     "text": [
      "INFO:cmdstanpy:CmdStan done processing.\n"
     ]
    },
    {
     "name": "stdout",
     "output_type": "stream",
     "text": [
      "\n"
     ]
    }
   ],
   "source": [
    "fit_posterior = model_posterior.sample(data=model_data)"
   ]
  },
  {
   "cell_type": "code",
   "execution_count": null,
   "id": "19f68092-e240-4656-82dc-1eb9032828f4",
   "metadata": {},
   "outputs": [],
   "source": []
  },
  {
   "cell_type": "code",
   "execution_count": null,
   "id": "0dcef42a-b35d-4f4e-8fb3-35ea2cf340fd",
   "metadata": {},
   "outputs": [],
   "source": []
  },
  {
   "cell_type": "code",
   "execution_count": null,
   "id": "3f1dc2a0-410e-43ea-8057-c6c19e8d8107",
   "metadata": {},
   "outputs": [],
   "source": []
  },
  {
   "cell_type": "code",
   "execution_count": 65,
   "id": "425749ea-0a93-40d8-8d82-1b58b17bd6ea",
   "metadata": {},
   "outputs": [
    {
     "name": "stderr",
     "output_type": "stream",
     "text": [
      "INFO:cmdstanpy:found newer exe file, not recompiling\n"
     ]
    }
   ],
   "source": [
    "model_prior = CmdStanModel(stan_file='stan/prior_model-log.stan')"
   ]
  },
  {
   "cell_type": "code",
   "execution_count": 66,
   "id": "e0aaff30-b830-4115-b4f6-aceec7e39ce8",
   "metadata": {},
   "outputs": [
    {
     "name": "stderr",
     "output_type": "stream",
     "text": [
      "INFO:cmdstanpy:CmdStan start procesing\n"
     ]
    },
    {
     "data": {
      "application/vnd.jupyter.widget-view+json": {
       "model_id": "0fe037ed48fc4063a08adbf822550220",
       "version_major": 2,
       "version_minor": 0
      },
      "text/plain": [
       "chain 1 |          | 00:00 Status"
      ]
     },
     "metadata": {},
     "output_type": "display_data"
    },
    {
     "data": {
      "application/vnd.jupyter.widget-view+json": {
       "model_id": "a8a4588445f044178dbc571392818bb6",
       "version_major": 2,
       "version_minor": 0
      },
      "text/plain": [
       "chain 2 |          | 00:00 Status"
      ]
     },
     "metadata": {},
     "output_type": "display_data"
    },
    {
     "data": {
      "application/vnd.jupyter.widget-view+json": {
       "model_id": "de48684cc19e4283b0647626afbf19ad",
       "version_major": 2,
       "version_minor": 0
      },
      "text/plain": [
       "chain 3 |          | 00:00 Status"
      ]
     },
     "metadata": {},
     "output_type": "display_data"
    },
    {
     "data": {
      "application/vnd.jupyter.widget-view+json": {
       "model_id": "9926c0bb0b1344d38c01fe7113f02349",
       "version_major": 2,
       "version_minor": 0
      },
      "text/plain": [
       "chain 4 |          | 00:00 Status"
      ]
     },
     "metadata": {},
     "output_type": "display_data"
    },
    {
     "name": "stdout",
     "output_type": "stream",
     "text": [
      "                                                                                                                                                                                                                                                                                                                                "
     ]
    },
    {
     "name": "stderr",
     "output_type": "stream",
     "text": [
      "INFO:cmdstanpy:CmdStan done processing.\n"
     ]
    },
    {
     "name": "stdout",
     "output_type": "stream",
     "text": [
      "\n"
     ]
    }
   ],
   "source": [
    "fit_prior = model_prior.sample(data=model_data)"
   ]
  },
  {
   "cell_type": "code",
   "execution_count": 67,
   "id": "c9c48d02-8932-4ae4-9ab7-a297b0d22dbc",
   "metadata": {},
   "outputs": [
    {
     "data": {
      "text/html": [
       "<div>\n",
       "<style scoped>\n",
       "    .dataframe tbody tr th:only-of-type {\n",
       "        vertical-align: middle;\n",
       "    }\n",
       "\n",
       "    .dataframe tbody tr th {\n",
       "        vertical-align: top;\n",
       "    }\n",
       "\n",
       "    .dataframe thead th {\n",
       "        text-align: right;\n",
       "    }\n",
       "</style>\n",
       "<table border=\"1\" class=\"dataframe\">\n",
       "  <thead>\n",
       "    <tr style=\"text-align: right;\">\n",
       "      <th></th>\n",
       "      <th>lp__</th>\n",
       "      <th>accept_stat__</th>\n",
       "      <th>stepsize__</th>\n",
       "      <th>treedepth__</th>\n",
       "      <th>n_leapfrog__</th>\n",
       "      <th>divergent__</th>\n",
       "      <th>energy__</th>\n",
       "      <th>alpha</th>\n",
       "      <th>beta_w</th>\n",
       "      <th>beta_cyl</th>\n",
       "      <th>...</th>\n",
       "      <th>log_lik[23]</th>\n",
       "      <th>log_lik[24]</th>\n",
       "      <th>log_lik[25]</th>\n",
       "      <th>log_lik[26]</th>\n",
       "      <th>log_lik[27]</th>\n",
       "      <th>log_lik[28]</th>\n",
       "      <th>log_lik[29]</th>\n",
       "      <th>log_lik[30]</th>\n",
       "      <th>log_lik[31]</th>\n",
       "      <th>log_lik[32]</th>\n",
       "    </tr>\n",
       "  </thead>\n",
       "  <tbody>\n",
       "    <tr>\n",
       "      <th>0</th>\n",
       "      <td>-46.6891</td>\n",
       "      <td>0.944533</td>\n",
       "      <td>0.065108</td>\n",
       "      <td>3.0</td>\n",
       "      <td>7.0</td>\n",
       "      <td>0.0</td>\n",
       "      <td>49.7642</td>\n",
       "      <td>20.6616</td>\n",
       "      <td>-3.305270</td>\n",
       "      <td>-1.67300</td>\n",
       "      <td>...</td>\n",
       "      <td>-2.18773</td>\n",
       "      <td>-2.21841</td>\n",
       "      <td>-2.79671</td>\n",
       "      <td>-2.17078</td>\n",
       "      <td>-2.27431</td>\n",
       "      <td>-2.03779</td>\n",
       "      <td>-2.15248</td>\n",
       "      <td>-2.40667</td>\n",
       "      <td>-2.05690</td>\n",
       "      <td>-3.13642</td>\n",
       "    </tr>\n",
       "    <tr>\n",
       "      <th>1</th>\n",
       "      <td>-50.2391</td>\n",
       "      <td>0.969993</td>\n",
       "      <td>0.065108</td>\n",
       "      <td>5.0</td>\n",
       "      <td>31.0</td>\n",
       "      <td>0.0</td>\n",
       "      <td>52.8008</td>\n",
       "      <td>19.3446</td>\n",
       "      <td>-0.969397</td>\n",
       "      <td>-2.26176</td>\n",
       "      <td>...</td>\n",
       "      <td>-1.89581</td>\n",
       "      <td>-1.89263</td>\n",
       "      <td>-3.64031</td>\n",
       "      <td>-1.92394</td>\n",
       "      <td>-1.89330</td>\n",
       "      <td>-3.03124</td>\n",
       "      <td>-2.21061</td>\n",
       "      <td>-1.89358</td>\n",
       "      <td>-2.40074</td>\n",
       "      <td>-2.93937</td>\n",
       "    </tr>\n",
       "    <tr>\n",
       "      <th>2</th>\n",
       "      <td>-49.7896</td>\n",
       "      <td>0.998717</td>\n",
       "      <td>0.065108</td>\n",
       "      <td>4.0</td>\n",
       "      <td>15.0</td>\n",
       "      <td>0.0</td>\n",
       "      <td>51.0780</td>\n",
       "      <td>20.2297</td>\n",
       "      <td>-0.759525</td>\n",
       "      <td>-2.23715</td>\n",
       "      <td>...</td>\n",
       "      <td>-2.06146</td>\n",
       "      <td>-2.17582</td>\n",
       "      <td>-2.78047</td>\n",
       "      <td>-2.04658</td>\n",
       "      <td>-2.03540</td>\n",
       "      <td>-2.78248</td>\n",
       "      <td>-2.04099</td>\n",
       "      <td>-2.09051</td>\n",
       "      <td>-2.04367</td>\n",
       "      <td>-3.05486</td>\n",
       "    </tr>\n",
       "    <tr>\n",
       "      <th>3</th>\n",
       "      <td>-46.0082</td>\n",
       "      <td>0.976736</td>\n",
       "      <td>0.065108</td>\n",
       "      <td>5.0</td>\n",
       "      <td>31.0</td>\n",
       "      <td>0.0</td>\n",
       "      <td>51.0428</td>\n",
       "      <td>19.7040</td>\n",
       "      <td>-2.584180</td>\n",
       "      <td>-1.68107</td>\n",
       "      <td>...</td>\n",
       "      <td>-1.91895</td>\n",
       "      <td>-2.14664</td>\n",
       "      <td>-3.15015</td>\n",
       "      <td>-1.90181</td>\n",
       "      <td>-1.85696</td>\n",
       "      <td>-2.40800</td>\n",
       "      <td>-1.96977</td>\n",
       "      <td>-2.03655</td>\n",
       "      <td>-1.95342</td>\n",
       "      <td>-2.56294</td>\n",
       "    </tr>\n",
       "    <tr>\n",
       "      <th>4</th>\n",
       "      <td>-45.7172</td>\n",
       "      <td>0.963376</td>\n",
       "      <td>0.065108</td>\n",
       "      <td>4.0</td>\n",
       "      <td>15.0</td>\n",
       "      <td>0.0</td>\n",
       "      <td>47.4573</td>\n",
       "      <td>20.5999</td>\n",
       "      <td>-2.697740</td>\n",
       "      <td>-1.53200</td>\n",
       "      <td>...</td>\n",
       "      <td>-2.11813</td>\n",
       "      <td>-1.90730</td>\n",
       "      <td>-2.94664</td>\n",
       "      <td>-1.90242</td>\n",
       "      <td>-2.01380</td>\n",
       "      <td>-1.90414</td>\n",
       "      <td>-1.73870</td>\n",
       "      <td>-2.10980</td>\n",
       "      <td>-1.82158</td>\n",
       "      <td>-3.57114</td>\n",
       "    </tr>\n",
       "  </tbody>\n",
       "</table>\n",
       "<p>5 rows × 108 columns</p>\n",
       "</div>"
      ],
      "text/plain": [
       "      lp__  accept_stat__  stepsize__  treedepth__  n_leapfrog__  divergent__  \\\n",
       "0 -46.6891       0.944533    0.065108          3.0           7.0          0.0   \n",
       "1 -50.2391       0.969993    0.065108          5.0          31.0          0.0   \n",
       "2 -49.7896       0.998717    0.065108          4.0          15.0          0.0   \n",
       "3 -46.0082       0.976736    0.065108          5.0          31.0          0.0   \n",
       "4 -45.7172       0.963376    0.065108          4.0          15.0          0.0   \n",
       "\n",
       "   energy__    alpha    beta_w  beta_cyl  ...  log_lik[23]  log_lik[24]  \\\n",
       "0   49.7642  20.6616 -3.305270  -1.67300  ...     -2.18773     -2.21841   \n",
       "1   52.8008  19.3446 -0.969397  -2.26176  ...     -1.89581     -1.89263   \n",
       "2   51.0780  20.2297 -0.759525  -2.23715  ...     -2.06146     -2.17582   \n",
       "3   51.0428  19.7040 -2.584180  -1.68107  ...     -1.91895     -2.14664   \n",
       "4   47.4573  20.5999 -2.697740  -1.53200  ...     -2.11813     -1.90730   \n",
       "\n",
       "   log_lik[25]  log_lik[26]  log_lik[27]  log_lik[28]  log_lik[29]  \\\n",
       "0     -2.79671     -2.17078     -2.27431     -2.03779     -2.15248   \n",
       "1     -3.64031     -1.92394     -1.89330     -3.03124     -2.21061   \n",
       "2     -2.78047     -2.04658     -2.03540     -2.78248     -2.04099   \n",
       "3     -3.15015     -1.90181     -1.85696     -2.40800     -1.96977   \n",
       "4     -2.94664     -1.90242     -2.01380     -1.90414     -1.73870   \n",
       "\n",
       "   log_lik[30]  log_lik[31]  log_lik[32]  \n",
       "0     -2.40667     -2.05690     -3.13642  \n",
       "1     -1.89358     -2.40074     -2.93937  \n",
       "2     -2.09051     -2.04367     -3.05486  \n",
       "3     -2.03655     -1.95342     -2.56294  \n",
       "4     -2.10980     -1.82158     -3.57114  \n",
       "\n",
       "[5 rows x 108 columns]"
      ]
     },
     "execution_count": 67,
     "metadata": {},
     "output_type": "execute_result"
    }
   ],
   "source": [
    "draws = fit_prior.draws_pd()\n",
    "draws.head()"
   ]
  },
  {
   "cell_type": "code",
   "execution_count": 68,
   "id": "f2e6b9c3-afc2-4d45-aa04-dd9c60ad7ba8",
   "metadata": {},
   "outputs": [],
   "source": [
    "fit_1 = az.from_cmdstanpy(\n",
    "    posterior=fit_posterior,\n",
    "    log_likelihood='log_lik',\n",
    "    posterior_predictive=[\"y_rep\"], \n",
    "    observed_data={\"mpg\": data['mpg']},\n",
    ")\n",
    "\n",
    "fit_2 = az.from_cmdstanpy(\n",
    "    posterior=fit_prior,\n",
    "    log_likelihood='log_lik',\n",
    "    posterior_predictive=[\"y_rep\"], \n",
    "    observed_data={\"mpg\": data['mpg']},\n",
    ")\n",
    "\n"
   ]
  },
  {
   "cell_type": "code",
   "execution_count": 69,
   "id": "0043cefc-461a-4f12-b77d-683f66458e6b",
   "metadata": {},
   "outputs": [
    {
     "data": {
      "text/html": [
       "<div>\n",
       "<style scoped>\n",
       "    .dataframe tbody tr th:only-of-type {\n",
       "        vertical-align: middle;\n",
       "    }\n",
       "\n",
       "    .dataframe tbody tr th {\n",
       "        vertical-align: top;\n",
       "    }\n",
       "\n",
       "    .dataframe thead th {\n",
       "        text-align: right;\n",
       "    }\n",
       "</style>\n",
       "<table border=\"1\" class=\"dataframe\">\n",
       "  <thead>\n",
       "    <tr style=\"text-align: right;\">\n",
       "      <th></th>\n",
       "      <th>rank</th>\n",
       "      <th>loo</th>\n",
       "      <th>p_loo</th>\n",
       "      <th>d_loo</th>\n",
       "      <th>weight</th>\n",
       "      <th>se</th>\n",
       "      <th>dse</th>\n",
       "      <th>warning</th>\n",
       "      <th>loo_scale</th>\n",
       "    </tr>\n",
       "  </thead>\n",
       "  <tbody>\n",
       "    <tr>\n",
       "      <th>Prior</th>\n",
       "      <td>0</td>\n",
       "      <td>-78.333320</td>\n",
       "      <td>4.660150</td>\n",
       "      <td>0.000000</td>\n",
       "      <td>1.0</td>\n",
       "      <td>4.378235</td>\n",
       "      <td>0.000000</td>\n",
       "      <td>False</td>\n",
       "      <td>log</td>\n",
       "    </tr>\n",
       "    <tr>\n",
       "      <th>Posterior</th>\n",
       "      <td>1</td>\n",
       "      <td>-78.454802</td>\n",
       "      <td>4.799945</td>\n",
       "      <td>0.121483</td>\n",
       "      <td>0.0</td>\n",
       "      <td>4.443459</td>\n",
       "      <td>0.297466</td>\n",
       "      <td>False</td>\n",
       "      <td>log</td>\n",
       "    </tr>\n",
       "  </tbody>\n",
       "</table>\n",
       "</div>"
      ],
      "text/plain": [
       "           rank        loo     p_loo     d_loo  weight        se       dse  \\\n",
       "Prior         0 -78.333320  4.660150  0.000000     1.0  4.378235  0.000000   \n",
       "Posterior     1 -78.454802  4.799945  0.121483     0.0  4.443459  0.297466   \n",
       "\n",
       "           warning loo_scale  \n",
       "Prior        False       log  \n",
       "Posterior    False       log  "
      ]
     },
     "execution_count": 69,
     "metadata": {},
     "output_type": "execute_result"
    }
   ],
   "source": [
    "model_compare = az.compare(dataset_dict ={\n",
    "    'Posterior':fit_1,\n",
    "    'Prior':fit_2\n",
    "})\n",
    "model_compare"
   ]
  },
  {
   "cell_type": "code",
   "execution_count": 70,
   "id": "ae0919ac-f635-45c8-a940-80ea3c7417d7",
   "metadata": {},
   "outputs": [
    {
     "data": {
      "image/png": "[encoded data removed]",
      "text/plain": [
       "<Figure size 432x144 with 1 Axes>"
      ]
     },
     "metadata": {
      "needs_background": "light"
     },
     "output_type": "display_data"
    }
   ],
   "source": [
    "az.plot_compare(model_compare)\n",
    "plt.show()"
   ]
  },
  {
   "cell_type": "code",
   "execution_count": null,
   "id": "66e52743-6e31-49bd-b303-c2afd05c3fa4",
   "metadata": {},
   "outputs": [],
   "source": []
  },
  {
   "cell_type": "code",
   "execution_count": null,
   "id": "611ec8aa-682b-45df-b46a-ebafbb79338f",
   "metadata": {},
   "outputs": [],
   "source": []
  },
  {
   "cell_type": "code",
   "execution_count": null,
   "id": "82de3209-8474-4dbd-99e9-2a5e63de7d27",
   "metadata": {},
   "outputs": [],
   "source": []
  },
  {
   "cell_type": "code",
   "execution_count": null,
   "id": "a25f4acb-969d-4001-8e19-91cbe33b3578",
   "metadata": {},
   "outputs": [],
   "source": []
  },
  {
   "cell_type": "code",
   "execution_count": null,
   "id": "c5fcb8a5-6ac6-43b3-a1bd-285608db81f3",
   "metadata": {},
   "outputs": [],
   "source": []
  },
  {
   "cell_type": "code",
   "execution_count": null,
   "id": "ee7cafec-36f7-4e05-9e64-5b1305f2e1d5",
   "metadata": {},
   "outputs": [],
   "source": []
  },
  {
   "cell_type": "code",
   "execution_count": null,
   "id": "5cbfc096-e347-4bef-aedc-8846b9bcfabe",
   "metadata": {},
   "outputs": [],
   "source": []
  }
 ],
 "metadata": {
  "kernelspec": {
   "display_name": "Python 3 (ipykernel)",
   "language": "python",
   "name": "python3"
  },
  "language_info": {
   "codemirror_mode": {
    "name": "ipython",
    "version": 3
   },
   "file_extension": ".py",
   "mimetype": "text/x-python",
   "name": "python",
   "nbconvert_exporter": "python",
   "pygments_lexer": "ipython3",
   "version": "3.9.7"
  }
 },
 "nbformat": 4,
 "nbformat_minor": 5
}
