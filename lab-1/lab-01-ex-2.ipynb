{
 "cells": [
  {
   "cell_type": "code",
   "execution_count": 1,
   "id": "a33621cd",
   "metadata": {},
   "outputs": [],
   "source": [
    "import os\n",
    "from cmdstanpy import cmdstan_path, CmdStanModel"
   ]
  },
  {
   "cell_type": "code",
   "execution_count": null,
   "id": "c3b1f688",
   "metadata": {},
   "outputs": [],
   "source": [
    "# Installation of [```cmdstanpy```](https://cmdstanpy.readthedocs.io/en/v0.9.68/index.html)\n",
    "# 1. Install ```cmdstanpy``` package\n",
    "# 2. Install cmdstan\n",
    "# 2. Create a dataset (as a dictionary) of F+L binary samples with F zeros and L ones, with F=number of letters in first name, L=number of letters in last name. Dictionary needs to consist of N=F+L, and y = list of samples.\n",
    "# 3. Create a cmdstanpy model from ```bern_1.stan``` code provided.\n",
    "# 4. Sample from the model using the dataset and ```.sample()``` method\n",
    "# 5. Extract $\\theta$ variable and create its histogram.\n",
    "# 6. Using ```.summary()``` method get mean, median and 5% and 95% quantiles of theta, and mark them on the histogram."
   ]
  },
  {
   "cell_type": "code",
   "execution_count": 15,
   "id": "819419cc",
   "metadata": {},
   "outputs": [],
   "source": [
    "# N = 14\n",
    "# F = 7 // Dominik\n",
    "# L = 7 // Wozniak\n",
    "data = {\n",
    "  'N': 14,\n",
    "  'y': [0,1,1,1,0,1,1,0,0,1,0,0,1,1]\n",
    "}"
   ]
  },
  {
   "cell_type": "code",
   "execution_count": 16,
   "id": "d6378f0c",
   "metadata": {},
   "outputs": [
    {
     "name": "stderr",
     "output_type": "stream",
     "text": [
      "INFO:cmdstanpy:compiling stan file /Users/dominikwozniak/study/data_analytics/bern_1.stan to exe file /Users/dominikwozniak/study/data_analytics/bern_1\n",
      "INFO:cmdstanpy:compiled model executable: /Users/dominikwozniak/study/data_analytics/bern_1\n"
     ]
    }
   ],
   "source": [
    "bernoulli_model = CmdStanModel(stan_file='bern_1.stan')"
   ]
  },
  {
   "cell_type": "code",
   "execution_count": 43,
   "id": "792ac9b3",
   "metadata": {},
   "outputs": [
    {
     "name": "stderr",
     "output_type": "stream",
     "text": [
      "INFO:cmdstanpy:created output directory: /Users/dominikwozniak/study/data_analytics/results\n",
      "INFO:cmdstanpy:CmdStan start procesing\n"
     ]
    },
    {
     "data": {
      "application/vnd.jupyter.widget-view+json": {
       "model_id": "66a410a10eee40528ff4985a86c124b4",
       "version_major": 2,
       "version_minor": 0
      },
      "text/plain": [
       "chain 1 |          | 00:00 Status"
      ]
     },
     "metadata": {},
     "output_type": "display_data"
    },
    {
     "data": {
      "application/vnd.jupyter.widget-view+json": {
       "model_id": "3bce83e976474e51bf7c51b9da17713d",
       "version_major": 2,
       "version_minor": 0
      },
      "text/plain": [
       "chain 2 |          | 00:00 Status"
      ]
     },
     "metadata": {},
     "output_type": "display_data"
    },
    {
     "data": {
      "application/vnd.jupyter.widget-view+json": {
       "model_id": "d95a3b97e83a4ed5aaee75a62b91f242",
       "version_major": 2,
       "version_minor": 0
      },
      "text/plain": [
       "chain 3 |          | 00:00 Status"
      ]
     },
     "metadata": {},
     "output_type": "display_data"
    },
    {
     "data": {
      "application/vnd.jupyter.widget-view+json": {
       "model_id": "a37b6753c2d649b79214404cd98ea048",
       "version_major": 2,
       "version_minor": 0
      },
      "text/plain": [
       "chain 4 |          | 00:00 Status"
      ]
     },
     "metadata": {},
     "output_type": "display_data"
    },
    {
     "name": "stdout",
     "output_type": "stream",
     "text": [
      "                                                                                                                                                                                                                                                                                                                                "
     ]
    },
    {
     "name": "stderr",
     "output_type": "stream",
     "text": [
      "INFO:cmdstanpy:CmdStan done processing.\n"
     ]
    },
    {
     "name": "stdout",
     "output_type": "stream",
     "text": [
      "\n"
     ]
    }
   ],
   "source": [
    "bern_fit = bernoulli_model.sample(data=data, output_dir='results')"
   ]
  },
  {
   "cell_type": "code",
   "execution_count": 18,
   "id": "ca91fc28",
   "metadata": {},
   "outputs": [
    {
     "name": "stdout",
     "output_type": "stream",
     "text": [
      "CmdStanMCMC: model=bern_1 chains=4['method=sample', 'algorithm=hmc', 'adapt', 'engaged=1']\n",
      " csv_files:\n",
      "\t/Users/dominikwozniak/study/data_analytics/bern_1-20220305104405_1.csv\n",
      "\t/Users/dominikwozniak/study/data_analytics/bern_1-20220305104405_2.csv\n",
      "\t/Users/dominikwozniak/study/data_analytics/bern_1-20220305104405_3.csv\n",
      "\t/Users/dominikwozniak/study/data_analytics/bern_1-20220305104405_4.csv\n",
      " output_files:\n",
      "\t/Users/dominikwozniak/study/data_analytics/bern_1-20220305104405_0-stdout.txt\n",
      "\t/Users/dominikwozniak/study/data_analytics/bern_1-20220305104405_1-stdout.txt\n",
      "\t/Users/dominikwozniak/study/data_analytics/bern_1-20220305104405_2-stdout.txt\n",
      "\t/Users/dominikwozniak/study/data_analytics/bern_1-20220305104405_3-stdout.txt\n"
     ]
    }
   ],
   "source": [
    "print(bern_fit)"
   ]
  },
  {
   "cell_type": "code",
   "execution_count": 19,
   "id": "11a5d638",
   "metadata": {},
   "outputs": [
    {
     "data": {
      "text/plain": [
       "(1000, 4, 8)"
      ]
     },
     "execution_count": 19,
     "metadata": {},
     "output_type": "execute_result"
    }
   ],
   "source": [
    "bern_fit.draws().shape"
   ]
  },
  {
   "cell_type": "code",
   "execution_count": 20,
   "id": "84b2566a",
   "metadata": {},
   "outputs": [],
   "source": [
    "thetas = bern_fit.stan_variable('theta')"
   ]
  },
  {
   "cell_type": "code",
   "execution_count": 26,
   "id": "b0ad1232",
   "metadata": {},
   "outputs": [
    {
     "data": {
      "text/html": [
       "<div>\n",
       "<style scoped>\n",
       "    .dataframe tbody tr th:only-of-type {\n",
       "        vertical-align: middle;\n",
       "    }\n",
       "\n",
       "    .dataframe tbody tr th {\n",
       "        vertical-align: top;\n",
       "    }\n",
       "\n",
       "    .dataframe thead th {\n",
       "        text-align: right;\n",
       "    }\n",
       "</style>\n",
       "<table border=\"1\" class=\"dataframe\">\n",
       "  <thead>\n",
       "    <tr style=\"text-align: right;\">\n",
       "      <th></th>\n",
       "      <th>Mean</th>\n",
       "      <th>MCSE</th>\n",
       "      <th>StdDev</th>\n",
       "      <th>5%</th>\n",
       "      <th>50%</th>\n",
       "      <th>95%</th>\n",
       "      <th>N_Eff</th>\n",
       "      <th>N_Eff/s</th>\n",
       "      <th>R_hat</th>\n",
       "    </tr>\n",
       "    <tr>\n",
       "      <th>name</th>\n",
       "      <th></th>\n",
       "      <th></th>\n",
       "      <th></th>\n",
       "      <th></th>\n",
       "      <th></th>\n",
       "      <th></th>\n",
       "      <th></th>\n",
       "      <th></th>\n",
       "      <th></th>\n",
       "    </tr>\n",
       "  </thead>\n",
       "  <tbody>\n",
       "    <tr>\n",
       "      <th>lp__</th>\n",
       "      <td>-11.00</td>\n",
       "      <td>0.0150</td>\n",
       "      <td>0.66</td>\n",
       "      <td>-13.00</td>\n",
       "      <td>-11.00</td>\n",
       "      <td>-11.00</td>\n",
       "      <td>1900.0</td>\n",
       "      <td>20000.0</td>\n",
       "      <td>1.0</td>\n",
       "    </tr>\n",
       "    <tr>\n",
       "      <th>theta</th>\n",
       "      <td>0.57</td>\n",
       "      <td>0.0031</td>\n",
       "      <td>0.12</td>\n",
       "      <td>0.37</td>\n",
       "      <td>0.57</td>\n",
       "      <td>0.76</td>\n",
       "      <td>1500.0</td>\n",
       "      <td>16000.0</td>\n",
       "      <td>1.0</td>\n",
       "    </tr>\n",
       "  </tbody>\n",
       "</table>\n",
       "</div>"
      ],
      "text/plain": [
       "        Mean    MCSE  StdDev     5%    50%    95%   N_Eff  N_Eff/s  R_hat\n",
       "name                                                                     \n",
       "lp__  -11.00  0.0150    0.66 -13.00 -11.00 -11.00  1900.0  20000.0    1.0\n",
       "theta   0.57  0.0031    0.12   0.37   0.57   0.76  1500.0  16000.0    1.0"
      ]
     },
     "execution_count": 26,
     "metadata": {},
     "output_type": "execute_result"
    }
   ],
   "source": [
    "summary = bern_fit.summary()\n",
    "summary.head()"
   ]
  },
  {
   "cell_type": "code",
   "execution_count": 32,
   "id": "cca9ea44",
   "metadata": {},
   "outputs": [],
   "source": [
    "theta = summary.loc['theta']\n",
    "theta_mean = thetas.mean()\n",
    "theta_median = theta['50%']\n",
    "quantile5 = theta['5%']\n",
    "quantile95 = theta['95%']"
   ]
  },
  {
   "cell_type": "code",
   "execution_count": 22,
   "id": "f7a7ac46",
   "metadata": {},
   "outputs": [],
   "source": [
    "import matplotlib.pyplot as plt"
   ]
  },
  {
   "cell_type": "code",
   "execution_count": 42,
   "id": "7d2aa475",
   "metadata": {},
   "outputs": [
    {
     "data": {
      "image/png": "[encoded data removed]",
      "text/plain": [
       "<Figure size 432x288 with 1 Axes>"
      ]
     },
     "metadata": {
      "needs_background": "light"
     },
     "output_type": "display_data"
    }
   ],
   "source": [
    "plt.hist(thetas, bins=50, density=True)\n",
    "plt.axvline(x=theta_mean, color='r')\n",
    "plt.axvline(x=theta_median, color='y')\n",
    "plt.axvline(x=quantile5, color='c')\n",
    "plt.axvline(x=quantile95, color='g')\n",
    "plt.show()"
   ]
  },
  {
   "cell_type": "code",
   "execution_count": null,
   "id": "1a924742",
   "metadata": {},
   "outputs": [],
   "source": []
  },
  {
   "cell_type": "code",
   "execution_count": null,
   "id": "ff75224a",
   "metadata": {},
   "outputs": [],
   "source": []
  },
  {
   "cell_type": "code",
   "execution_count": null,
   "id": "46e2b08e",
   "metadata": {},
   "outputs": [],
   "source": []
  }
 ],
 "metadata": {
  "kernelspec": {
   "display_name": "Python 3 (ipykernel)",
   "language": "python",
   "name": "python3"
  },
  "language_info": {
   "codemirror_mode": {
    "name": "ipython",
    "version": 3
   },
   "file_extension": ".py",
   "mimetype": "text/x-python",
   "name": "python",
   "nbconvert_exporter": "python",
   "pygments_lexer": "ipython3",
   "version": "3.9.7"
  }
 },
 "nbformat": 4,
 "nbformat_minor": 5
}
