{
  "cells": [
    {
      "cell_type": "code",
      "execution_count": null,
      "id": "e0a17c7c-bbbe-4e08-8aec-1318af9e7bbb",
      "metadata": {
        "id": "e0a17c7c-bbbe-4e08-8aec-1318af9e7bbb"
      },
      "outputs": [],
      "source": [
        "from cmdstanpy import CmdStanModel\n",
        "import arviz as az\n",
        "import numpy as np\n",
        "import pandas as pd\n",
        "import matplotlib.pyplot as plt"
      ]
    },
    {
      "cell_type": "code",
      "execution_count": null,
      "id": "67b6dcf6-4748-4368-8c25-516dbe587619",
      "metadata": {
        "id": "67b6dcf6-4748-4368-8c25-516dbe587619"
      },
      "outputs": [],
      "source": [
        "F = len('Dominik')\n",
        "L = len('Wozniak')\n",
        "N = (L+F) * 100"
      ]
    },
    {
      "cell_type": "code",
      "execution_count": null,
      "id": "13bc3f2f-3fe0-4a2b-a4dc-3d436f7c776b",
      "metadata": {
        "id": "13bc3f2f-3fe0-4a2b-a4dc-3d436f7c776b"
      },
      "outputs": [],
      "source": [
        "# ex 1)\n",
        "# Compile code_1.stan and code_2.stan"
      ]
    },
    {
      "cell_type": "code",
      "execution_count": null,
      "id": "70496091-1c6d-4237-a2ff-9a3e40b082b3",
      "metadata": {
        "id": "70496091-1c6d-4237-a2ff-9a3e40b082b3"
      },
      "outputs": [],
      "source": [
        "model1 = CmdStanModel(stan_file='code_1.stan', seed = 9012022)"
      ]
    },
    {
      "cell_type": "code",
      "execution_count": null,
      "id": "f2d555b0-3af4-42f1-b2a5-229e78659291",
      "metadata": {
        "id": "f2d555b0-3af4-42f1-b2a5-229e78659291"
      },
      "outputs": [],
      "source": [
        "model2 = CmdStanModel(stan_file='code_2.stan')"
      ]
    },
    {
      "cell_type": "code",
      "execution_count": null,
      "id": "233dcc7f-a51d-490c-b476-fb9151403ec6",
      "metadata": {
        "id": "233dcc7f-a51d-490c-b476-fb9151403ec6"
      },
      "outputs": [],
      "source": [
        "# Generate data for rest of excercises"
      ]
    },
    {
      "cell_type": "code",
      "execution_count": null,
      "id": "523dff54-7a8a-471b-92e7-732e3e3a9e35",
      "metadata": {
        "id": "523dff54-7a8a-471b-92e7-732e3e3a9e35"
      },
      "outputs": [],
      "source": [
        "stan_data =  {\n",
        "    'N' :N\n",
        "}"
      ]
    },
    {
      "cell_type": "code",
      "execution_count": null,
      "id": "ecbdc42f-4dca-46eb-8931-b53d1c7d18b3",
      "metadata": {
        "id": "ecbdc42f-4dca-46eb-8931-b53d1c7d18b3"
      },
      "outputs": [],
      "source": [
        "samples_model1 = model1.sample(data=stan_data)\n",
        "y1 = samples_model1.stan_variable(var='y')"
      ]
    },
    {
      "cell_type": "code",
      "execution_count": null,
      "id": "d9772c7e-ad29-40eb-b761-8c3362dd9a6b",
      "metadata": {
        "id": "d9772c7e-ad29-40eb-b761-8c3362dd9a6b"
      },
      "outputs": [],
      "source": [
        "samples_model2 = model2.sample(data=stan_data)\n",
        "y2 = samples_model2.stan_variable(var='y')"
      ]
    },
    {
      "cell_type": "code",
      "execution_count": null,
      "id": "017fa742-b4fc-4def-a648-c2e3eba3c63a",
      "metadata": {
        "id": "017fa742-b4fc-4def-a648-c2e3eba3c63a"
      },
      "outputs": [],
      "source": [
        "# ex 2)\n",
        "# compile both models\n",
        "model3 = CmdStanModel(stan_file='code_3.stan')\n",
        "model4 = CmdStanModel(stan_file='code_4.stan')"
      ]
    },
    {
      "cell_type": "code",
      "execution_count": null,
      "id": "5054fe1b-4ebb-4ea6-ae48-3203b755ba0f",
      "metadata": {
        "id": "5054fe1b-4ebb-4ea6-ae48-3203b755ba0f"
      },
      "outputs": [],
      "source": [
        "# fit both models\n",
        "stan_data={'N': N, 'y': y1[0]}\n",
        "fit_3 = model3.sample(data=stan_data)"
      ]
    },
    {
      "cell_type": "code",
      "execution_count": null,
      "id": "0a28299d-f9fe-4c5e-8cda-2a09b194ed74",
      "metadata": {
        "id": "0a28299d-f9fe-4c5e-8cda-2a09b194ed74"
      },
      "outputs": [],
      "source": [
        "stan_data={'N': N, 'y': y2[0]}\n",
        "fit_4 = model4.sample(data=stan_data)"
      ]
    },
    {
      "cell_type": "code",
      "execution_count": null,
      "id": "bcc13ab5-1c2d-4c88-9795-0a56a754ce9f",
      "metadata": {
        "id": "bcc13ab5-1c2d-4c88-9795-0a56a754ce9f"
      },
      "outputs": [],
      "source": [
        "# Using az.compare and az.plot_compare analyze both models using loo and waic criteria"
      ]
    },
    {
      "cell_type": "code",
      "execution_count": null,
      "id": "9268959a-df8c-4604-8182-42ff2196d9ff",
      "metadata": {
        "id": "9268959a-df8c-4604-8182-42ff2196d9ff"
      },
      "outputs": [],
      "source": [
        "compare = {\n",
        "    \"model_3\": fit_3,\n",
        "    \"model_4\": fit_4\n",
        "}\n",
        "\n",
        "def compare_models(data_dict, type):\n",
        "    model_loo=az.compare(data_dict, ic=type)\n",
        "    az.plot_compare(model_loo)\n"
      ]
    },
    {
      "cell_type": "code",
      "execution_count": null,
      "id": "67c4233f-51ae-43f8-bce2-47b069dfe3c2",
      "metadata": {
        "id": "67c4233f-51ae-43f8-bce2-47b069dfe3c2"
      },
      "outputs": [],
      "source": [
        "compare_models(compare, 'loo')"
      ]
    },
    {
      "cell_type": "code",
      "execution_count": null,
      "id": "47eef333-8d04-4623-a2f1-1f0a87375b3e",
      "metadata": {
        "id": "47eef333-8d04-4623-a2f1-1f0a87375b3e"
      },
      "outputs": [],
      "source": [
        "compare_models(compare, 'waic')"
      ]
    },
    {
      "cell_type": "code",
      "execution_count": null,
      "id": "356b0b8f-f1c4-4f2b-b14c-0f1a2dd61c4c",
      "metadata": {
        "id": "356b0b8f-f1c4-4f2b-b14c-0f1a2dd61c4c"
      },
      "outputs": [],
      "source": [
        "# ex 3)\n",
        "# compile model\n"
      ]
    },
    {
      "cell_type": "code",
      "execution_count": null,
      "id": "21a22e21-9de4-47cc-99f3-a2cb1a1efa7a",
      "metadata": {
        "id": "21a22e21-9de4-47cc-99f3-a2cb1a1efa7a"
      },
      "outputs": [],
      "source": [
        "# compare models for 1, 2 and 3 predictors as in previous excercise"
      ]
    },
    {
      "cell_type": "code",
      "execution_count": null,
      "id": "5b206dbb-227a-479f-94c9-2e16cc11382b",
      "metadata": {
        "id": "5b206dbb-227a-479f-94c9-2e16cc11382b"
      },
      "outputs": [],
      "source": [
        "model5 = CmdStanModel(stan_file='code_5.stan')"
      ]
    },
    {
      "cell_type": "code",
      "execution_count": null,
      "id": "1f4fdac4-521c-4132-8f61-a83fc0db1a5b",
      "metadata": {
        "id": "1f4fdac4-521c-4132-8f61-a83fc0db1a5b"
      },
      "outputs": [],
      "source": [
        "y_hat=fit_4.stan_variable('y_hat')\n",
        "\n",
        "X1=y_hat[0:1].transpose() \n",
        "data5_1= {\n",
        "    \"N\": N,\n",
        "    \"K\": 1,\n",
        "    \"y\": y2[0],\n",
        "    \"X\": X1\n",
        "}\n",
        "\n",
        "fit5_1=model5.sample(data=data5_1)\n",
        "X2=y_hat[0:2].transpose()\n",
        "data5_2 = {\n",
        "    \"N\": N,\n",
        "    \"K\": 2,\n",
        "    \"y\": y2[0],\n",
        "    \"X\": X2\n",
        "}\n",
        "\n",
        "fit5_2=model5.sample(data=data5_2)\n",
        "X3=y_hat[0:3].transpose()\n",
        "\n",
        "data5_3 = {\n",
        "    \"N\": N,\n",
        "    \"K\": 3,\n",
        "    \"y\": y2[0],\n",
        "    \"X\": X3\n",
        "}\n",
        "fit5_3=model5.sample(data=data5_3)"
      ]
    },
    {
      "cell_type": "code",
      "execution_count": null,
      "id": "2a0caad9-6f55-46d0-8ac2-c003bbe44622",
      "metadata": {
        "id": "2a0caad9-6f55-46d0-8ac2-c003bbe44622"
      },
      "outputs": [],
      "source": [
        "compare = {\n",
        "    \"model5_1\": fit5_1,\n",
        "    \"model5_2\": fit5_2,\n",
        "    \"model5_3\": fit5_3\n",
        "}"
      ]
    },
    {
      "cell_type": "code",
      "execution_count": null,
      "id": "9765b4d9-17cc-488f-b452-4a553ff11b30",
      "metadata": {
        "id": "9765b4d9-17cc-488f-b452-4a553ff11b30"
      },
      "outputs": [],
      "source": [
        "compare_models(compare, 'loo')"
      ]
    },
    {
      "cell_type": "code",
      "execution_count": null,
      "id": "a00fb2fd-98c1-4b2d-b6ae-8e738e74e83a",
      "metadata": {
        "id": "a00fb2fd-98c1-4b2d-b6ae-8e738e74e83a"
      },
      "outputs": [],
      "source": [
        "compare_models(compare, 'waic')"
      ]
    },
    {
      "cell_type": "code",
      "execution_count": null,
      "id": "73821827-0fd1-497b-ba2b-878c7e4e397b",
      "metadata": {
        "id": "73821827-0fd1-497b-ba2b-878c7e4e397b"
      },
      "outputs": [],
      "source": [
        ""
      ]
    }
  ],
  "metadata": {
    "kernelspec": {
      "display_name": "Python 3 (ipykernel)",
      "language": "python",
      "name": "python3"
    },
    "language_info": {
      "codemirror_mode": {
        "name": "ipython",
        "version": 3
      },
      "file_extension": ".py",
      "mimetype": "text/x-python",
      "name": "python",
      "nbconvert_exporter": "python",
      "pygments_lexer": "ipython3",
      "version": "3.9.7"
    },
    "colab": {
      "name": "lab_7.ipynb",
      "provenance": []
    }
  },
  "nbformat": 4,
  "nbformat_minor": 5
}